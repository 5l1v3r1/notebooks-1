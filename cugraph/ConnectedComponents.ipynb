{
 "cells": [
  {
   "cell_type": "markdown",
   "metadata": {},
   "source": [
    "# Connected Components\n",
    "\n",
    "In this notebook, we will use cuGraph to compute weakly and strongly connected components of a graph and display some useful information about the resulting components.\n",
    "\n",
    "Notebook Credits\n",
    "* Original Authors: Kumar Aatish\n",
    "* Last Edit: 08/05/2019\n",
    "\n",
    "RAPIDS Versions: 0.9.0    \n",
    "\n",
    "Test Hardware\n",
    "\n",
    "* GV100 32G, CUDA 10,1\n",
    "\n",
    "\n",
    "\n",
    "## Introduction\n",
    "\n",
    "To compute WCC for a graph in cuGraph we use:\n",
    "**cugraph.weakly_connected_components(G)**\n",
    "\n",
    "To compute SCC for a graph in cuGraph we use:\n",
    "**cugraph.strongly_connected_components(G)**\n",
    "\n",
    "Both of these calls have identical api:  \n",
    "\n",
    "Input\n",
    "* __G__: cugraph.Graph object\n",
    "\n",
    "Returns \n",
    "* __df__:  a cudf.DataFrame object with two columns:\n",
    "    * df['labels'][i]: Gives the label id of the i'th vertex\n",
    "    * df['vertices'][i]: Gives the vertex id of the i'th vertex\n",
    "\n",
    "\n",
    "\n",
    "## cuGraph 0.9 Notice \n",
    "cuGraph version 0.9 has some limitations:\n",
    "* Only Int32 Vertex ID are supported\n",
    "* Vertex numbering is assumed to start at zero\n",
    "\n",
    "These limitations are being addressed and will be fixed future versions.  \n",
    "These example notebooks will illustrate how to manipulate the data so that it comforms to the current limitations."
   ]
  },
  {
   "cell_type": "markdown",
   "metadata": {},
   "source": [
    "### Test Data\n",
    "We will be using the Netscience dataset :  \n",
    "*M. E. J. Newman, Finding community structure in networks using the eigenvectors of matrices, Preprint physics/0605087 (2006)*\n",
    "\n",
    "Netscience Adjacency Matrix               |NetScience Strongly Connected Components\n",
    ":-----------------------------------------|--------------------------------------------------:\n",
    "![](./img/netscience.png \"Credit : https://www.cise.ufl.edu/research/sparse/matrices/Newman/netscience\") | ![](./img/netscience_scc.png \"Credit : https://www.cise.ufl.edu/research/sparse/matrices/Newman/netscience\")\n",
    "\n",
    "Matrix pictures by [cspy](http://www.cise.ufl.edu/research/sparse/CSparse/CSparse/MATLAB/CSparse/cspy.m), a MATLAB function in the [CSparse](http://www.cise.ufl.edu/research/sparse/CSparse) package.  \n",
    "Matrix graphs by Yifan Hu, AT&T Labs Visualization Group."
   ]
  },
  {
   "cell_type": "code",
   "execution_count": 1,
   "metadata": {},
   "outputs": [],
   "source": [
    "# Import needed libraries\n",
    "import cugraph\n",
    "import cudf\n",
    "import numpy as np\n",
    "from collections import OrderedDict"
   ]
  },
  {
   "cell_type": "markdown",
   "metadata": {},
   "source": [
    "### 1. Read graph data from file"
   ]
  },
  {
   "cell_type": "code",
   "execution_count": 2,
   "metadata": {},
   "outputs": [
    {
     "data": {
      "text/html": [
       "<div>\n",
       "<style scoped>\n",
       "    .dataframe tbody tr th:only-of-type {\n",
       "        vertical-align: middle;\n",
       "    }\n",
       "\n",
       "    .dataframe tbody tr th {\n",
       "        vertical-align: top;\n",
       "    }\n",
       "\n",
       "    .dataframe thead th {\n",
       "        text-align: right;\n",
       "    }\n",
       "</style>\n",
       "<table border=\"1\" class=\"dataframe\">\n",
       "  <thead>\n",
       "    <tr style=\"text-align: right;\">\n",
       "      <th></th>\n",
       "      <th>src</th>\n",
       "      <th>dst</th>\n",
       "    </tr>\n",
       "  </thead>\n",
       "  <tbody>\n",
       "    <tr>\n",
       "      <th>0</th>\n",
       "      <td>1</td>\n",
       "      <td>0</td>\n",
       "    </tr>\n",
       "    <tr>\n",
       "      <th>1</th>\n",
       "      <td>1084</td>\n",
       "      <td>0</td>\n",
       "    </tr>\n",
       "    <tr>\n",
       "      <th>2</th>\n",
       "      <td>946</td>\n",
       "      <td>1</td>\n",
       "    </tr>\n",
       "    <tr>\n",
       "      <th>3</th>\n",
       "      <td>1084</td>\n",
       "      <td>1</td>\n",
       "    </tr>\n",
       "    <tr>\n",
       "      <th>4</th>\n",
       "      <td>3</td>\n",
       "      <td>2</td>\n",
       "    </tr>\n",
       "  </tbody>\n",
       "</table>\n",
       "</div>"
      ],
      "text/plain": [
       "    src  dst\n",
       "0     1    0\n",
       "1  1084    0\n",
       "2   946    1\n",
       "3  1084    1\n",
       "4     3    2"
      ]
     },
     "execution_count": 2,
     "metadata": {},
     "output_type": "execute_result"
    }
   ],
   "source": [
    "datafile='./data/netscience.csv'\n",
    "cols = [\"src\", \"dst\", \"wgt\"]\n",
    "\n",
    "dtypes = OrderedDict([\n",
    "        (\"src\", \"int32\"), \n",
    "        (\"dst\", \"int32\"),\n",
    "        (\"wgt\", \"float32\")\n",
    "        ])\n",
    "usecols = [\"src\", \"dst\"]\n",
    "gdf = cudf.read_csv(datafile, names=cols, usecols = usecols, delimiter=' ', dtype=list(dtypes.values()) )\n",
    "gdf.head().to_pandas()"
   ]
  },
  {
   "cell_type": "markdown",
   "metadata": {},
   "source": [
    "### 2. Create a Graph from an edge list"
   ]
  },
  {
   "cell_type": "code",
   "execution_count": 3,
   "metadata": {},
   "outputs": [],
   "source": [
    "G = cugraph.Graph()\n",
    "G.add_edge_list(gdf[\"src\"], gdf[\"dst\"])"
   ]
  },
  {
   "cell_type": "markdown",
   "metadata": {},
   "source": [
    "### 3a. Call Weakly Connected Components"
   ]
  },
  {
   "cell_type": "code",
   "execution_count": 4,
   "metadata": {},
   "outputs": [
    {
     "name": "stdout",
     "output_type": "stream",
     "text": [
      "    labels  vertices\n",
      "0       1         0\n",
      "1       1         1\n",
      "2       3         2\n",
      "3       3         3\n",
      "4       3         4\n",
      "5       3         5\n",
      "6       3         6\n",
      "7       8         7\n",
      "8       8         8\n",
      "9       8         9\n",
      "[1579 more rows]\n"
     ]
    }
   ],
   "source": [
    "df = cugraph.weakly_connected_components(G)\n",
    "print(df)"
   ]
  },
  {
   "cell_type": "markdown",
   "metadata": {},
   "source": [
    "#### Get total number of weakly connected components"
   ]
  },
  {
   "cell_type": "code",
   "execution_count": 5,
   "metadata": {},
   "outputs": [],
   "source": [
    "label_gby = df.groupby('labels')\n",
    "label_count = label_gby.count()\n",
    "largest_component = label_count.nlargest(n = 1, columns = 'vertices')"
   ]
  },
  {
   "cell_type": "code",
   "execution_count": 6,
   "metadata": {},
   "outputs": [
    {
     "name": "stdout",
     "output_type": "stream",
     "text": [
      "Total number of components found :  396\n",
      "Size of the largest component is found to be :  379\n"
     ]
    }
   ],
   "source": [
    "print(\"Total number of components found : \", len(label_count))\n",
    "print(\"Size of the largest component is found to be : \", largest_component['vertices'][0])"
   ]
  },
  {
   "cell_type": "markdown",
   "metadata": {},
   "source": [
    "#### Output vertex ids belonging to a weakly connected component label"
   ]
  },
  {
   "cell_type": "code",
   "execution_count": 7,
   "metadata": {
    "scrolled": false
   },
   "outputs": [
    {
     "name": "stdout",
     "output_type": "stream",
     "text": [
      "Vertex Ids that belong to component label 1 : \n",
      "   labels  vertices\n",
      "0       1         0\n",
      "1       1         1\n",
      "946       1       946\n",
      "1084       1      1084\n"
     ]
    }
   ],
   "source": [
    "expr = \"labels == 1\"\n",
    "component = df.query(expr)\n",
    "print(\"Vertex Ids that belong to component label 1 : \")\n",
    "print(component)"
   ]
  },
  {
   "cell_type": "markdown",
   "metadata": {},
   "source": [
    "### 3b. Call Strongly Connected Components"
   ]
  },
  {
   "cell_type": "code",
   "execution_count": 8,
   "metadata": {},
   "outputs": [
    {
     "name": "stdout",
     "output_type": "stream",
     "text": [
      "    labels  vertices\n",
      "0       0         0\n",
      "1       0         1\n",
      "2       2         2\n",
      "3       2         3\n",
      "4       2         4\n",
      "5       2         5\n",
      "6       2         6\n",
      "7       7         7\n",
      "8       7         8\n",
      "9       7         9\n",
      "[1579 more rows]\n"
     ]
    }
   ],
   "source": [
    "df = cugraph.strongly_connected_components(G)\n",
    "print(df)"
   ]
  },
  {
   "cell_type": "markdown",
   "metadata": {},
   "source": [
    "#### Get total number of strongly connected components"
   ]
  },
  {
   "cell_type": "code",
   "execution_count": 9,
   "metadata": {},
   "outputs": [],
   "source": [
    "label_gby = df.groupby('labels')\n",
    "label_count = label_gby.count()\n",
    "largest_component = label_count.nlargest(n = 1, columns = 'vertices')"
   ]
  },
  {
   "cell_type": "code",
   "execution_count": 10,
   "metadata": {},
   "outputs": [
    {
     "name": "stdout",
     "output_type": "stream",
     "text": [
      "Total number of components found :  396\n",
      "Size of the largest component is found to be :  379\n"
     ]
    }
   ],
   "source": [
    "print(\"Total number of components found : \", len(label_count))\n",
    "print(\"Size of the largest component is found to be : \", largest_component['vertices'][0])"
   ]
  },
  {
   "cell_type": "markdown",
   "metadata": {},
   "source": [
    "#### Output vertex ids belonging to a strongly connected component label"
   ]
  },
  {
   "cell_type": "code",
   "execution_count": 11,
   "metadata": {
    "scrolled": true
   },
   "outputs": [
    {
     "name": "stdout",
     "output_type": "stream",
     "text": [
      "Vertex Ids that belong to component label 2 : \n",
      "   labels  vertices\n",
      "2       2         2\n",
      "3       2         3\n",
      "4       2         4\n",
      "5       2         5\n",
      "6       2         6\n"
     ]
    }
   ],
   "source": [
    "expr = \"labels == 2\"\n",
    "component = df.query(expr)\n",
    "print(\"Vertex Ids that belong to component label 2 : \")\n",
    "print(component)"
   ]
  },
  {
   "cell_type": "markdown",
   "metadata": {},
   "source": [
    "___\n",
    "Copyright (c) 2019, NVIDIA CORPORATION.\n",
    "\n",
    "Licensed under the Apache License, Version 2.0 (the \"License\");  you may not use this file except in compliance with the License. You may obtain a copy of the License at http://www.apache.org/licenses/LICENSE-2.0\n",
    "\n",
    "Unless required by applicable law or agreed to in writing, software distributed under the License is distributed on an \"AS IS\" BASIS, WITHOUT WARRANTIES OR CONDITIONS OF ANY KIND, either express or implied. See the License for the specific language governing permissions and limitations under the License.\n",
    "___"
   ]
  }
 ],
 "metadata": {
  "kernelspec": {
   "display_name": "Python 3",
   "language": "python",
   "name": "python3"
  },
  "language_info": {
   "codemirror_mode": {
    "name": "ipython",
    "version": 3
   },
   "file_extension": ".py",
   "mimetype": "text/x-python",
   "name": "python",
   "nbconvert_exporter": "python",
   "pygments_lexer": "ipython3",
   "version": "3.7.3"
  }
 },
 "nbformat": 4,
 "nbformat_minor": 2
}
