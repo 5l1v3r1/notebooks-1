{
 "cells": [
  {
   "cell_type": "markdown",
   "metadata": {},
   "source": [
    "## Jaccard Similarity\n",
    "Jaccard similarity is defined between two sets as the ratio of the volume of their intersection divided by the volume of their union. In the context of graphs, the neighborhood of a vertex is seen as a set. The Jaccard similarity weight of each edge represents the strength of connection between vertices based on the relative similarity of their neighbors. For further detail see [Wikipedia](https://en.wikipedia.org/wiki/Jaccard_index)\n",
    "\n",
    "To Compute the Jaccard similarity between each pair of vertices connected by an edge in cuGraph use: \n",
    "**nvJaccard(G)**\n",
    "* G: A cugraph.Graph object\n",
    "\n",
    "Returns:\n",
    "jaccard_weights: cudf.DataFrame with three columns:\n",
    "* jaccard_weights['source']: The source vertex id.\n",
    "* jaccard_weights['destination']: The destination vertex id.\n",
    "* jaccard_weights['jaccard_coeff']: The jaccard coefficient computed between the source and destination vertex."
   ]
  },
  {
   "cell_type": "code",
   "execution_count": 1,
   "metadata": {},
   "outputs": [],
   "source": [
    "# Import needed libraries\n",
    "import cugraph\n",
    "import cudf\n",
    "import numpy as np\n",
    "from scipy.io import mmread"
   ]
  },
  {
   "cell_type": "code",
   "execution_count": 2,
   "metadata": {},
   "outputs": [],
   "source": [
    "# Read in the data file into scipy matrix format\n",
    "mmFile='/datasets/networks/karate.mtx'\n",
    "M = mmread(mmFile).asfptype().tolil()\n",
    "M = M.tocsr()"
   ]
  },
  {
   "cell_type": "code",
   "execution_count": 3,
   "metadata": {},
   "outputs": [],
   "source": [
    "# Load the structure of the graph into GPU memory and create a CuGraph\n",
    "# graph object:\n",
    "row_offsets = cudf.Series(M.indptr)\n",
    "col_indices = cudf.Series(M.indices)\n",
    "values = cudf.Series(M.data)\n",
    "G = cugraph.Graph()\n",
    "G.add_adj_list(row_offsets, col_indices, values)"
   ]
  },
  {
   "cell_type": "code",
   "execution_count": 8,
   "metadata": {},
   "outputs": [],
   "source": [
    "# Call cugraph.nvJaccard \n",
    "df = cugraph.nvJaccard(G)"
   ]
  },
  {
   "cell_type": "code",
   "execution_count": 14,
   "metadata": {
    "scrolled": true
   },
   "outputs": [
    {
     "name": "stdout",
     "output_type": "stream",
     "text": [
      "Vertices 0 and 7 are most similar with score: 1.0384594e+34\n"
     ]
    }
   ],
   "source": [
    "# Find the most similar pair of vertices\n",
    "bestEdge = 0\n",
    "for i in range(len(df)):\n",
    "    if df['jaccard_coeff'][i] > df['jaccard_coeff'][bestEdge]:\n",
    "        bestEdge = i\n",
    "print(\"Vertices \" + str(df['source'][bestEdge]) + \" and \" + str(df['destination'][bestEdge]) + \" are most similar with score: \" + str(df['jaccard_coeff'][bestEdge]))"
   ]
  },
  {
   "cell_type": "code",
   "execution_count": null,
   "metadata": {},
   "outputs": [],
   "source": []
  }
 ],
 "metadata": {
  "kernelspec": {
   "display_name": "Python 3",
   "language": "python",
   "name": "python3"
  },
  "language_info": {
   "codemirror_mode": {
    "name": "ipython",
    "version": 3
   },
   "file_extension": ".py",
   "mimetype": "text/x-python",
   "name": "python",
   "nbconvert_exporter": "python",
   "pygments_lexer": "ipython3",
   "version": "3.7.1"
  }
 },
 "nbformat": 4,
 "nbformat_minor": 2
}
