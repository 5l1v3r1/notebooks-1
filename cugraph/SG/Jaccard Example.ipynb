{
 "cells": [
  {
   "cell_type": "markdown",
   "metadata": {},
   "source": [
    "# Jaccard Similarity\n",
    "\n",
    "In this notebook, we will use cuGraph to compute the Jaccard similarity and run analytics on our training dataset\n",
    "\n",
    "Notebook Credits\n",
    "* Original Authors: Bradley Rees and James Wyles\n",
    "* Last Edit: 03/08/2019\n",
    "\n",
    "RAPIDS Versions: 0.6.0    \n",
    "\n",
    "Test Hardward\n",
    "\n",
    "* GP100 32G, CUDA 9,2\n",
    "\n",
    "\n",
    "\n",
    "## Introduction\n",
    "The Jaccard similarity between two sets is defined as the ratio of the volume of their intersection divided by the volume of their union. In the context of graphs, the volum of a vertex refers to the neighborhood of that vertex.<br>\n",
    "\n",
    "The neighbors of a vertex, v, is defined as the set, U, of vertices connected by way of an edge to vertex v, or N(v) = {U} where v ∈V and ∀ u∈U ∃ edge(v,u)∈E.\n",
    "\n",
    "\n",
    "The Jaccard can be defined as<br>\n",
    "\n",
    "$Jaccard(i, j) = \\frac{|(N(i)  \\cap  N(j)))|}{|(N(i)  \\cup  N(j))|}$\n",
    "<br>\n",
    "\n",
    "The Jaccard similarity weight of each edge represents the strength of connection between vertices based on the relative similarity of their neighbors. For further detail see [Wikipedia](https://en.wikipedia.org/wiki/Jaccard_index)\n",
    "\n",
    "To compute the Jaccard similarity between all-pairs of vertices connected by an edge in cuGraph use: \n",
    "**nvJaccard(G)**\n",
    "* __G__: A cugraph.Graph object\n",
    "\n",
    "Returns:\n",
    "* __df__: cudf.DataFrame with three names columns:\n",
    "    * df[\"source\"]: The source vertex id.\n",
    "    * df[\"destination\"]: The destination vertex id.\n",
    "    * df[\"jaccard_coeff\"]: The jaccard coefficient computed between the source and destination vertex.\n",
    "    \n",
    "    \n",
    "## cuGraph 0.6 Notice \n",
    "cuGraph version 0.6 has some limitations:\n",
    "* Only Int32 Vertex ID are supported\n",
    "* Only float (FP32) edge data is supported\n",
    "* Vertex numbering is assumed to start at zero\n",
    "\n",
    "These limitations are being addressed and will be fixed future versions.  \n",
    "These example notebooks will illustrate how to manipulate the data so that it comforms to the current limitations    \n",
    "    \n",
    "\n",
    "\n",
    "    "
   ]
  },
  {
   "cell_type": "markdown",
   "metadata": {},
   "source": [
    "### Test Data\n",
    "We will be using the Zachary Karate club dataset \n",
    "*W. W. Zachary, An information flow model for conflict and fission in small groups, Journal of\n",
    "Anthropological Research 33, 452-473 (1977).*\n",
    "\n",
    "\n",
    "![Karate Club](../img/zachary_black_lines.png)\n",
    "\n",
    "This is a small graph which allows for easy visual inspection to validate results.  "
   ]
  },
  {
   "cell_type": "code",
   "execution_count": 1,
   "metadata": {},
   "outputs": [],
   "source": [
    "# Import needed libraries\n",
    "import cugraph\n",
    "import cudf\n",
    "from collections import OrderedDict"
   ]
  },
  {
   "cell_type": "code",
   "execution_count": 2,
   "metadata": {},
   "outputs": [],
   "source": [
    "# define a function for printing the top most similar vertices\n",
    "def printMostSimilar(df):\n",
    "    bestEdge = 0\n",
    "    \n",
    "    #find the best\n",
    "    for i in range(len(df)):\n",
    "        if df['jaccard_coeff'][i] > df['jaccard_coeff'][bestEdge]:\n",
    "            bestEdge = i\n",
    "        \n",
    "    print(\"Vertices \" + str(df['source'][bestEdge]) + \" and \" + \n",
    "          str(df['destination'][bestEdge]) + \" are most similar with score: \" \n",
    "          + str(df['jaccard_coeff'][bestEdge]))"
   ]
  },
  {
   "cell_type": "code",
   "execution_count": 3,
   "metadata": {},
   "outputs": [],
   "source": [
    "# define a function for printing similar vertices based on a threshold\n",
    "def print_gt_threshold(df, limit):\n",
    "    \n",
    "    for i in range(len(df)):\n",
    "        if df['jaccard_coeff'][i] > limit:\n",
    "            print(\"Vertices \" + str(df['source'][i]) + \" and \" + \n",
    "                  str(df['destination'][i]) + \" are similar with score: \" + \n",
    "                  str(df['jaccard_coeff'][i]))"
   ]
  },
  {
   "cell_type": "markdown",
   "metadata": {},
   "source": [
    "### Read the CSV datafile using cuDF"
   ]
  },
  {
   "cell_type": "code",
   "execution_count": 4,
   "metadata": {},
   "outputs": [],
   "source": [
    "# Test file  \n",
    "datafile='../data/networks/karate-data.csv'\n",
    "\n",
    "# Read the data file\n",
    "cols = [\"src\", \"dst\"]\n",
    "\n",
    "dtypes = OrderedDict([\n",
    "        (\"src\", \"int32\"), \n",
    "        (\"dst\", \"int32\")\n",
    "        ])\n",
    "\n",
    "gdf = cudf.read_csv(datafile, names=cols, delimiter='\\t', dtype=list(dtypes.values()) )"
   ]
  },
  {
   "cell_type": "code",
   "execution_count": 5,
   "metadata": {},
   "outputs": [
    {
     "data": {
      "text/plain": [
       "<cudf.DataFrame ncols=2 nrows=154 >"
      ]
     },
     "execution_count": 5,
     "metadata": {},
     "output_type": "execute_result"
    }
   ],
   "source": [
    "# Let's look at the DataFrame. There should be two columns and 154 records\n",
    "gdf"
   ]
  },
  {
   "cell_type": "code",
   "execution_count": 6,
   "metadata": {},
   "outputs": [
    {
     "data": {
      "text/html": [
       "<div>\n",
       "<style scoped>\n",
       "    .dataframe tbody tr th:only-of-type {\n",
       "        vertical-align: middle;\n",
       "    }\n",
       "\n",
       "    .dataframe tbody tr th {\n",
       "        vertical-align: top;\n",
       "    }\n",
       "\n",
       "    .dataframe thead th {\n",
       "        text-align: right;\n",
       "    }\n",
       "</style>\n",
       "<table border=\"1\" class=\"dataframe\">\n",
       "  <thead>\n",
       "    <tr style=\"text-align: right;\">\n",
       "      <th></th>\n",
       "      <th>src</th>\n",
       "      <th>dst</th>\n",
       "    </tr>\n",
       "  </thead>\n",
       "  <tbody>\n",
       "    <tr>\n",
       "      <th>0</th>\n",
       "      <td>1</td>\n",
       "      <td>2</td>\n",
       "    </tr>\n",
       "    <tr>\n",
       "      <th>1</th>\n",
       "      <td>1</td>\n",
       "      <td>3</td>\n",
       "    </tr>\n",
       "    <tr>\n",
       "      <th>2</th>\n",
       "      <td>1</td>\n",
       "      <td>4</td>\n",
       "    </tr>\n",
       "    <tr>\n",
       "      <th>3</th>\n",
       "      <td>1</td>\n",
       "      <td>5</td>\n",
       "    </tr>\n",
       "    <tr>\n",
       "      <th>4</th>\n",
       "      <td>1</td>\n",
       "      <td>6</td>\n",
       "    </tr>\n",
       "  </tbody>\n",
       "</table>\n",
       "</div>"
      ],
      "text/plain": [
       "   src  dst\n",
       "0    1    2\n",
       "1    1    3\n",
       "2    1    4\n",
       "3    1    5\n",
       "4    1    6"
      ]
     },
     "execution_count": 6,
     "metadata": {},
     "output_type": "execute_result"
    }
   ],
   "source": [
    "# Look at the first few data records - the output should be two colums src and dst\n",
    "gdf.head().to_pandas()"
   ]
  },
  {
   "cell_type": "markdown",
   "metadata": {},
   "source": [
    "### Create a Graph and call the Jaccard analytic"
   ]
  },
  {
   "cell_type": "code",
   "execution_count": 7,
   "metadata": {},
   "outputs": [],
   "source": [
    "# create a Graph \n",
    "G = cugraph.Graph()\n",
    "G.add_edge_list(gdf[\"src\"], gdf[\"dst\"])"
   ]
  },
  {
   "cell_type": "code",
   "execution_count": 9,
   "metadata": {},
   "outputs": [
    {
     "data": {
      "text/plain": [
       "35"
      ]
     },
     "execution_count": 9,
     "metadata": {},
     "output_type": "execute_result"
    }
   ],
   "source": [
    "# How many vertices are in the graph?  Remember that Graph is zero based while teh data start at vertex 1\n",
    "G.num_vertices()"
   ]
  },
  {
   "cell_type": "markdown",
   "metadata": {},
   "source": [
    "_The Jaccard test graph has only 34 vertices, so why is the Graph listing 35?_\n",
    "\n",
    "As mentioned above, cuGraph vertex numbering is zero-based, meaning that the first vertex ID starts at zero.  The test dataset is 1-based.  Because of that, the Graph object adds an extra isolated vertex with an ID of zero.  Hence the difference in vertex count.  \n",
    "The next version of cuGraph will add a function to address this issue.  "
   ]
  },
  {
   "cell_type": "code",
   "execution_count": 10,
   "metadata": {},
   "outputs": [],
   "source": [
    "# Call cugraph.nvJaccard \n",
    "df = cugraph.nvJaccard(G)"
   ]
  },
  {
   "cell_type": "code",
   "execution_count": 11,
   "metadata": {},
   "outputs": [
    {
     "name": "stdout",
     "output_type": "stream",
     "text": [
      "Vertices 33 and 34 are most similar with score: 0.5555556\n"
     ]
    }
   ],
   "source": [
    "printMostSimilar(df)"
   ]
  },
  {
   "cell_type": "markdown",
   "metadata": {},
   "source": [
    "The Most similar shoul be 33 and 34.\n",
    "Vertex 33 has 12 neighbors, vertex 34 has 16 neighbors.  They share 10 neighbors in common:\n",
    "$jaccard = 10 / (10 + (12 -10) + (16-10)) = 10 / 18 = 0.55$"
   ]
  },
  {
   "cell_type": "code",
   "execution_count": 12,
   "metadata": {},
   "outputs": [
    {
     "name": "stdout",
     "output_type": "stream",
     "text": [
      "Vertices 4 and 8 are similar with score: 0.42857143\n",
      "Vertices 8 and 4 are similar with score: 0.42857143\n",
      "Vertices 33 and 34 are similar with score: 0.5555556\n"
     ]
    }
   ],
   "source": [
    "print_gt_threshold(df, 0.4)"
   ]
  },
  {
   "cell_type": "code",
   "execution_count": 13,
   "metadata": {},
   "outputs": [
    {
     "name": "stderr",
     "output_type": "stream",
     "text": [
      "/home/brad/anaconda3/envs/cugraph_nightly/lib/python3.7/site-packages/cudf/dataframe/dataframe.py:1685: UserWarning: as_index==True not supported due to the lack of multi-index with legacy groupby function. Use hash method for multi-index\n",
      "  'as_index==True not supported due to the lack of '\n"
     ]
    }
   ],
   "source": [
    "# Since it is a small graph we can print all scores.\n",
    "# Notice that only connected vertices are computed\n",
    "\n",
    "# let's sort the data first\n",
    "g = df.groupby(['jaccard_coeff'], method='cudf')\n"
   ]
  },
  {
   "cell_type": "code",
   "execution_count": 14,
   "metadata": {},
   "outputs": [],
   "source": [
    "df_s = g.as_df()"
   ]
  },
  {
   "cell_type": "code",
   "execution_count": 15,
   "metadata": {},
   "outputs": [
    {
     "name": "stdout",
     "output_type": "stream",
     "text": [
      "Vertices 3 and 33 are similar with score: 0.04761905\n",
      "Vertices 32 and 34 are similar with score: 0.04761905\n",
      "Vertices 33 and 3 are similar with score: 0.04761905\n",
      "Vertices 34 and 32 are similar with score: 0.04761905\n",
      "Vertices 1 and 9 are similar with score: 0.05\n",
      "Vertices 9 and 1 are similar with score: 0.05\n",
      "Vertices 9 and 34 are similar with score: 0.05\n",
      "Vertices 34 and 9 are similar with score: 0.05\n",
      "Vertices 28 and 34 are similar with score: 0.05263158\n",
      "Vertices 31 and 34 are similar with score: 0.05263158\n",
      "Vertices 34 and 28 are similar with score: 0.05263158\n",
      "Vertices 34 and 31 are similar with score: 0.05263158\n",
      "Vertices 1 and 20 are similar with score: 0.055555556\n",
      "Vertices 20 and 1 are similar with score: 0.055555556\n",
      "Vertices 29 and 34 are similar with score: 0.055555556\n",
      "Vertices 34 and 29 are similar with score: 0.055555556\n",
      "Vertices 1 and 13 are similar with score: 0.05882353\n",
      "Vertices 1 and 18 are similar with score: 0.05882353\n",
      "Vertices 1 and 22 are similar with score: 0.05882353\n",
      "Vertices 13 and 1 are similar with score: 0.05882353\n",
      "Vertices 18 and 1 are similar with score: 0.05882353\n",
      "Vertices 22 and 1 are similar with score: 0.05882353\n",
      "Vertices 27 and 34 are similar with score: 0.05882353\n",
      "Vertices 32 and 33 are similar with score: 0.05882353\n",
      "Vertices 33 and 32 are similar with score: 0.05882353\n",
      "Vertices 34 and 27 are similar with score: 0.05882353\n",
      "Vertices 15 and 33 are similar with score: 0.07692308\n",
      "Vertices 16 and 33 are similar with score: 0.07692308\n",
      "Vertices 19 and 33 are similar with score: 0.07692308\n",
      "Vertices 21 and 33 are similar with score: 0.07692308\n",
      "Vertices 33 and 15 are similar with score: 0.07692308\n",
      "Vertices 33 and 16 are similar with score: 0.07692308\n",
      "Vertices 33 and 19 are similar with score: 0.07692308\n",
      "Vertices 33 and 21 are similar with score: 0.07692308\n",
      "Vertices 2 and 20 are similar with score: 0.09090909\n",
      "Vertices 20 and 2 are similar with score: 0.09090909\n",
      "Vertices 2 and 18 are similar with score: 0.1\n",
      "Vertices 2 and 22 are similar with score: 0.1\n",
      "Vertices 18 and 2 are similar with score: 0.1\n",
      "Vertices 22 and 2 are similar with score: 0.1\n",
      "Vertices 24 and 34 are similar with score: 0.10526316\n",
      "Vertices 34 and 24 are similar with score: 0.10526316\n",
      "Vertices 1 and 6 are similar with score: 0.11111111\n",
      "Vertices 1 and 7 are similar with score: 0.11111111\n",
      "Vertices 6 and 1 are similar with score: 0.11111111\n",
      "Vertices 7 and 1 are similar with score: 0.11111111\n",
      "Vertices 30 and 34 are similar with score: 0.11111111\n",
      "Vertices 34 and 30 are similar with score: 0.11111111\n",
      "Vertices 1 and 5 are similar with score: 0.11764706\n",
      "Vertices 1 and 11 are similar with score: 0.11764706\n",
      "Vertices 5 and 1 are similar with score: 0.11764706\n",
      "Vertices 11 and 1 are similar with score: 0.11764706\n",
      "Vertices 24 and 28 are similar with score: 0.125\n",
      "Vertices 25 and 32 are similar with score: 0.125\n",
      "Vertices 26 and 32 are similar with score: 0.125\n",
      "Vertices 28 and 24 are similar with score: 0.125\n",
      "Vertices 29 and 32 are similar with score: 0.125\n",
      "Vertices 32 and 25 are similar with score: 0.125\n",
      "Vertices 32 and 26 are similar with score: 0.125\n",
      "Vertices 32 and 29 are similar with score: 0.125\n",
      "Vertices 24 and 33 are similar with score: 0.13333334\n",
      "Vertices 33 and 24 are similar with score: 0.13333334\n",
      "Vertices 4 and 13 are similar with score: 0.14285715\n",
      "Vertices 13 and 4 are similar with score: 0.14285715\n",
      "Vertices 30 and 33 are similar with score: 0.14285715\n",
      "Vertices 31 and 33 are similar with score: 0.14285715\n",
      "Vertices 33 and 30 are similar with score: 0.14285715\n",
      "Vertices 33 and 31 are similar with score: 0.14285715\n",
      "Vertices 3 and 9 are similar with score: 0.15384616\n",
      "Vertices 9 and 3 are similar with score: 0.15384616\n",
      "Vertices 1 and 14 are similar with score: 0.16666667\n",
      "Vertices 5 and 7 are similar with score: 0.16666667\n",
      "Vertices 6 and 11 are similar with score: 0.16666667\n",
      "Vertices 7 and 5 are similar with score: 0.16666667\n",
      "Vertices 11 and 6 are similar with score: 0.16666667\n",
      "Vertices 14 and 1 are similar with score: 0.16666667\n",
      "Vertices 1 and 8 are similar with score: 0.1764706\n",
      "Vertices 8 and 1 are similar with score: 0.1764706\n",
      "Vertices 5 and 11 are similar with score: 0.2\n",
      "Vertices 6 and 17 are similar with score: 0.2\n",
      "Vertices 7 and 17 are similar with score: 0.2\n",
      "Vertices 11 and 5 are similar with score: 0.2\n",
      "Vertices 17 and 6 are similar with score: 0.2\n",
      "Vertices 17 and 7 are similar with score: 0.2\n",
      "Vertices 25 and 26 are similar with score: 0.2\n",
      "Vertices 26 and 25 are similar with score: 0.2\n",
      "Vertices 27 and 30 are similar with score: 0.2\n",
      "Vertices 30 and 27 are similar with score: 0.2\n",
      "Vertices 9 and 33 are similar with score: 0.21428572\n",
      "Vertices 33 and 9 are similar with score: 0.21428572\n",
      "Vertices 1 and 3 are similar with score: 0.23809524\n",
      "Vertices 3 and 1 are similar with score: 0.23809524\n",
      "Vertices 3 and 14 are similar with score: 0.25\n",
      "Vertices 14 and 3 are similar with score: 0.25\n",
      "Vertices 2 and 3 are similar with score: 0.26666668\n",
      "Vertices 3 and 2 are similar with score: 0.26666668\n",
      "Vertices 2 and 14 are similar with score: 0.27272728\n",
      "Vertices 3 and 8 are similar with score: 0.27272728\n",
      "Vertices 8 and 3 are similar with score: 0.27272728\n",
      "Vertices 14 and 2 are similar with score: 0.27272728\n",
      "Vertices 9 and 31 are similar with score: 0.2857143\n",
      "Vertices 24 and 30 are similar with score: 0.2857143\n",
      "Vertices 30 and 24 are similar with score: 0.2857143\n",
      "Vertices 31 and 9 are similar with score: 0.2857143\n",
      "Vertices 1 and 4 are similar with score: 0.29411766\n",
      "Vertices 4 and 1 are similar with score: 0.29411766\n",
      "Vertices 2 and 8 are similar with score: 0.3\n",
      "Vertices 8 and 2 are similar with score: 0.3\n",
      "Vertices 3 and 4 are similar with score: 0.33333334\n",
      "Vertices 4 and 3 are similar with score: 0.33333334\n",
      "Vertices 6 and 7 are similar with score: 0.33333334\n",
      "Vertices 7 and 6 are similar with score: 0.33333334\n",
      "Vertices 2 and 4 are similar with score: 0.36363637\n",
      "Vertices 4 and 2 are similar with score: 0.36363637\n",
      "Vertices 4 and 14 are similar with score: 0.375\n",
      "Vertices 14 and 4 are similar with score: 0.375\n",
      "Vertices 1 and 2 are similar with score: 0.3888889\n",
      "Vertices 2 and 1 are similar with score: 0.3888889\n",
      "Vertices 4 and 8 are similar with score: 0.42857143\n",
      "Vertices 8 and 4 are similar with score: 0.42857143\n",
      "Vertices 33 and 34 are similar with score: 0.5555556\n"
     ]
    }
   ],
   "source": [
    "# The groupby as_df function returns a tuple where the first item is the dataframe\n",
    "print_gt_threshold(df_s[0], 0.0)"
   ]
  },
  {
   "cell_type": "markdown",
   "metadata": {},
   "source": [
    "### Adjusting the vertex ID\n",
    "Let's adjust all the vertex IDs to be zero based.  We are goingto do this by adding two new columns with the adjusted IDs"
   ]
  },
  {
   "cell_type": "code",
   "execution_count": 16,
   "metadata": {},
   "outputs": [],
   "source": [
    "gdf[\"src_0\"] = gdf[\"src\"] - 1\n",
    "gdf[\"dst_0\"] = gdf[\"dst\"] - 1"
   ]
  },
  {
   "cell_type": "code",
   "execution_count": 17,
   "metadata": {},
   "outputs": [],
   "source": [
    "# create a new Graph \n",
    "G2 = cugraph.Graph()\n",
    "G2.add_edge_list(gdf[\"src_0\"], gdf[\"dst_0\"])"
   ]
  },
  {
   "cell_type": "code",
   "execution_count": 18,
   "metadata": {},
   "outputs": [
    {
     "data": {
      "text/plain": [
       "34"
      ]
     },
     "execution_count": 18,
     "metadata": {},
     "output_type": "execute_result"
    }
   ],
   "source": [
    "# How many vertices are in the graph?  Remember that Graph is zero based while teh data start at vertex 1\n",
    "G2.num_vertices()"
   ]
  },
  {
   "cell_type": "markdown",
   "metadata": {},
   "source": [
    "The number of vertices mnow matches what is in the test graph"
   ]
  },
  {
   "cell_type": "code",
   "execution_count": 19,
   "metadata": {},
   "outputs": [],
   "source": [
    "# Call cugraph.nvJaccard \n",
    "df2 = cugraph.nvJaccard(G2)"
   ]
  },
  {
   "cell_type": "code",
   "execution_count": 20,
   "metadata": {},
   "outputs": [
    {
     "name": "stdout",
     "output_type": "stream",
     "text": [
      "Vertices 32 and 33 are most similar with score: 0.5555556\n"
     ]
    }
   ],
   "source": [
    "printMostSimilar(df2)"
   ]
  },
  {
   "cell_type": "markdown",
   "metadata": {},
   "source": [
    "Adjusting the vertices back yields 33 and 34 which matches the orginal results.\n",
    "For Jaccard, the fact that vertex IDs do not start of 0 is not an issue"
   ]
  },
  {
   "cell_type": "code",
   "execution_count": null,
   "metadata": {},
   "outputs": [],
   "source": []
  },
  {
   "cell_type": "markdown",
   "metadata": {},
   "source": [
    "___\n",
    "Copyright (c) 2019, NVIDIA CORPORATION.\n",
    "\n",
    "Licensed under the Apache License, Version 2.0 (the \"License\");  you may not use this file except in compliance with the License. You may obtain a copy of the License at http://www.apache.org/licenses/LICENSE-2.0\n",
    "\n",
    "Unless required by applicable law or agreed to in writing, software distributed under the License is distributed on an \"AS IS\" BASIS, WITHOUT WARRANTIES OR CONDITIONS OF ANY KIND, either express or implied. See the License for the specific language governing permissions and limitations under the License.\n",
    "___"
   ]
  },
  {
   "cell_type": "code",
   "execution_count": null,
   "metadata": {},
   "outputs": [],
   "source": []
  }
 ],
 "metadata": {
  "kernelspec": {
   "display_name": "Python 3",
   "language": "python",
   "name": "python3"
  },
  "language_info": {
   "codemirror_mode": {
    "name": "ipython",
    "version": 3
   },
   "file_extension": ".py",
   "mimetype": "text/x-python",
   "name": "python",
   "nbconvert_exporter": "python",
   "pygments_lexer": "ipython3",
   "version": "3.7.1"
  }
 },
 "nbformat": 4,
 "nbformat_minor": 2
}
