{
 "cells": [
  {
   "cell_type": "code",
   "execution_count": 1,
   "metadata": {},
   "outputs": [],
   "source": [
    "# Breadth first search (BFS) traverses the given graph in a breadth \n",
    "# first manner, starting at the given vertex. It returns for each \n",
    "# vertex: the BFS distance (i.e. the number of hops to reach that \n",
    "# vertex from the given starting vertex) and the predecessor of the \n",
    "# node (i.e. the vertex it was reached from during the search)"
   ]
  },
  {
   "cell_type": "code",
   "execution_count": 2,
   "metadata": {},
   "outputs": [],
   "source": [
    "# Import the needed libraries\n",
    "import cugraph\n",
    "import cudf\n",
    "import numpy as np\n",
    "from scipy.io import mmread"
   ]
  },
  {
   "cell_type": "code",
   "execution_count": 3,
   "metadata": {},
   "outputs": [],
   "source": [
    "# Read in the data file into scipy matrix format\n",
    "mmFile='/datasets/networks/karate.mtx'\n",
    "M = mmread(mmFile).asfptype().tolil()\n",
    "M = M.tocsr()"
   ]
  },
  {
   "cell_type": "code",
   "execution_count": 4,
   "metadata": {},
   "outputs": [],
   "source": [
    "# Load the structure of the graph into GPU memory and create a CuGraph\n",
    "# graph object:\n",
    "row_offsets = cudf.Series(M.indptr)\n",
    "col_indices = cudf.Series(M.indices)\n",
    "values = cudf.Series(M.data)\n",
    "G = cugraph.Graph()\n",
    "G.add_adj_list(row_offsets, col_indices, values)"
   ]
  },
  {
   "cell_type": "code",
   "execution_count": 5,
   "metadata": {},
   "outputs": [],
   "source": [
    "# Call BFS on the graph starting from vertex 0\n",
    "df = cugraph.bfs(G,0)"
   ]
  },
  {
   "cell_type": "code",
   "execution_count": 7,
   "metadata": {},
   "outputs": [
    {
     "name": "stdout",
     "output_type": "stream",
     "text": [
      "Vertex: 22 was reached from vertex 32\n",
      "Vertex: 32 was reached from vertex 2\n",
      "Vertex: 2 was reached from vertex 0\n"
     ]
    }
   ],
   "source": [
    "# Use the BFS predecessors and distance to trace the path from vertex\n",
    "# 22 back to the starting vertex 0:\n",
    "dist = df['distance'][22]\n",
    "lastVert = 22\n",
    "for i in range(dist):\n",
    "    nextVert = df['predecessor'][lastVert]\n",
    "    print(\"Vertex: \" + str(lastVert) + \" was reached from vertex \" + str(nextVert))\n",
    "    lastVert = nextVert"
   ]
  },
  {
   "cell_type": "code",
   "execution_count": null,
   "metadata": {},
   "outputs": [],
   "source": []
  }
 ],
 "metadata": {
  "kernelspec": {
   "display_name": "Python 3",
   "language": "python",
   "name": "python3"
  },
  "language_info": {
   "codemirror_mode": {
    "name": "ipython",
    "version": 3
   },
   "file_extension": ".py",
   "mimetype": "text/x-python",
   "name": "python",
   "nbconvert_exporter": "python",
   "pygments_lexer": "ipython3",
   "version": "3.7.1"
  }
 },
 "nbformat": 4,
 "nbformat_minor": 2
}
