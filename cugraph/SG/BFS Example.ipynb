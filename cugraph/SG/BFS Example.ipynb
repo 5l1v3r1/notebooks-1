{
 "cells": [
  {
   "cell_type": "markdown",
   "metadata": {},
   "source": [
    "# Breadth First Search (BFS) \n",
    "\n",
    "As the name implies, BFS traverses the given graph in a breadth first manner. Starting at a specified vertex, the algorithms iteratively searches neighboring vertices.  \n",
    "\n",
    "The algorithm returns, for each vertex:\n",
    "* the BFS distance (i.e. the number of hops to reach that vertex from starting vertex) \n",
    "* the predecessor of the node (i.e. the vertex it was reached from during the search)\n",
    "\n",
    "@see https://en.wikipedia.org/wiki/Breadth-first_search\n",
    "\n",
    "\n",
    "Let's get started\n",
    "___"
   ]
  },
  {
   "cell_type": "code",
   "execution_count": 1,
   "metadata": {},
   "outputs": [],
   "source": [
    "# First step is always to import the needed libraries\n",
    "import cugraph\n",
    "import cudf\n",
    "\n",
    "import numpy as np\n",
    "from scipy.io import mmread\n",
    "\n",
    "import os.path\n",
    "from collections import OrderedDict"
   ]
  },
  {
   "cell_type": "code",
   "execution_count": 2,
   "metadata": {},
   "outputs": [],
   "source": [
    "# define a print path function\n",
    "def print_path(df):\n",
    "    \n",
    "    # Use the BFS predecessors and distance to trace the path from vertex\n",
    "    # 22 back to the starting vertex 0:\n",
    "    dist = df['distance'][22]\n",
    "    lastVert = 22\n",
    "    for i in range(dist):\n",
    "        nextVert = df['predecessor'][lastVert]\n",
    "        print(\"Vertex: \" + str(lastVert) + \" was reached from vertex \" + str(nextVert))\n",
    "        lastVert = nextVert"
   ]
  },
  {
   "cell_type": "markdown",
   "metadata": {},
   "source": [
    "# Using read_csv from cuDF"
   ]
  },
  {
   "cell_type": "code",
   "execution_count": null,
   "metadata": {},
   "outputs": [],
   "source": [
    "# Test file  - using the clasic Karate club dataset.  \n",
    "datafile='../data/networks/karate-data.csv'"
   ]
  },
  {
   "cell_type": "code",
   "execution_count": null,
   "metadata": {},
   "outputs": [],
   "source": [
    "# Make sure that the datasets are available\n",
    "if not os.path.isfile(datafile):\n",
    "    print(\"Data File NOT found\")"
   ]
  },
  {
   "cell_type": "code",
   "execution_count": null,
   "metadata": {},
   "outputs": [],
   "source": [
    "# Read the data file\n",
    "cols = [\"src\", \"dst\"]\n",
    "\n",
    "dtypes = OrderedDict([\n",
    "        (\"src\", \"int32\"), \n",
    "        (\"dst\", \"int32\")\n",
    "        ])\n",
    "\n",
    "gdf = cudf.read_csv(datafile, names=cols, delimiter='\\t', dtype=list(dtypes.values()), )\n"
   ]
  },
  {
   "cell_type": "code",
   "execution_count": null,
   "metadata": {},
   "outputs": [],
   "source": [
    "# Let's look at the DataFrame. There should be two columns and 154 records\n",
    "gdf"
   ]
  },
  {
   "cell_type": "code",
   "execution_count": null,
   "metadata": {},
   "outputs": [],
   "source": [
    "# Look at the first few data records - the output should be two colums src and dst\n",
    "gdf.head().to_pandas()"
   ]
  },
  {
   "cell_type": "code",
   "execution_count": null,
   "metadata": {},
   "outputs": [],
   "source": [
    "# create a Graph \n",
    "G1 = cugraph.Graph()\n",
    "G1.add_edge_list(gdf[\"src\"], gdf[\"dst\"])"
   ]
  },
  {
   "cell_type": "code",
   "execution_count": null,
   "metadata": {},
   "outputs": [],
   "source": [
    "# How many vertices are in the graph?\n",
    "G1.num_vertices()"
   ]
  },
  {
   "cell_type": "code",
   "execution_count": null,
   "metadata": {},
   "outputs": [],
   "source": [
    "# Call BFS on the graph starting from vertex 0\n",
    "df1 = cugraph.bfs(G1,0)"
   ]
  },
  {
   "cell_type": "code",
   "execution_count": null,
   "metadata": {},
   "outputs": [],
   "source": [
    "print_path(df1)"
   ]
  },
  {
   "cell_type": "code",
   "execution_count": null,
   "metadata": {},
   "outputs": [],
   "source": []
  },
  {
   "cell_type": "code",
   "execution_count": null,
   "metadata": {},
   "outputs": [],
   "source": []
  },
  {
   "cell_type": "markdown",
   "metadata": {},
   "source": [
    "# As a Matrix file using scipy"
   ]
  },
  {
   "cell_type": "code",
   "execution_count": 3,
   "metadata": {},
   "outputs": [],
   "source": [
    "# Test file  - using the clasic Karate club dataset.  \n",
    "mmFile='../data/networks/karate.mtx'"
   ]
  },
  {
   "cell_type": "code",
   "execution_count": 4,
   "metadata": {},
   "outputs": [],
   "source": [
    "# Make sure that the datasets are available\n",
    "import os.path\n",
    "import subprocess\n",
    "\n",
    "if not os.path.isfile(mmFile):\n",
    "    print(\"Data File NOT found\")"
   ]
  },
  {
   "cell_type": "code",
   "execution_count": 5,
   "metadata": {},
   "outputs": [],
   "source": [
    "# Read in the data file into scipy matrix format\n",
    "\n",
    "M = mmread(mmFile).asfptype().tolil()\n",
    "M = M.tocsr()"
   ]
  },
  {
   "cell_type": "code",
   "execution_count": 6,
   "metadata": {},
   "outputs": [],
   "source": [
    "# Load the structure of the graph into GPU memory and create a CuGraph\n",
    "# graph object:\n",
    "row_offsets = cudf.Series(M.indptr)\n",
    "col_indices = cudf.Series(M.indices)\n",
    "values = cudf.Series(M.data)\n",
    "\n",
    "G2 = cugraph.Graph()\n",
    "G2.add_adj_list(row_offsets, col_indices, values)"
   ]
  },
  {
   "cell_type": "code",
   "execution_count": 7,
   "metadata": {},
   "outputs": [],
   "source": [
    "# Call BFS on the graph starting from vertex 0\n",
    "df2 = cugraph.bfs(G2,0)"
   ]
  },
  {
   "cell_type": "code",
   "execution_count": 8,
   "metadata": {},
   "outputs": [
    {
     "name": "stdout",
     "output_type": "stream",
     "text": [
      "Vertex: 22 was reached from vertex 32\n",
      "Vertex: 32 was reached from vertex 2\n",
      "Vertex: 2 was reached from vertex 0\n"
     ]
    }
   ],
   "source": [
    "print_path(df2)"
   ]
  },
  {
   "cell_type": "code",
   "execution_count": null,
   "metadata": {},
   "outputs": [],
   "source": []
  },
  {
   "cell_type": "markdown",
   "metadata": {},
   "source": [
    "___\n",
    "Copyright (c) 2019, NVIDIA CORPORATION.\n",
    "\n",
    "Licensed under the Apache License, Version 2.0 (the \"License\");  you may not use this file except in compliance with the License. You may obtain a copy of the License at http://www.apache.org/licenses/LICENSE-2.0\n",
    "\n",
    "Unless required by applicable law or agreed to in writing, software distributed under the License is distributed on an \"AS IS\" BASIS, WITHOUT WARRANTIES OR CONDITIONS OF ANY KIND, either express or implied. See the License for the specific language governing permissions and limitations under the License.\n",
    "___"
   ]
  }
 ],
 "metadata": {
  "kernelspec": {
   "display_name": "Python 3",
   "language": "python",
   "name": "python3"
  },
  "language_info": {
   "codemirror_mode": {
    "name": "ipython",
    "version": 3
   },
   "file_extension": ".py",
   "mimetype": "text/x-python",
   "name": "python",
   "nbconvert_exporter": "python",
   "pygments_lexer": "ipython3",
   "version": "3.7.1"
  }
 },
 "nbformat": 4,
 "nbformat_minor": 2
}
