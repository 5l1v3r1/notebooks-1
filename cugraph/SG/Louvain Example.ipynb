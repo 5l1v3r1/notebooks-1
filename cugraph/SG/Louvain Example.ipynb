{
 "cells": [
  {
   "cell_type": "markdown",
   "metadata": {},
   "source": [
    "# Louvain Community Detection\n",
    "\n",
    "The Louvain method of community detection is a greedy algorithm which seeks to optimize Modularity as it progresses. \n",
    "\n",
    "For a detailed description of the algorithm see: https://en.wikipedia.org/wiki/Louvain_Modularity\n",
    "\n",
    "It takes as input a cugraph.Graph object and returns as output a \n",
    "cudf.Dataframe object with the id and assigned partition for each \n",
    "vertex as well as the final modularity score"
   ]
  },
  {
   "cell_type": "code",
   "execution_count": 1,
   "metadata": {},
   "outputs": [],
   "source": [
    "# Import needed libraries\n",
    "import cugraph\n",
    "import cudf\n",
    "import numpy as np\n",
    "from scipy.io import mmread\n",
    "from collections import OrderedDict"
   ]
  },
  {
   "cell_type": "code",
   "execution_count": 3,
   "metadata": {},
   "outputs": [],
   "source": [
    "# define a function to print the results\n",
    "def print_parts(df, mod):\n",
    "    \n",
    "    #print the Modularity Score\n",
    "    print('Modularity was {mod}')\n",
    "    # See which nodes are in partition 0:\n",
    "    part = []\n",
    "    for i in range(len(df)):\n",
    "        if (df['partition'][i] == 0):\n",
    "            part.append(df['vertex'][i])\n",
    "    print(part)"
   ]
  },
  {
   "cell_type": "markdown",
   "metadata": {},
   "source": [
    "## Reading a CSV file using cuDF"
   ]
  },
  {
   "cell_type": "code",
   "execution_count": 4,
   "metadata": {},
   "outputs": [],
   "source": [
    "# Test file  - using the clasic Karate club dataset.  \n",
    "datafile='../data/networks/karate-data.csv'"
   ]
  },
  {
   "cell_type": "code",
   "execution_count": 5,
   "metadata": {},
   "outputs": [],
   "source": [
    "# Read the data file\n",
    "cols = [\"src\", \"dst\"]\n",
    "\n",
    "dtypes = OrderedDict([\n",
    "        (\"src\", \"int32\"), \n",
    "        (\"dst\", \"int32\")\n",
    "        ])\n",
    "\n",
    "gdf = cudf.read_csv(datafile, names=cols, delimiter='\\t', dtype=list(dtypes.values()), )"
   ]
  },
  {
   "cell_type": "code",
   "execution_count": 6,
   "metadata": {},
   "outputs": [],
   "source": [
    "# create a Graph \n",
    "G1 = cugraph.Graph()\n",
    "G1.add_edge_list(gdf[\"src\"], gdf[\"dst\"])"
   ]
  },
  {
   "cell_type": "code",
   "execution_count": null,
   "metadata": {},
   "outputs": [],
   "source": [
    "# Call Louvain on the graph\n",
    "df1, mod1 = cugraph.nvLouvain(G1) "
   ]
  },
  {
   "cell_type": "code",
   "execution_count": null,
   "metadata": {},
   "outputs": [],
   "source": [
    "print_parts(fd1, mod1)"
   ]
  },
  {
   "cell_type": "markdown",
   "metadata": {},
   "source": [
    "## As a Matrix file using scipy"
   ]
  },
  {
   "cell_type": "code",
   "execution_count": null,
   "metadata": {},
   "outputs": [],
   "source": [
    "# Read in the data file into scipy matrix format\n",
    "mmFile='/datasets/networks/karate.mtx'\n",
    "M = mmread(mmFile).asfptype().tolil()\n",
    "M = M.tocsr()"
   ]
  },
  {
   "cell_type": "code",
   "execution_count": null,
   "metadata": {},
   "outputs": [],
   "source": [
    "# Load the structure of the graph into GPU memory and create a CuGraph\n",
    "# graph object:\n",
    "row_offsets = cudf.Series(M.indptr)\n",
    "col_indices = cudf.Series(M.indices)\n",
    "values = cudf.Series(M.data)\n",
    "G = cugraph.Graph()\n",
    "G.add_adj_list(row_offsets, col_indices, values)"
   ]
  },
  {
   "cell_type": "code",
   "execution_count": null,
   "metadata": {},
   "outputs": [],
   "source": [
    "# Call Louvain on the graph\n",
    "df, mod = cugraph.nvLouvain(G) "
   ]
  },
  {
   "cell_type": "code",
   "execution_count": null,
   "metadata": {},
   "outputs": [],
   "source": [
    "# Check the modularity score\n",
    "mod"
   ]
  },
  {
   "cell_type": "code",
   "execution_count": null,
   "metadata": {},
   "outputs": [],
   "source": [
    "# See which nodes are in partition 0:\n",
    "part = []\n",
    "for i in range(len(df)):\n",
    "    if (df['partition'][i] == 0):\n",
    "        part.append(df['vertex'][i])\n",
    "print(part)"
   ]
  },
  {
   "cell_type": "code",
   "execution_count": null,
   "metadata": {},
   "outputs": [],
   "source": []
  }
 ],
 "metadata": {
  "kernelspec": {
   "display_name": "Python 3",
   "language": "python",
   "name": "python3"
  },
  "language_info": {
   "codemirror_mode": {
    "name": "ipython",
    "version": 3
   },
   "file_extension": ".py",
   "mimetype": "text/x-python",
   "name": "python",
   "nbconvert_exporter": "python",
   "pygments_lexer": "ipython3",
   "version": "3.7.1"
  }
 },
 "nbformat": 4,
 "nbformat_minor": 2
}
