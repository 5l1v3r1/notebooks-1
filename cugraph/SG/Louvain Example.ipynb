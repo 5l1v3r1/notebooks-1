{
 "cells": [
  {
   "cell_type": "code",
   "execution_count": 1,
   "metadata": {},
   "outputs": [],
   "source": [
    "# The Louvain method of community detection is a greedy algorithm \n",
    "# which seeks to optimize Modularity as it progresses.\n",
    "# For a detailed description of the algorithm see:\n",
    "# https://en.wikipedia.org/wiki/Louvain_Modularity\n",
    "# It takes as input a cugraph.Graph object and returns as output a \n",
    "# cudf.Dataframe object with the id and assigned partition for each \n",
    "# vertex as well as the final modularity score"
   ]
  },
  {
   "cell_type": "code",
   "execution_count": 2,
   "metadata": {},
   "outputs": [],
   "source": [
    "# Import needed libraries\n",
    "import cugraph\n",
    "import cudf\n",
    "import numpy as np\n",
    "from scipy.io import mmread"
   ]
  },
  {
   "cell_type": "code",
   "execution_count": 3,
   "metadata": {},
   "outputs": [],
   "source": [
    "# Read in the data file into scipy matrix format\n",
    "mmFile='/datasets/networks/karate.mtx'\n",
    "M = mmread(mmFile).asfptype().tolil()\n",
    "M = M.tocsr()"
   ]
  },
  {
   "cell_type": "code",
   "execution_count": 4,
   "metadata": {},
   "outputs": [],
   "source": [
    "# Load the structure of the graph into GPU memory and create a CuGraph\n",
    "# graph object:\n",
    "row_offsets = cudf.Series(M.indptr)\n",
    "col_indices = cudf.Series(M.indices)\n",
    "values = cudf.Series(M.data)\n",
    "G = cugraph.Graph()\n",
    "G.add_adj_list(row_offsets, col_indices, values)"
   ]
  },
  {
   "cell_type": "code",
   "execution_count": 6,
   "metadata": {},
   "outputs": [],
   "source": [
    "# Call Louvain on the graph\n",
    "df, mod = cugraph.nvLouvain(G) "
   ]
  },
  {
   "cell_type": "code",
   "execution_count": 7,
   "metadata": {},
   "outputs": [
    {
     "data": {
      "text/plain": [
       "0.4027777777777778"
      ]
     },
     "execution_count": 7,
     "metadata": {},
     "output_type": "execute_result"
    }
   ],
   "source": [
    "# Check the modularity score\n",
    "mod"
   ]
  },
  {
   "cell_type": "code",
   "execution_count": 8,
   "metadata": {},
   "outputs": [
    {
     "name": "stdout",
     "output_type": "stream",
     "text": [
      "[0, 1, 2, 3, 7, 9, 11, 12, 13, 17, 19, 21]\n"
     ]
    }
   ],
   "source": [
    "# See which nodes are in partition 0:\n",
    "part = []\n",
    "for i in range(len(df)):\n",
    "    if (df['partition'][i] == 0):\n",
    "        part.append(df['vertex'][i])\n",
    "print(part)"
   ]
  },
  {
   "cell_type": "code",
   "execution_count": null,
   "metadata": {},
   "outputs": [],
   "source": []
  }
 ],
 "metadata": {
  "kernelspec": {
   "display_name": "Python 3",
   "language": "python",
   "name": "python3"
  },
  "language_info": {
   "codemirror_mode": {
    "name": "ipython",
    "version": 3
   },
   "file_extension": ".py",
   "mimetype": "text/x-python",
   "name": "python",
   "nbconvert_exporter": "python",
   "pygments_lexer": "ipython3",
   "version": "3.7.1"
  }
 },
 "nbformat": 4,
 "nbformat_minor": 2
}
