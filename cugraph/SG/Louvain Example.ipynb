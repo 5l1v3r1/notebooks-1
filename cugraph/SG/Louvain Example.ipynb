{
 "cells": [
  {
   "cell_type": "markdown",
   "metadata": {},
   "source": [
    "# Louvain Community Detection\n",
    "\n",
    "The Louvain method of community detection is a greedy heirarical clsutering algorithm which seeks to optimize Modularity as it progresses. Louvain starts with each vertex in its own clusters and iteratively merges groups using graph contraction.  \n",
    "\n",
    "For a detailed description of the algorithm see: https://en.wikipedia.org/wiki/Louvain_Modularity\n",
    "\n",
    "It takes as input a cugraph.Graph object and returns as output a \n",
    "cudf.Dataframe object with the id and assigned partition for each \n",
    "vertex as well as the final modularity score\n",
    "\n",
    "\n",
    "To compute the Louvain cluster in cuGraph use: \n",
    "**nvLouvain(G)**\n",
    "* __G__: A cugraph.Graph object\n",
    "\n",
    "Returns:\n",
    "\n",
    "* tupal __lovain dataframe__ and __modularity__\n",
    "\n",
    "\n",
    "* __louvain__: cudf.DataFrame with two names columns:\n",
    "    * louvain[\"vertex\"]: The vertex id.\n",
    "    * louvain[\"partition\"]: The assigned partition.\n",
    "    \n",
    "* __modularity__ : the overall modularity of the graph\n",
    "\n",
    "All vertices with the same partition ID are in the same cluster"
   ]
  },
  {
   "cell_type": "markdown",
   "metadata": {},
   "source": [
    "*Blondel, V. D., Guillaume, J.-L., Lambiotte, R., and Lefebvre, E. Fast unfolding of communities in large networks. Journal of statistical mechanics: theory and experiment 2008, 10 (2008), P10008.*"
   ]
  },
  {
   "cell_type": "markdown",
   "metadata": {},
   "source": [
    "### Test Data\n",
    "We will be using the Zachary Karate club dataset \n",
    "*W. W. Zachary, An information flow model for conflict and fission in small groups, Journal of\n",
    "Anthropological Research 33, 452-473 (1977).*\n",
    "\n",
    "\n",
    "![Karate Club](../img/zachary_black_lines.png)\n"
   ]
  },
  {
   "cell_type": "markdown",
   "metadata": {},
   "source": [
    "## cuGraph 0.6 Notice \n",
    "cuGraph version 0.6 has a number of limitations:\n",
    "* Only Int32 Vertex ID are supported\n",
    "* Only float (FP32) edge data is supported\n",
    "* Vertex numbering is assumed to start at zero\n",
    "\n",
    "These limitations are being addressed and will be fixed future versions.  \n",
    "These example notebooks will illustrate how to manipulate the data so that it comforms to the current limitations"
   ]
  },
  {
   "cell_type": "markdown",
   "metadata": {},
   "source": [
    "### Prep"
   ]
  },
  {
   "cell_type": "code",
   "execution_count": 1,
   "metadata": {},
   "outputs": [],
   "source": [
    "# Import needed libraries\n",
    "import cugraph\n",
    "import cudf\n",
    "import numpy as np\n",
    "from collections import OrderedDict"
   ]
  },
  {
   "cell_type": "markdown",
   "metadata": {},
   "source": [
    "## Read data using cuDF"
   ]
  },
  {
   "cell_type": "code",
   "execution_count": 2,
   "metadata": {},
   "outputs": [],
   "source": [
    "# Test file  - using the clasic Karate club dataset.  \n",
    "datafile='../data/networks/karate-data.csv'"
   ]
  },
  {
   "cell_type": "code",
   "execution_count": 3,
   "metadata": {},
   "outputs": [],
   "source": [
    "# Read the data file\n",
    "cols = [\"src\", \"dst\"]\n",
    "\n",
    "dtypes = OrderedDict([\n",
    "        (\"src\", \"int32\"), \n",
    "        (\"dst\", \"int32\")\n",
    "        ])\n",
    "\n",
    "gdf = cudf.read_csv(datafile, names=cols, delimiter='\\t', dtype=list(dtypes.values()) )"
   ]
  },
  {
   "cell_type": "code",
   "execution_count": 4,
   "metadata": {},
   "outputs": [],
   "source": [
    "gdf[\"src_0\"] = gdf[\"src\"] - 1\n",
    "gdf[\"dst_0\"] = gdf[\"dst\"] - 1"
   ]
  },
  {
   "cell_type": "code",
   "execution_count": 5,
   "metadata": {},
   "outputs": [],
   "source": [
    "# The algorithm requires that there are vertex weights\n",
    "gdf[\"data\"] = cudf.Series(np.zeros(len(gdf), dtype=np.float32))"
   ]
  },
  {
   "cell_type": "code",
   "execution_count": 6,
   "metadata": {},
   "outputs": [
    {
     "data": {
      "text/plain": [
       "src        int32\n",
       "dst        int32\n",
       "src_0      int32\n",
       "dst_0      int32\n",
       "data     float32\n",
       "dtype: object"
      ]
     },
     "execution_count": 6,
     "metadata": {},
     "output_type": "execute_result"
    }
   ],
   "source": [
    "gdf.dtypes"
   ]
  },
  {
   "cell_type": "code",
   "execution_count": 7,
   "metadata": {},
   "outputs": [],
   "source": [
    "# create a Graph \n",
    "G1 = cugraph.Graph()\n",
    "G1.add_edge_list(gdf[\"src_0\"], gdf[\"dst_0\"], gdf[\"data\"])"
   ]
  },
  {
   "cell_type": "code",
   "execution_count": 8,
   "metadata": {},
   "outputs": [],
   "source": [
    "# Call Louvain on the graph\n",
    "df, mod = cugraph.nvLouvain(G1) "
   ]
  },
  {
   "cell_type": "code",
   "execution_count": 9,
   "metadata": {},
   "outputs": [
    {
     "name": "stdout",
     "output_type": "stream",
     "text": [
      "Modularity was 1.0000007133930922\n",
      "\n"
     ]
    }
   ],
   "source": [
    "# Print the modularity score\n",
    "print('Modularity was {}'.format(mod))\n",
    "print()"
   ]
  },
  {
   "cell_type": "code",
   "execution_count": 10,
   "metadata": {},
   "outputs": [
    {
     "data": {
      "text/plain": [
       "vertex       int32\n",
       "partition    int32\n",
       "dtype: object"
      ]
     },
     "execution_count": 10,
     "metadata": {},
     "output_type": "execute_result"
    }
   ],
   "source": [
    "df.dtypes"
   ]
  },
  {
   "cell_type": "code",
   "execution_count": 11,
   "metadata": {},
   "outputs": [],
   "source": [
    "# How many patitions where found\n",
    "part_ids = df[\"partition\"].unique()"
   ]
  },
  {
   "cell_type": "code",
   "execution_count": 12,
   "metadata": {},
   "outputs": [
    {
     "name": "stdout",
     "output_type": "stream",
     "text": [
      "Found 1 partition\n"
     ]
    }
   ],
   "source": [
    "print(\"Found \" + str(len(part_ids)) + \" partition\")"
   ]
  },
  {
   "cell_type": "code",
   "execution_count": 15,
   "metadata": {},
   "outputs": [
    {
     "name": "stdout",
     "output_type": "stream",
     "text": [
      "Vertex ID: 0  is in partition 0\n",
      "Vertex ID: 1  is in partition 0\n",
      "Vertex ID: 2  is in partition 0\n",
      "Vertex ID: 3  is in partition 0\n",
      "Vertex ID: 4  is in partition 0\n",
      "Vertex ID: 5  is in partition 0\n",
      "Vertex ID: 6  is in partition 0\n",
      "Vertex ID: 7  is in partition 0\n",
      "Vertex ID: 8  is in partition 0\n",
      "Vertex ID: 9  is in partition 0\n",
      "Vertex ID: 10  is in partition 0\n",
      "Vertex ID: 11  is in partition 0\n",
      "Vertex ID: 12  is in partition 0\n",
      "Vertex ID: 13  is in partition 0\n",
      "Vertex ID: 14  is in partition 0\n",
      "Vertex ID: 15  is in partition 0\n",
      "Vertex ID: 16  is in partition 0\n",
      "Vertex ID: 17  is in partition 0\n",
      "Vertex ID: 18  is in partition 0\n",
      "Vertex ID: 19  is in partition 0\n",
      "Vertex ID: 20  is in partition 0\n",
      "Vertex ID: 21  is in partition 0\n",
      "Vertex ID: 22  is in partition 0\n",
      "Vertex ID: 23  is in partition 0\n",
      "Vertex ID: 24  is in partition 0\n",
      "Vertex ID: 25  is in partition 0\n",
      "Vertex ID: 26  is in partition 0\n",
      "Vertex ID: 27  is in partition 0\n",
      "Vertex ID: 28  is in partition 0\n",
      "Vertex ID: 29  is in partition 0\n",
      "Vertex ID: 30  is in partition 0\n",
      "Vertex ID: 31  is in partition 0\n",
      "Vertex ID: 32  is in partition 0\n",
      "Vertex ID: 33  is in partition 0\n"
     ]
    }
   ],
   "source": [
    "for i in range(len(df)):\n",
    "    print(\"Vertex ID: \" + str(df[\"vertex\"][i]) + \"  is in partition \" + str(df[\"partition\"][i])) \n"
   ]
  },
  {
   "cell_type": "markdown",
   "metadata": {},
   "source": [
    "___\n",
    "Copyright (c) 2019, NVIDIA CORPORATION.\n",
    "\n",
    "Licensed under the Apache License, Version 2.0 (the \"License\");  you may not use this file except in compliance with the License. You may obtain a copy of the License at http://www.apache.org/licenses/LICENSE-2.0\n",
    "\n",
    "Unless required by applicable law or agreed to in writing, software distributed under the License is distributed on an \"AS IS\" BASIS, WITHOUT WARRANTIES OR CONDITIONS OF ANY KIND, either express or implied. See the License for the specific language governing permissions and limitations under the License.\n",
    "___"
   ]
  },
  {
   "cell_type": "code",
   "execution_count": null,
   "metadata": {},
   "outputs": [],
   "source": []
  }
 ],
 "metadata": {
  "kernelspec": {
   "display_name": "Python 3",
   "language": "python",
   "name": "python3"
  },
  "language_info": {
   "codemirror_mode": {
    "name": "ipython",
    "version": 3
   },
   "file_extension": ".py",
   "mimetype": "text/x-python",
   "name": "python",
   "nbconvert_exporter": "python",
   "pygments_lexer": "ipython3",
   "version": "3.7.1"
  }
 },
 "nbformat": 4,
 "nbformat_minor": 2
}
