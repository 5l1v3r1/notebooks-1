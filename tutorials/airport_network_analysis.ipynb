{
 "cells": [
  {
   "cell_type": "markdown",
   "metadata": {},
   "source": [
    "# Using RAPIDS cuGraph and cuSpatial to analyze airport and flight data\n",
    "## Intro\n",
    "We have airports and flights datasets.  We have cuGraph and cuSpatial.  What craziness can we get up to here?\n",
    "\n",
    "We're going to use cuGraph and cuSpatial to answer these questions of our data:\n",
    "1. Which airport is the most trafficked airport in our dataset?\n",
    "1. What are the max number of plane rides (hops) do you need to take to get from the most trafficked airport to get to any other airport in our dataset?\n",
    "1. How many hops do you need to take to get from the most trafficked airport to one of the least trafficked airport?\n",
    "1. How far is that distance really?\n",
    "1. What is the topology of our airport network, based on our dataset and distance from one another?\n",
    "\n",
    "Note: The Airports data in this toy dataset is using hashed identifiers. In the beginning, this may throw you for a loop, but by the end of the notebook everything will be clearer."
   ]
  },
  {
   "cell_type": "markdown",
   "metadata": {},
   "source": [
    "## Imports and Data Gathering/Prep"
   ]
  },
  {
   "cell_type": "code",
   "execution_count": 1,
   "metadata": {},
   "outputs": [],
   "source": [
    "import pandas as pd\n",
    "import numpy as np\n",
    "import cuspatial, cugraph, cudf, cuml"
   ]
  },
  {
   "cell_type": "code",
   "execution_count": 2,
   "metadata": {},
   "outputs": [
    {
     "name": "stdout",
     "output_type": "stream",
     "text": [
      "--2019-10-07 13:09:21--  https://raw.githubusercontent.com/rapidsai/cuDataShader/master/cudatashader-notebooks/data/airports.csv\n",
      "Resolving raw.githubusercontent.com (raw.githubusercontent.com)... 151.101.128.133, 151.101.0.133, 151.101.64.133, ...\n",
      "Connecting to raw.githubusercontent.com (raw.githubusercontent.com)|151.101.128.133|:443... connected.\n",
      "HTTP request sent, awaiting response... 200 OK\n",
      "Length: 191508 (187K) [text/plain]\n",
      "Saving to: ‘airports.csv’\n",
      "\n",
      "airports.csv        100%[===================>] 187.02K  --.-KB/s    in 0.02s   \n",
      "\n",
      "2019-10-07 13:09:21 (7.98 MB/s) - ‘airports.csv’ saved [191508/191508]\n",
      "\n",
      "--2019-10-07 13:09:21--  https://raw.githubusercontent.com/rapidsai/cuDataShader/master/cudatashader-notebooks/data/flights.csv\n",
      "Resolving raw.githubusercontent.com (raw.githubusercontent.com)... 151.101.64.133, 151.101.0.133, 151.101.192.133, ...\n",
      "Connecting to raw.githubusercontent.com (raw.githubusercontent.com)|151.101.64.133|:443... connected.\n",
      "HTTP request sent, awaiting response... 200 OK\n",
      "Length: 5015643 (4.8M) [text/plain]\n",
      "Saving to: ‘flights.csv’\n",
      "\n",
      "flights.csv         100%[===================>]   4.78M  --.-KB/s    in 0.04s   \n",
      "\n",
      "2019-10-07 13:09:22 (120 MB/s) - ‘flights.csv’ saved [5015643/5015643]\n",
      "\n"
     ]
    }
   ],
   "source": [
    "!wget https://raw.githubusercontent.com/rapidsai/cuDataShader/master/cudatashader-notebooks/data/airports.csv\n",
    "!wget https://raw.githubusercontent.com/rapidsai/cuDataShader/master/cudatashader-notebooks/data/flights.csv"
   ]
  },
  {
   "cell_type": "code",
   "execution_count": 3,
   "metadata": {},
   "outputs": [],
   "source": [
    "data_dir = './'\n",
    "fdf = cudf.read_csv(data_dir+'flights.csv')\n",
    "adf = cudf.read_csv(data_dir+'airports.csv')"
   ]
  },
  {
   "cell_type": "code",
   "execution_count": 4,
   "metadata": {},
   "outputs": [
    {
     "data": {
      "text/html": [
       "<div>\n",
       "<style scoped>\n",
       "    .dataframe tbody tr th:only-of-type {\n",
       "        vertical-align: middle;\n",
       "    }\n",
       "\n",
       "    .dataframe tbody tr th {\n",
       "        vertical-align: top;\n",
       "    }\n",
       "\n",
       "    .dataframe thead th {\n",
       "        text-align: right;\n",
       "    }\n",
       "</style>\n",
       "<table border=\"1\" class=\"dataframe\">\n",
       "  <thead>\n",
       "    <tr style=\"text-align: right;\">\n",
       "      <th></th>\n",
       "      <th>PASSENGERS</th>\n",
       "      <th>ORIGIN_AIRPORT_ID</th>\n",
       "      <th>DEST_AIRPORT_ID</th>\n",
       "    </tr>\n",
       "  </thead>\n",
       "  <tbody>\n",
       "    <tr>\n",
       "      <th>0</th>\n",
       "      <td>1</td>\n",
       "      <td>12264</td>\n",
       "      <td>10397</td>\n",
       "    </tr>\n",
       "    <tr>\n",
       "      <th>1</th>\n",
       "      <td>1</td>\n",
       "      <td>13541</td>\n",
       "      <td>12197</td>\n",
       "    </tr>\n",
       "    <tr>\n",
       "      <th>2</th>\n",
       "      <td>1</td>\n",
       "      <td>10599</td>\n",
       "      <td>12206</td>\n",
       "    </tr>\n",
       "    <tr>\n",
       "      <th>3</th>\n",
       "      <td>1</td>\n",
       "      <td>10792</td>\n",
       "      <td>10581</td>\n",
       "    </tr>\n",
       "    <tr>\n",
       "      <th>4</th>\n",
       "      <td>1</td>\n",
       "      <td>10792</td>\n",
       "      <td>14576</td>\n",
       "    </tr>\n",
       "  </tbody>\n",
       "</table>\n",
       "</div>"
      ],
      "text/plain": [
       "   PASSENGERS  ORIGIN_AIRPORT_ID  DEST_AIRPORT_ID\n",
       "0           1              12264            10397\n",
       "1           1              13541            12197\n",
       "2           1              10599            12206\n",
       "3           1              10792            10581\n",
       "4           1              10792            14576"
      ]
     },
     "execution_count": 4,
     "metadata": {},
     "output_type": "execute_result"
    }
   ],
   "source": [
    "fdf.head()"
   ]
  },
  {
   "cell_type": "code",
   "execution_count": 5,
   "metadata": {},
   "outputs": [
    {
     "data": {
      "text/plain": [
       "PASSENGERS           int64\n",
       "ORIGIN_AIRPORT_ID    int64\n",
       "DEST_AIRPORT_ID      int64\n",
       "dtype: object"
      ]
     },
     "execution_count": 5,
     "metadata": {},
     "output_type": "execute_result"
    }
   ],
   "source": [
    "fdf.dtypes"
   ]
  },
  {
   "cell_type": "markdown",
   "metadata": {},
   "source": [
    "### Prep\n",
    "Since we'll be using cuGraph, which uses int32, and the above dtypes are int64, we recast each Series:"
   ]
  },
  {
   "cell_type": "code",
   "execution_count": 6,
   "metadata": {},
   "outputs": [],
   "source": [
    "fdf['ORIGIN_AIRPORT_ID'] = fdf['ORIGIN_AIRPORT_ID'].astype(np.int32)\n",
    "fdf['DEST_AIRPORT_ID'] = fdf['DEST_AIRPORT_ID'].astype(np.int32)\n",
    "fdf['PASSENGERS'] = fdf['PASSENGERS'].astype(np.int32)"
   ]
  },
  {
   "cell_type": "code",
   "execution_count": 7,
   "metadata": {},
   "outputs": [
    {
     "data": {
      "text/plain": [
       "PASSENGERS           int32\n",
       "ORIGIN_AIRPORT_ID    int32\n",
       "DEST_AIRPORT_ID      int32\n",
       "dtype: object"
      ]
     },
     "execution_count": 7,
     "metadata": {},
     "output_type": "execute_result"
    }
   ],
   "source": [
    "fdf.dtypes"
   ]
  },
  {
   "cell_type": "markdown",
   "metadata": {},
   "source": [
    "Okay, better!  Now let's make some some graphs.  Why?  Cause graphs are fun and informative!"
   ]
  },
  {
   "cell_type": "markdown",
   "metadata": {},
   "source": [
    "## Graphs\n",
    "Recall that we're going to ask these questions of our data:\n",
    "1. Which airport is the most trafficked airport in our dataset?\n",
    "1. What are the max number of plane rides (hops) do you need to take to get from the most trafficked airport to get to any other airport in our dataset?\n",
    "1. How many hops do you need to take to get from the most trafficked airport to one of the least trafficked airport?\n",
    "1. How far is that distance really?\n",
    "1. What is the topology of our airport network, based on our dataset and distance from one another?\n",
    "\n",
    "**Let's get started!**"
   ]
  },
  {
   "cell_type": "markdown",
   "metadata": {},
   "source": [
    "### Build the foundations"
   ]
  },
  {
   "cell_type": "code",
   "execution_count": 8,
   "metadata": {},
   "outputs": [],
   "source": [
    "G = cugraph.Graph()\n",
    "G.add_edge_list(fdf[\"ORIGIN_AIRPORT_ID\"], fdf[\"DEST_AIRPORT_ID\"])"
   ]
  },
  {
   "cell_type": "code",
   "execution_count": 9,
   "metadata": {},
   "outputs": [
    {
     "data": {
      "text/plain": [
       "13930    12020\n",
       "11292    10297\n",
       "10397     9137\n",
       "13487     6848\n",
       "11433     6715\n",
       "11298     6352\n",
       "12892     6157\n",
       "12266     6075\n",
       "11057     5942\n",
       "11618     5634\n",
       "12889     5300\n",
       "14771     5202\n",
       "14747     5001\n",
       "14107     4894\n",
       "13204     4762\n",
       "14100     4757\n",
       "14869     4329\n",
       "10721     4146\n",
       "12264     3990\n",
       "11278     3803\n",
       "12953     3748\n",
       "11697     3470\n",
       "12478     3463\n",
       "10821     3290\n",
       "10423     2987\n",
       "15304     2931\n",
       "14492     2886\n",
       "10693     2844\n",
       "14057     2819\n",
       "14679     2725\n",
       "         ...  \n",
       "16628        1\n",
       "16634        1\n",
       "16658        1\n",
       "16666        1\n",
       "16669        1\n",
       "16680        1\n",
       "16683        1\n",
       "16706        1\n",
       "16715        1\n",
       "16720        1\n",
       "16724        1\n",
       "16725        1\n",
       "16729        1\n",
       "16764        1\n",
       "16770        1\n",
       "16771        1\n",
       "16776        1\n",
       "16777        1\n",
       "16790        1\n",
       "16791        1\n",
       "16792        1\n",
       "16793        1\n",
       "16807        1\n",
       "16811        1\n",
       "16812        1\n",
       "16816        1\n",
       "16823        1\n",
       "16838        1\n",
       "16839        1\n",
       "16840        1\n",
       "Name: ORIGIN_AIRPORT_ID, Length: 1147, dtype: int32"
      ]
     },
     "execution_count": 9,
     "metadata": {},
     "output_type": "execute_result"
    }
   ],
   "source": [
    "fdf[\"ORIGIN_AIRPORT_ID\"].value_counts()"
   ]
  },
  {
   "cell_type": "code",
   "execution_count": 10,
   "metadata": {},
   "outputs": [
    {
     "data": {
      "text/plain": [
       "13930    12082\n",
       "11292    10425\n",
       "10397     9179\n",
       "13487     6913\n",
       "11433     6651\n",
       "11298     6527\n",
       "12266     6211\n",
       "12892     6014\n",
       "11057     5957\n",
       "11618     5830\n",
       "12889     5236\n",
       "14771     5129\n",
       "14747     4940\n",
       "13204     4785\n",
       "14107     4781\n",
       "14100     4737\n",
       "14869     4284\n",
       "12264     4012\n",
       "10721     3980\n",
       "11278     3891\n",
       "12953     3870\n",
       "12478     3659\n",
       "11697     3523\n",
       "10821     3286\n",
       "10423     3075\n",
       "15304     2886\n",
       "10693     2812\n",
       "14492     2797\n",
       "14057     2792\n",
       "10551     2692\n",
       "         ...  \n",
       "16569        1\n",
       "16585        1\n",
       "16588        1\n",
       "16624        1\n",
       "16628        1\n",
       "16658        1\n",
       "16666        1\n",
       "16669        1\n",
       "16680        1\n",
       "16715        1\n",
       "16724        1\n",
       "16725        1\n",
       "16744        1\n",
       "16764        1\n",
       "16770        1\n",
       "16771        1\n",
       "16790        1\n",
       "16791        1\n",
       "16792        1\n",
       "16793        1\n",
       "16795        1\n",
       "16804        1\n",
       "16807        1\n",
       "16812        1\n",
       "16816        1\n",
       "16819        1\n",
       "16820        1\n",
       "16838        1\n",
       "16839        1\n",
       "16840        1\n",
       "Name: DEST_AIRPORT_ID, Length: 1181, dtype: int32"
      ]
     },
     "execution_count": 10,
     "metadata": {},
     "output_type": "execute_result"
    }
   ],
   "source": [
    "fdf[\"DEST_AIRPORT_ID\"].value_counts()"
   ]
  },
  {
   "cell_type": "markdown",
   "metadata": {},
   "source": [
    "### Question 1: Which airport is the most trafficked airport in our dataset?\n",
    "\n",
    "The easiest way to find out which airport is the most trafficked is the same way Google does it for websites: Pagerank!"
   ]
  },
  {
   "cell_type": "code",
   "execution_count": 11,
   "metadata": {},
   "outputs": [],
   "source": [
    "df_page = cugraph.pagerank(G)"
   ]
  },
  {
   "cell_type": "markdown",
   "metadata": {},
   "source": [
    "So now we have a graph, `df_page`.  Great!  What does it look like?"
   ]
  },
  {
   "cell_type": "code",
   "execution_count": 12,
   "metadata": {},
   "outputs": [
    {
     "data": {
      "text/html": [
       "<div>\n",
       "<style scoped>\n",
       "    .dataframe tbody tr th:only-of-type {\n",
       "        vertical-align: middle;\n",
       "    }\n",
       "\n",
       "    .dataframe tbody tr th {\n",
       "        vertical-align: top;\n",
       "    }\n",
       "\n",
       "    .dataframe thead th {\n",
       "        text-align: right;\n",
       "    }\n",
       "</style>\n",
       "<table border=\"1\" class=\"dataframe\">\n",
       "  <thead>\n",
       "    <tr style=\"text-align: right;\">\n",
       "      <th></th>\n",
       "      <th>vertex</th>\n",
       "      <th>pagerank</th>\n",
       "    </tr>\n",
       "  </thead>\n",
       "  <tbody>\n",
       "    <tr>\n",
       "      <th>0</th>\n",
       "      <td>0</td>\n",
       "      <td>0.000043</td>\n",
       "    </tr>\n",
       "    <tr>\n",
       "      <th>1</th>\n",
       "      <td>1</td>\n",
       "      <td>0.000043</td>\n",
       "    </tr>\n",
       "    <tr>\n",
       "      <th>2</th>\n",
       "      <td>2</td>\n",
       "      <td>0.000043</td>\n",
       "    </tr>\n",
       "    <tr>\n",
       "      <th>3</th>\n",
       "      <td>3</td>\n",
       "      <td>0.000043</td>\n",
       "    </tr>\n",
       "    <tr>\n",
       "      <th>4</th>\n",
       "      <td>4</td>\n",
       "      <td>0.000043</td>\n",
       "    </tr>\n",
       "  </tbody>\n",
       "</table>\n",
       "</div>"
      ],
      "text/plain": [
       "   vertex  pagerank\n",
       "0       0  0.000043\n",
       "1       1  0.000043\n",
       "2       2  0.000043\n",
       "3       3  0.000043\n",
       "4       4  0.000043"
      ]
     },
     "execution_count": 12,
     "metadata": {},
     "output_type": "execute_result"
    }
   ],
   "source": [
    "df_page.head()"
   ]
  },
  {
   "cell_type": "markdown",
   "metadata": {},
   "source": [
    "Pagerank isn't ordered by rank, but by vertex number, but it is easy to find the max rank and sort the orders.  Let's get our max and the top 10 airports in our dataset"
   ]
  },
  {
   "cell_type": "code",
   "execution_count": 13,
   "metadata": {},
   "outputs": [
    {
     "name": "stdout",
     "output_type": "stream",
     "text": [
      "0.008008820936083794\n"
     ]
    }
   ],
   "source": [
    "pr_max = df_page['pagerank'].max()\n",
    "print(pr_max)"
   ]
  },
  {
   "cell_type": "code",
   "execution_count": 14,
   "metadata": {},
   "outputs": [
    {
     "data": {
      "text/html": [
       "<div>\n",
       "<style scoped>\n",
       "    .dataframe tbody tr th:only-of-type {\n",
       "        vertical-align: middle;\n",
       "    }\n",
       "\n",
       "    .dataframe tbody tr th {\n",
       "        vertical-align: top;\n",
       "    }\n",
       "\n",
       "    .dataframe thead th {\n",
       "        text-align: right;\n",
       "    }\n",
       "</style>\n",
       "<table border=\"1\" class=\"dataframe\">\n",
       "  <thead>\n",
       "    <tr style=\"text-align: right;\">\n",
       "      <th></th>\n",
       "      <th>vertex</th>\n",
       "      <th>pagerank</th>\n",
       "    </tr>\n",
       "  </thead>\n",
       "  <tbody>\n",
       "    <tr>\n",
       "      <th>13930</th>\n",
       "      <td>13930</td>\n",
       "      <td>0.008009</td>\n",
       "    </tr>\n",
       "    <tr>\n",
       "      <th>11292</th>\n",
       "      <td>11292</td>\n",
       "      <td>0.007470</td>\n",
       "    </tr>\n",
       "    <tr>\n",
       "      <th>10397</th>\n",
       "      <td>10397</td>\n",
       "      <td>0.006169</td>\n",
       "    </tr>\n",
       "    <tr>\n",
       "      <th>11298</th>\n",
       "      <td>11298</td>\n",
       "      <td>0.005000</td>\n",
       "    </tr>\n",
       "    <tr>\n",
       "      <th>13487</th>\n",
       "      <td>13487</td>\n",
       "      <td>0.004667</td>\n",
       "    </tr>\n",
       "    <tr>\n",
       "      <th>11433</th>\n",
       "      <td>11433</td>\n",
       "      <td>0.004259</td>\n",
       "    </tr>\n",
       "    <tr>\n",
       "      <th>11057</th>\n",
       "      <td>11057</td>\n",
       "      <td>0.004206</td>\n",
       "    </tr>\n",
       "    <tr>\n",
       "      <th>12892</th>\n",
       "      <td>12892</td>\n",
       "      <td>0.004058</td>\n",
       "    </tr>\n",
       "    <tr>\n",
       "      <th>12266</th>\n",
       "      <td>12266</td>\n",
       "      <td>0.003992</td>\n",
       "    </tr>\n",
       "    <tr>\n",
       "      <th>11630</th>\n",
       "      <td>11630</td>\n",
       "      <td>0.003960</td>\n",
       "    </tr>\n",
       "  </tbody>\n",
       "</table>\n",
       "</div>"
      ],
      "text/plain": [
       "       vertex  pagerank\n",
       "13930   13930  0.008009\n",
       "11292   11292  0.007470\n",
       "10397   10397  0.006169\n",
       "11298   11298  0.005000\n",
       "13487   13487  0.004667\n",
       "11433   11433  0.004259\n",
       "11057   11057  0.004206\n",
       "12892   12892  0.004058\n",
       "12266   12266  0.003992\n",
       "11630   11630  0.003960"
      ]
     },
     "execution_count": 14,
     "metadata": {},
     "output_type": "execute_result"
    }
   ],
   "source": [
    "sort_pr = df_page.sort_values('pagerank', ascending=False)\n",
    "sort_pr.head(10)"
   ]
  },
  {
   "cell_type": "code",
   "execution_count": 16,
   "metadata": {},
   "outputs": [
    {
     "data": {
      "text/html": [
       "<div>\n",
       "<style scoped>\n",
       "    .dataframe tbody tr th:only-of-type {\n",
       "        vertical-align: middle;\n",
       "    }\n",
       "\n",
       "    .dataframe tbody tr th {\n",
       "        vertical-align: top;\n",
       "    }\n",
       "\n",
       "    .dataframe thead th {\n",
       "        text-align: right;\n",
       "    }\n",
       "</style>\n",
       "<table border=\"1\" class=\"dataframe\">\n",
       "  <thead>\n",
       "    <tr style=\"text-align: right;\">\n",
       "      <th></th>\n",
       "      <th>vertex</th>\n",
       "      <th>pagerank</th>\n",
       "    </tr>\n",
       "  </thead>\n",
       "  <tbody>\n",
       "    <tr>\n",
       "      <th>13930</th>\n",
       "      <td>13930</td>\n",
       "      <td>0.008009</td>\n",
       "    </tr>\n",
       "    <tr>\n",
       "      <th>11292</th>\n",
       "      <td>11292</td>\n",
       "      <td>0.007470</td>\n",
       "    </tr>\n",
       "    <tr>\n",
       "      <th>10397</th>\n",
       "      <td>10397</td>\n",
       "      <td>0.006169</td>\n",
       "    </tr>\n",
       "    <tr>\n",
       "      <th>11298</th>\n",
       "      <td>11298</td>\n",
       "      <td>0.005000</td>\n",
       "    </tr>\n",
       "    <tr>\n",
       "      <th>13487</th>\n",
       "      <td>13487</td>\n",
       "      <td>0.004667</td>\n",
       "    </tr>\n",
       "    <tr>\n",
       "      <th>11433</th>\n",
       "      <td>11433</td>\n",
       "      <td>0.004259</td>\n",
       "    </tr>\n",
       "    <tr>\n",
       "      <th>11057</th>\n",
       "      <td>11057</td>\n",
       "      <td>0.004206</td>\n",
       "    </tr>\n",
       "    <tr>\n",
       "      <th>12892</th>\n",
       "      <td>12892</td>\n",
       "      <td>0.004058</td>\n",
       "    </tr>\n",
       "    <tr>\n",
       "      <th>12266</th>\n",
       "      <td>12266</td>\n",
       "      <td>0.003992</td>\n",
       "    </tr>\n",
       "    <tr>\n",
       "      <th>11630</th>\n",
       "      <td>11630</td>\n",
       "      <td>0.003960</td>\n",
       "    </tr>\n",
       "  </tbody>\n",
       "</table>\n",
       "</div>"
      ],
      "text/plain": [
       "       vertex  pagerank\n",
       "13930   13930  0.008009\n",
       "11292   11292  0.007470\n",
       "10397   10397  0.006169\n",
       "11298   11298  0.005000\n",
       "13487   13487  0.004667\n",
       "11433   11433  0.004259\n",
       "11057   11057  0.004206\n",
       "12892   12892  0.004058\n",
       "12266   12266  0.003992\n",
       "11630   11630  0.003960"
      ]
     },
     "execution_count": 16,
     "metadata": {},
     "output_type": "execute_result"
    }
   ],
   "source": [
    "sort_pr = df_page.sort_values('pagerank', ascending=False) # Just for fun, we're looking to see which airports have the least traffic\n",
    "sort_pr.head(10)"
   ]
  },
  {
   "cell_type": "markdown",
   "metadata": {},
   "source": [
    "Those are the top 10 trafficked airports.  While it was easy to see from the origin and destination airports counts that 13930 would be the most trafficked, the order of the others in the list required a bit more work.  It is also interesting that no single airport acconts for 1% of the total flights."
   ]
  },
  {
   "cell_type": "markdown",
   "metadata": {},
   "source": [
    "### Question 2: max number of plane rides (hops)?\n",
    "\n",
    "Let's do a breadth first search (BFS) on the airports to fly out of and see how many hops it takes to get from popular airport, 13930, to an isolated one.  We'll do the BFS from the most poular airport to a randomly chosen one."
   ]
  },
  {
   "cell_type": "code",
   "execution_count": 17,
   "metadata": {},
   "outputs": [],
   "source": [
    "df = cugraph.bfs(G,13930)"
   ]
  },
  {
   "cell_type": "code",
   "execution_count": 18,
   "metadata": {},
   "outputs": [
    {
     "data": {
      "text/plain": [
       "vertex         16841\n",
       "distance       16841\n",
       "predecessor    16841\n",
       "dtype: int64"
      ]
     },
     "execution_count": 18,
     "metadata": {},
     "output_type": "execute_result"
    }
   ],
   "source": [
    "df.count()"
   ]
  },
  {
   "cell_type": "code",
   "execution_count": 19,
   "metadata": {},
   "outputs": [
    {
     "data": {
      "text/plain": [
       "-1        15666\n",
       " 13930      227\n",
       " 11630       71\n",
       " 10299       60\n",
       " 15167       38\n",
       " 12889       30\n",
       " 13232       28\n",
       " 12197       26\n",
       " 10056       19\n",
       " 13369       15\n",
       " 11292       13\n",
       " 14122       13\n",
       " 10245       12\n",
       " 10551       12\n",
       " 14100       12\n",
       " 13796       11\n",
       " 10170       10\n",
       " 10721       10\n",
       " 11697       10\n",
       " 13204       10\n",
       " 14027       10\n",
       " 10693        9\n",
       " 12892        9\n",
       " 12953        9\n",
       " 14828        9\n",
       " 10559        8\n",
       " 11298        8\n",
       " 12523        8\n",
       " 13303        8\n",
       " 14107        8\n",
       "          ...  \n",
       " 14112        1\n",
       " 14193        1\n",
       " 14256        1\n",
       " 14307        1\n",
       " 14572        1\n",
       " 14576        1\n",
       " 14670        1\n",
       " 14672        1\n",
       " 14695        1\n",
       " 14709        1\n",
       " 14711        1\n",
       " 14794        1\n",
       " 14986        1\n",
       " 15011        1\n",
       " 15069        1\n",
       " 15070        1\n",
       " 15096        1\n",
       " 15154        1\n",
       " 15160        1\n",
       " 15195        1\n",
       " 15236        1\n",
       " 15295        1\n",
       " 15446        1\n",
       " 15447        1\n",
       " 15579        1\n",
       " 15779        1\n",
       " 15855        1\n",
       " 15919        1\n",
       " 16101        1\n",
       " 16498        1\n",
       "Name: predecessor, Length: 250, dtype: int32"
      ]
     },
     "execution_count": 19,
     "metadata": {},
     "output_type": "execute_result"
    }
   ],
   "source": [
    "df['predecessor'].value_counts()"
   ]
  },
  {
   "cell_type": "markdown",
   "metadata": {},
   "source": [
    "hmmm...what's `-1`?  Why does it's value so high?  Well, maybe it doesn't matter...let's get the max"
   ]
  },
  {
   "cell_type": "code",
   "execution_count": 20,
   "metadata": {},
   "outputs": [
    {
     "data": {
      "text/plain": [
       "2147483647"
      ]
     },
     "execution_count": 20,
     "metadata": {},
     "output_type": "execute_result"
    }
   ],
   "source": [
    "df[\"distance\"].max()"
   ]
  },
  {
   "cell_type": "markdown",
   "metadata": {},
   "source": [
    "**Whoa!**  That distance value is unexpected...but really not.  In the BFS demo, Brad told us that this occurs because the isolated vertex, 0, is unreachable.  Whenever a graph contains disjointed components, the distance to the unconnected vertices will always be max_int.  He also showed us how to fix it by dropping all insanely large distances.  We'll keep `df` untouched, in case we need it again, and make a second dataframe `df2`"
   ]
  },
  {
   "cell_type": "code",
   "execution_count": 21,
   "metadata": {},
   "outputs": [],
   "source": [
    "# drop all large distances \n",
    "exp=\"distance < 100\"\n",
    "df2 = df.query(exp)"
   ]
  },
  {
   "cell_type": "code",
   "execution_count": 22,
   "metadata": {},
   "outputs": [
    {
     "data": {
      "text/plain": [
       "13930    227\n",
       "11630     71\n",
       "10299     60\n",
       "15167     38\n",
       "12889     30\n",
       "13232     28\n",
       "12197     26\n",
       "10056     19\n",
       "13369     15\n",
       "11292     13\n",
       "14122     13\n",
       "10245     12\n",
       "10551     12\n",
       "14100     12\n",
       "13796     11\n",
       "10170     10\n",
       "10721     10\n",
       "11697     10\n",
       "13204     10\n",
       "14027     10\n",
       "10693      9\n",
       "12892      9\n",
       "12953      9\n",
       "14828      9\n",
       "10559      8\n",
       "11298      8\n",
       "12523      8\n",
       "13303      8\n",
       "14107      8\n",
       "12127      7\n",
       "        ... \n",
       "14112      1\n",
       "14193      1\n",
       "14256      1\n",
       "14307      1\n",
       "14572      1\n",
       "14576      1\n",
       "14670      1\n",
       "14672      1\n",
       "14695      1\n",
       "14709      1\n",
       "14711      1\n",
       "14794      1\n",
       "14986      1\n",
       "15011      1\n",
       "15069      1\n",
       "15070      1\n",
       "15096      1\n",
       "15154      1\n",
       "15160      1\n",
       "15195      1\n",
       "15236      1\n",
       "15295      1\n",
       "15446      1\n",
       "15447      1\n",
       "15579      1\n",
       "15779      1\n",
       "15855      1\n",
       "15919      1\n",
       "16101      1\n",
       "16498      1\n",
       "Name: predecessor, Length: 250, dtype: int32"
      ]
     },
     "execution_count": 22,
     "metadata": {},
     "output_type": "execute_result"
    }
   ],
   "source": [
    "df2['predecessor'].value_counts()"
   ]
  },
  {
   "cell_type": "markdown",
   "metadata": {},
   "source": [
    "That looks better!  A positive number has the most, and it's of course, airport 13930.  Now, let's see what the real graph distance is."
   ]
  },
  {
   "cell_type": "code",
   "execution_count": 23,
   "metadata": {},
   "outputs": [
    {
     "data": {
      "text/plain": [
       "5"
      ]
     },
     "execution_count": 23,
     "metadata": {},
     "output_type": "execute_result"
    }
   ],
   "source": [
    "df2[\"distance\"].max()"
   ]
  },
  {
   "cell_type": "markdown",
   "metadata": {},
   "source": [
    "Okay great!  We know that no matter what, in the US, you're no more than 5 flights away from any other airport.  \n",
    "\n",
    "### Question 3: How many hops do you need to take to get from the most trafficked airport to one of the least trafficed airport\n",
    "Let's find out how many flights it takes to get us to a remote airport.  Let's pick one that has 1 flight from it.  I'm choosing `16838`, but you can change that value to another airport.  Also, there's a helper function to help make it a nicer print."
   ]
  },
  {
   "cell_type": "code",
   "execution_count": 24,
   "metadata": {},
   "outputs": [],
   "source": [
    "end_airport = 16838 # change to any other airport"
   ]
  },
  {
   "cell_type": "code",
   "execution_count": 25,
   "metadata": {},
   "outputs": [],
   "source": [
    "def print_path(df, id):\n",
    "    \n",
    "    # Use the BFS predecessors and distance to trace the path \n",
    "    # from vertex id back to the starting vertex ( vertex 1 in this example)\n",
    "    dist = df['distance'][id]\n",
    "    lastVert = id\n",
    "    for i in range(dist):\n",
    "        nextVert = df['predecessor'][lastVert]\n",
    "        d = df['distance'][lastVert]\n",
    "        print(\"Airport \" + str(lastVert) + \" was reached from airport \" + str(nextVert) + \n",
    "        \" where the graph distance to Airport 13930 was \" + str(d) )\n",
    "        lastVert = nextVert"
   ]
  },
  {
   "cell_type": "code",
   "execution_count": 26,
   "metadata": {},
   "outputs": [
    {
     "name": "stdout",
     "output_type": "stream",
     "text": [
      "Airport 16838 was reached from airport 13418 where the graph distance to Airport 13930 was 3\n",
      "Airport 13418 was reached from airport 12197 where the graph distance to Airport 13930 was 2\n",
      "Airport 12197 was reached from airport 13930 where the graph distance to Airport 13930 was 1\n"
     ]
    }
   ],
   "source": [
    "print_path(df, end_airport)"
   ]
  },
  {
   "cell_type": "markdown",
   "metadata": {},
   "source": [
    "If you used my number, it would take 3 flights So now we know which airports you would connect to between those two airports.  But that is the graph distance.  What about the real distances?  "
   ]
  },
  {
   "cell_type": "markdown",
   "metadata": {},
   "source": [
    "### Question 4:  How far is that distance really?\n",
    "Well, for that, we need to bring in our other dataset, `adf`, which is a list of the airport's latitude and longitudes, as well as the GPU accelerated `cuSpatial` library to compute the Haversine distances (distances on the surface of the globe [sphere] instead of a straight line) "
   ]
  },
  {
   "cell_type": "code",
   "execution_count": 27,
   "metadata": {},
   "outputs": [
    {
     "data": {
      "text/html": [
       "<div>\n",
       "<style scoped>\n",
       "    .dataframe tbody tr th:only-of-type {\n",
       "        vertical-align: middle;\n",
       "    }\n",
       "\n",
       "    .dataframe tbody tr th {\n",
       "        vertical-align: top;\n",
       "    }\n",
       "\n",
       "    .dataframe thead th {\n",
       "        text-align: right;\n",
       "    }\n",
       "</style>\n",
       "<table border=\"1\" class=\"dataframe\">\n",
       "  <thead>\n",
       "    <tr style=\"text-align: right;\">\n",
       "      <th></th>\n",
       "      <th>AIRPORT_ID</th>\n",
       "      <th>LATITUDE</th>\n",
       "      <th>LONGITUDE</th>\n",
       "    </tr>\n",
       "  </thead>\n",
       "  <tbody>\n",
       "    <tr>\n",
       "      <th>0</th>\n",
       "      <td>10001</td>\n",
       "      <td>58.109444</td>\n",
       "      <td>-152.906667</td>\n",
       "    </tr>\n",
       "    <tr>\n",
       "      <th>1</th>\n",
       "      <td>10003</td>\n",
       "      <td>65.548056</td>\n",
       "      <td>-161.071667</td>\n",
       "    </tr>\n",
       "    <tr>\n",
       "      <th>2</th>\n",
       "      <td>10004</td>\n",
       "      <td>68.083333</td>\n",
       "      <td>-163.166667</td>\n",
       "    </tr>\n",
       "    <tr>\n",
       "      <th>3</th>\n",
       "      <td>10005</td>\n",
       "      <td>67.570000</td>\n",
       "      <td>-148.183889</td>\n",
       "    </tr>\n",
       "    <tr>\n",
       "      <th>4</th>\n",
       "      <td>10006</td>\n",
       "      <td>57.745278</td>\n",
       "      <td>-152.882778</td>\n",
       "    </tr>\n",
       "  </tbody>\n",
       "</table>\n",
       "</div>"
      ],
      "text/plain": [
       "   AIRPORT_ID   LATITUDE   LONGITUDE\n",
       "0       10001  58.109444 -152.906667\n",
       "1       10003  65.548056 -161.071667\n",
       "2       10004  68.083333 -163.166667\n",
       "3       10005  67.570000 -148.183889\n",
       "4       10006  57.745278 -152.882778"
      ]
     },
     "execution_count": 27,
     "metadata": {},
     "output_type": "execute_result"
    }
   ],
   "source": [
    "adf.head()"
   ]
  },
  {
   "cell_type": "markdown",
   "metadata": {},
   "source": [
    "Let's make a new function that calculates the haversine distance of all the airports in our flights at once.  This is a great time to use merge().  We'll do 2 merges, first on `ORIGIN_AIRPORT_ID` and then on `DEST_AIRPORT_ID`. To do the merge, we'll need to typecast the queries on our original 2 dataframes."
   ]
  },
  {
   "cell_type": "code",
   "execution_count": 28,
   "metadata": {},
   "outputs": [
    {
     "data": {
      "text/html": [
       "<div>\n",
       "<style scoped>\n",
       "    .dataframe tbody tr th:only-of-type {\n",
       "        vertical-align: middle;\n",
       "    }\n",
       "\n",
       "    .dataframe tbody tr th {\n",
       "        vertical-align: top;\n",
       "    }\n",
       "\n",
       "    .dataframe thead th {\n",
       "        text-align: right;\n",
       "    }\n",
       "</style>\n",
       "<table border=\"1\" class=\"dataframe\">\n",
       "  <thead>\n",
       "    <tr style=\"text-align: right;\">\n",
       "      <th></th>\n",
       "      <th>PASSENGERS</th>\n",
       "      <th>ORIGIN_AIRPORT_ID</th>\n",
       "      <th>DEST_AIRPORT_ID</th>\n",
       "      <th>AIRPORT_ID</th>\n",
       "      <th>LATITUDE_O</th>\n",
       "      <th>LONGITUDE_O</th>\n",
       "      <th>LATITUDE_D</th>\n",
       "      <th>LONGITUDE_D</th>\n",
       "    </tr>\n",
       "  </thead>\n",
       "  <tbody>\n",
       "    <tr>\n",
       "      <th>0</th>\n",
       "      <td>2</td>\n",
       "      <td>12889</td>\n",
       "      <td>13244</td>\n",
       "      <td>13244</td>\n",
       "      <td>36.080000</td>\n",
       "      <td>-115.152222</td>\n",
       "      <td>35.049722</td>\n",
       "      <td>-89.978611</td>\n",
       "    </tr>\n",
       "    <tr>\n",
       "      <th>1</th>\n",
       "      <td>2</td>\n",
       "      <td>12892</td>\n",
       "      <td>10540</td>\n",
       "      <td>10540</td>\n",
       "      <td>33.942500</td>\n",
       "      <td>-118.408056</td>\n",
       "      <td>42.470833</td>\n",
       "      <td>-71.290000</td>\n",
       "    </tr>\n",
       "    <tr>\n",
       "      <th>2</th>\n",
       "      <td>2</td>\n",
       "      <td>12892</td>\n",
       "      <td>14679</td>\n",
       "      <td>14679</td>\n",
       "      <td>33.942500</td>\n",
       "      <td>-118.408056</td>\n",
       "      <td>32.732778</td>\n",
       "      <td>-117.187222</td>\n",
       "    </tr>\n",
       "    <tr>\n",
       "      <th>3</th>\n",
       "      <td>2</td>\n",
       "      <td>12932</td>\n",
       "      <td>12339</td>\n",
       "      <td>12339</td>\n",
       "      <td>43.628056</td>\n",
       "      <td>-72.305833</td>\n",
       "      <td>39.728889</td>\n",
       "      <td>-86.281667</td>\n",
       "    </tr>\n",
       "    <tr>\n",
       "      <th>4</th>\n",
       "      <td>2</td>\n",
       "      <td>12953</td>\n",
       "      <td>13204</td>\n",
       "      <td>13204</td>\n",
       "      <td>40.779444</td>\n",
       "      <td>-73.875833</td>\n",
       "      <td>28.431667</td>\n",
       "      <td>-81.324722</td>\n",
       "    </tr>\n",
       "  </tbody>\n",
       "</table>\n",
       "</div>"
      ],
      "text/plain": [
       "   PASSENGERS  ORIGIN_AIRPORT_ID  DEST_AIRPORT_ID  AIRPORT_ID  LATITUDE_O  \\\n",
       "0           2              12889            13244       13244   36.080000   \n",
       "1           2              12892            10540       10540   33.942500   \n",
       "2           2              12892            14679       14679   33.942500   \n",
       "3           2              12932            12339       12339   43.628056   \n",
       "4           2              12953            13204       13204   40.779444   \n",
       "\n",
       "   LONGITUDE_O  LATITUDE_D  LONGITUDE_D  \n",
       "0  -115.152222   35.049722   -89.978611  \n",
       "1  -118.408056   42.470833   -71.290000  \n",
       "2  -118.408056   32.732778  -117.187222  \n",
       "3   -72.305833   39.728889   -86.281667  \n",
       "4   -73.875833   28.431667   -81.324722  "
      ]
     },
     "execution_count": 28,
     "metadata": {},
     "output_type": "execute_result"
    }
   ],
   "source": [
    "fdf['AIRPORT_ID'] = fdf['ORIGIN_AIRPORT_ID'].astype(np.int64) # create a common key with origin airport\n",
    "hdf = fdf.merge(adf, on=['AIRPORT_ID'], how='left')\n",
    "hdf.rename(columns = {'LATITUDE': 'LATITUDE_O', 'LONGITUDE': 'LONGITUDE_O'}, inplace=True) # Origin lat and long\n",
    "hdf['AIRPORT_ID'] = hdf['DEST_AIRPORT_ID'].astype(np.int64) # recreate a common key with destination airport\n",
    "hdf = hdf.merge(adf, on=['AIRPORT_ID'], how='left')\n",
    "hdf.rename(columns = {'LATITUDE': 'LATITUDE_D', 'LONGITUDE': 'LONGITUDE_D'}, inplace=True) # Origin lat and long\n",
    "hdf.head()"
   ]
  },
  {
   "cell_type": "code",
   "execution_count": 29,
   "metadata": {},
   "outputs": [
    {
     "data": {
      "text/html": [
       "<div>\n",
       "<style scoped>\n",
       "    .dataframe tbody tr th:only-of-type {\n",
       "        vertical-align: middle;\n",
       "    }\n",
       "\n",
       "    .dataframe tbody tr th {\n",
       "        vertical-align: top;\n",
       "    }\n",
       "\n",
       "    .dataframe thead th {\n",
       "        text-align: right;\n",
       "    }\n",
       "</style>\n",
       "<table border=\"1\" class=\"dataframe\">\n",
       "  <thead>\n",
       "    <tr style=\"text-align: right;\">\n",
       "      <th></th>\n",
       "      <th>PASSENGERS</th>\n",
       "      <th>ORIGIN_AIRPORT_ID</th>\n",
       "      <th>DEST_AIRPORT_ID</th>\n",
       "      <th>AIRPORT_ID</th>\n",
       "      <th>LATITUDE_O</th>\n",
       "      <th>LONGITUDE_O</th>\n",
       "      <th>LATITUDE_D</th>\n",
       "      <th>LONGITUDE_D</th>\n",
       "      <th>H-distance</th>\n",
       "    </tr>\n",
       "  </thead>\n",
       "  <tbody>\n",
       "    <tr>\n",
       "      <th>0</th>\n",
       "      <td>2</td>\n",
       "      <td>12889</td>\n",
       "      <td>13244</td>\n",
       "      <td>13244</td>\n",
       "      <td>36.080000</td>\n",
       "      <td>-115.152222</td>\n",
       "      <td>35.049722</td>\n",
       "      <td>-89.978611</td>\n",
       "      <td>2273.552209</td>\n",
       "    </tr>\n",
       "    <tr>\n",
       "      <th>1</th>\n",
       "      <td>2</td>\n",
       "      <td>12892</td>\n",
       "      <td>10540</td>\n",
       "      <td>10540</td>\n",
       "      <td>33.942500</td>\n",
       "      <td>-118.408056</td>\n",
       "      <td>42.470833</td>\n",
       "      <td>-71.290000</td>\n",
       "      <td>4169.058512</td>\n",
       "    </tr>\n",
       "    <tr>\n",
       "      <th>2</th>\n",
       "      <td>2</td>\n",
       "      <td>12892</td>\n",
       "      <td>14679</td>\n",
       "      <td>14679</td>\n",
       "      <td>33.942500</td>\n",
       "      <td>-118.408056</td>\n",
       "      <td>32.732778</td>\n",
       "      <td>-117.187222</td>\n",
       "      <td>175.941393</td>\n",
       "    </tr>\n",
       "    <tr>\n",
       "      <th>3</th>\n",
       "      <td>2</td>\n",
       "      <td>12932</td>\n",
       "      <td>12339</td>\n",
       "      <td>12339</td>\n",
       "      <td>43.628056</td>\n",
       "      <td>-72.305833</td>\n",
       "      <td>39.728889</td>\n",
       "      <td>-86.281667</td>\n",
       "      <td>1237.124452</td>\n",
       "    </tr>\n",
       "    <tr>\n",
       "      <th>4</th>\n",
       "      <td>2</td>\n",
       "      <td>12953</td>\n",
       "      <td>13204</td>\n",
       "      <td>13204</td>\n",
       "      <td>40.779444</td>\n",
       "      <td>-73.875833</td>\n",
       "      <td>28.431667</td>\n",
       "      <td>-81.324722</td>\n",
       "      <td>1531.448949</td>\n",
       "    </tr>\n",
       "    <tr>\n",
       "      <th>5</th>\n",
       "      <td>2</td>\n",
       "      <td>13232</td>\n",
       "      <td>10257</td>\n",
       "      <td>10257</td>\n",
       "      <td>41.785000</td>\n",
       "      <td>-87.751944</td>\n",
       "      <td>42.745833</td>\n",
       "      <td>-73.805278</td>\n",
       "      <td>1151.284544</td>\n",
       "    </tr>\n",
       "    <tr>\n",
       "      <th>6</th>\n",
       "      <td>2</td>\n",
       "      <td>13232</td>\n",
       "      <td>10540</td>\n",
       "      <td>10540</td>\n",
       "      <td>41.785000</td>\n",
       "      <td>-87.751944</td>\n",
       "      <td>42.470833</td>\n",
       "      <td>-71.290000</td>\n",
       "      <td>1357.583284</td>\n",
       "    </tr>\n",
       "    <tr>\n",
       "      <th>7</th>\n",
       "      <td>2</td>\n",
       "      <td>13244</td>\n",
       "      <td>12889</td>\n",
       "      <td>12889</td>\n",
       "      <td>35.049722</td>\n",
       "      <td>-89.978611</td>\n",
       "      <td>36.080000</td>\n",
       "      <td>-115.152222</td>\n",
       "      <td>2273.552209</td>\n",
       "    </tr>\n",
       "    <tr>\n",
       "      <th>8</th>\n",
       "      <td>2</td>\n",
       "      <td>13244</td>\n",
       "      <td>15167</td>\n",
       "      <td>15167</td>\n",
       "      <td>35.049722</td>\n",
       "      <td>-89.978611</td>\n",
       "      <td>40.849722</td>\n",
       "      <td>-74.062222</td>\n",
       "      <td>1534.327434</td>\n",
       "    </tr>\n",
       "    <tr>\n",
       "      <th>9</th>\n",
       "      <td>2</td>\n",
       "      <td>13303</td>\n",
       "      <td>10821</td>\n",
       "      <td>10821</td>\n",
       "      <td>25.792500</td>\n",
       "      <td>-80.286111</td>\n",
       "      <td>39.175556</td>\n",
       "      <td>-76.671389</td>\n",
       "      <td>1525.879450</td>\n",
       "    </tr>\n",
       "  </tbody>\n",
       "</table>\n",
       "</div>"
      ],
      "text/plain": [
       "   PASSENGERS  ORIGIN_AIRPORT_ID  DEST_AIRPORT_ID  AIRPORT_ID  LATITUDE_O  \\\n",
       "0           2              12889            13244       13244   36.080000   \n",
       "1           2              12892            10540       10540   33.942500   \n",
       "2           2              12892            14679       14679   33.942500   \n",
       "3           2              12932            12339       12339   43.628056   \n",
       "4           2              12953            13204       13204   40.779444   \n",
       "5           2              13232            10257       10257   41.785000   \n",
       "6           2              13232            10540       10540   41.785000   \n",
       "7           2              13244            12889       12889   35.049722   \n",
       "8           2              13244            15167       15167   35.049722   \n",
       "9           2              13303            10821       10821   25.792500   \n",
       "\n",
       "   LONGITUDE_O  LATITUDE_D  LONGITUDE_D   H-distance  \n",
       "0  -115.152222   35.049722   -89.978611  2273.552209  \n",
       "1  -118.408056   42.470833   -71.290000  4169.058512  \n",
       "2  -118.408056   32.732778  -117.187222   175.941393  \n",
       "3   -72.305833   39.728889   -86.281667  1237.124452  \n",
       "4   -73.875833   28.431667   -81.324722  1531.448949  \n",
       "5   -87.751944   42.745833   -73.805278  1151.284544  \n",
       "6   -87.751944   42.470833   -71.290000  1357.583284  \n",
       "7   -89.978611   36.080000  -115.152222  2273.552209  \n",
       "8   -89.978611   40.849722   -74.062222  1534.327434  \n",
       "9   -80.286111   39.175556   -76.671389  1525.879450  "
      ]
     },
     "execution_count": 29,
     "metadata": {},
     "output_type": "execute_result"
    }
   ],
   "source": [
    "x1 = hdf[\"LONGITUDE_O\"]\n",
    "y1 = hdf[\"LATITUDE_O\"]\n",
    "x2 = hdf[\"LONGITUDE_D\"]\n",
    "y2 = hdf[\"LATITUDE_D\"]\n",
    "\n",
    "hdf['H-distance'] = cuspatial.haversine_distance(x1, y1, x2, y2)\n",
    "hdf.head(10)"
   ]
  },
  {
   "cell_type": "markdown",
   "metadata": {},
   "source": [
    "Let's get the actual distances that one must fly to get between those airports"
   ]
  },
  {
   "cell_type": "code",
   "execution_count": 30,
   "metadata": {},
   "outputs": [],
   "source": [
    "H = cugraph.Graph()\n",
    "#hdf[\"ORIGIN_AIRPORT_ID_0\"] = hdf[\"ORIGIN_AIRPORT_ID\"] - 10001\n",
    "#hdf[\"DEST_AIRPORT_ID_0\"] = hdf[\"DEST_AIRPORT_ID\"] - 10001\n",
    "#hdf[\"data\"] = 1.0\n",
    "H.add_edge_list(hdf[\"ORIGIN_AIRPORT_ID\"], hdf[\"DEST_AIRPORT_ID\"], hdf[\"H-distance\"])\n",
    "hgdf = cugraph.bfs(H,13930)"
   ]
  },
  {
   "cell_type": "markdown",
   "metadata": {},
   "source": [
    "**Fun Fact** Deleting the -1s throws off your indexes and doesn't return you a valid answer.  Try it if you'd like!"
   ]
  },
  {
   "cell_type": "code",
   "execution_count": 31,
   "metadata": {},
   "outputs": [],
   "source": [
    "def print_dist_path(df, id):\n",
    "    # Use the BFS predecessors and distance to trace the path \n",
    "    # from vertex id back to the starting vertex ( vertex 1 in this example)\n",
    "    dist = df['distance'][id]\n",
    "    hdist = 0\n",
    "    print(\"Your overall flight has \" + str(dist) + \" hops\")\n",
    "    lastVert = id\n",
    "    for i in range(dist):\n",
    "        nextVert = df['predecessor'][lastVert]\n",
    "        d = df['distance'][lastVert]\n",
    "        a = hdf.query(\"ORIGIN_AIRPORT_ID == @nextVert and DEST_AIRPORT_ID == @lastVert\")\n",
    "        a.head()\n",
    "        hdist = hdist+ a[\"H-distance\"][0]\n",
    "        print(\"Airport: \" + str(lastVert) + \" was reached from Airport \" + str(nextVert) + \n",
    "        \" and flight distance was \" + str(a[\"H-distance\"][0]) )\n",
    "        lastVert = nextVert\n",
    "    print(\"Your total flying distance was \" + str(hdist))"
   ]
  },
  {
   "cell_type": "code",
   "execution_count": 32,
   "metadata": {},
   "outputs": [
    {
     "name": "stdout",
     "output_type": "stream",
     "text": [
      "Your overall flight has 3 hops\n",
      "Airport: 16838 was reached from Airport 13418 and flight distance was 235.3294186784242\n",
      "Airport: 13418 was reached from Airport 12197 and flight distance was 416.77900332448866\n",
      "Airport: 12197 was reached from Airport 13930 and flight distance was 1184.955067107391\n",
      "Your total flying distance was 1837.0634891103039\n"
     ]
    }
   ],
   "source": [
    "print_dist_path(hgdf, 16838)"
   ]
  },
  {
   "cell_type": "markdown",
   "metadata": {},
   "source": [
    "Okay, pretty cool.  We now know the distance between these airports...but where are they in the world?  Normally, we'd use use [cuDataShader](https://github.com/rapidsai/cuDataShader) for this, but it is not a library in this container.  [They've got a great example here that you can adapt to your needs](https://github.com/rapidsai/cuDataShader/blob/master/cudatashader-notebooks/cuDatashader%20Edge%20Bundling%20(US%20air%20traffic).ipynb)"
   ]
  },
  {
   "cell_type": "markdown",
   "metadata": {},
   "source": [
    "### Question 5: What is the topology of our airport network\n",
    "\n",
    "Let's look at the topology of this network of airports.  One way to do that is to measure the modularity of our airport system!  To do that, we use Louvain.  However, we need to make some changes to our data, as Louvain requires us to start from 0.  It also requires weights.  Let's see how weights change our answer.  We will use our Haversine distances as our weights in one set, and be unweighted in the next!"
   ]
  },
  {
   "cell_type": "code",
   "execution_count": 33,
   "metadata": {},
   "outputs": [],
   "source": [
    "L = cugraph.Graph()\n",
    "L2 = cugraph.Graph()\n",
    "hdf[\"ORIGIN_AIRPORT_ID_0\"] = hdf[\"ORIGIN_AIRPORT_ID\"] - 10001\n",
    "hdf[\"DEST_AIRPORT_ID_0\"] = hdf[\"DEST_AIRPORT_ID\"] - 10001\n",
    "hdf[\"data\"]= 1.0\n",
    "L2.add_edge_list(hdf[\"ORIGIN_AIRPORT_ID_0\"], hdf[\"DEST_AIRPORT_ID_0\"], hdf[\"data\"]) # Unweighted Modularity\n",
    "L.add_edge_list(hdf[\"ORIGIN_AIRPORT_ID_0\"], hdf[\"DEST_AIRPORT_ID_0\"], hdf[\"H-distance\"]) # Distance Weighted Modularity"
   ]
  },
  {
   "cell_type": "code",
   "execution_count": 34,
   "metadata": {},
   "outputs": [
    {
     "name": "stdout",
     "output_type": "stream",
     "text": [
      "Modularity using Distance as a weight was 0.009855977986124594\n",
      "\n",
      "Modularity unweighted was 0.2059180297193165\n",
      "\n"
     ]
    }
   ],
   "source": [
    "# Call Louvain on the graph\n",
    "hgdf, mod = cugraph.louvain(L) \n",
    "hgdf2, mod2 =cugraph.louvain(L2) \n",
    "# Print the modularity score\n",
    "print('Modularity using Distance as a weight was {}'.format(mod))\n",
    "print()\n",
    "print('Modularity unweighted was {}'.format(mod2))\n",
    "print()"
   ]
  },
  {
   "cell_type": "code",
   "execution_count": 35,
   "metadata": {},
   "outputs": [
    {
     "data": {
      "text/html": [
       "<div>\n",
       "<style scoped>\n",
       "    .dataframe tbody tr th:only-of-type {\n",
       "        vertical-align: middle;\n",
       "    }\n",
       "\n",
       "    .dataframe tbody tr th {\n",
       "        vertical-align: top;\n",
       "    }\n",
       "\n",
       "    .dataframe thead th {\n",
       "        text-align: right;\n",
       "    }\n",
       "</style>\n",
       "<table border=\"1\" class=\"dataframe\">\n",
       "  <thead>\n",
       "    <tr style=\"text-align: right;\">\n",
       "      <th></th>\n",
       "      <th>vertex</th>\n",
       "      <th>partition</th>\n",
       "    </tr>\n",
       "  </thead>\n",
       "  <tbody>\n",
       "    <tr>\n",
       "      <th>0</th>\n",
       "      <td>0</td>\n",
       "      <td>0</td>\n",
       "    </tr>\n",
       "    <tr>\n",
       "      <th>1</th>\n",
       "      <td>1</td>\n",
       "      <td>1</td>\n",
       "    </tr>\n",
       "    <tr>\n",
       "      <th>2</th>\n",
       "      <td>2</td>\n",
       "      <td>2</td>\n",
       "    </tr>\n",
       "    <tr>\n",
       "      <th>3</th>\n",
       "      <td>3</td>\n",
       "      <td>3</td>\n",
       "    </tr>\n",
       "    <tr>\n",
       "      <th>4</th>\n",
       "      <td>4</td>\n",
       "      <td>1431</td>\n",
       "    </tr>\n",
       "    <tr>\n",
       "      <th>5</th>\n",
       "      <td>5</td>\n",
       "      <td>44</td>\n",
       "    </tr>\n",
       "    <tr>\n",
       "      <th>6</th>\n",
       "      <td>6</td>\n",
       "      <td>4</td>\n",
       "    </tr>\n",
       "    <tr>\n",
       "      <th>7</th>\n",
       "      <td>7</td>\n",
       "      <td>5</td>\n",
       "    </tr>\n",
       "    <tr>\n",
       "      <th>8</th>\n",
       "      <td>8</td>\n",
       "      <td>145</td>\n",
       "    </tr>\n",
       "    <tr>\n",
       "      <th>9</th>\n",
       "      <td>9</td>\n",
       "      <td>6</td>\n",
       "    </tr>\n",
       "  </tbody>\n",
       "</table>\n",
       "</div>"
      ],
      "text/plain": [
       "   vertex  partition\n",
       "0       0          0\n",
       "1       1          1\n",
       "2       2          2\n",
       "3       3          3\n",
       "4       4       1431\n",
       "5       5         44\n",
       "6       6          4\n",
       "7       7          5\n",
       "8       8        145\n",
       "9       9          6"
      ]
     },
     "execution_count": 35,
     "metadata": {},
     "output_type": "execute_result"
    }
   ],
   "source": [
    "hgdf.head(10)"
   ]
  },
  {
   "cell_type": "code",
   "execution_count": 36,
   "metadata": {},
   "outputs": [
    {
     "data": {
      "text/html": [
       "<div>\n",
       "<style scoped>\n",
       "    .dataframe tbody tr th:only-of-type {\n",
       "        vertical-align: middle;\n",
       "    }\n",
       "\n",
       "    .dataframe tbody tr th {\n",
       "        vertical-align: top;\n",
       "    }\n",
       "\n",
       "    .dataframe thead th {\n",
       "        text-align: right;\n",
       "    }\n",
       "</style>\n",
       "<table border=\"1\" class=\"dataframe\">\n",
       "  <thead>\n",
       "    <tr style=\"text-align: right;\">\n",
       "      <th></th>\n",
       "      <th>vertex</th>\n",
       "      <th>partition</th>\n",
       "    </tr>\n",
       "  </thead>\n",
       "  <tbody>\n",
       "    <tr>\n",
       "      <th>0</th>\n",
       "      <td>0</td>\n",
       "      <td>0</td>\n",
       "    </tr>\n",
       "    <tr>\n",
       "      <th>1</th>\n",
       "      <td>1</td>\n",
       "      <td>1</td>\n",
       "    </tr>\n",
       "    <tr>\n",
       "      <th>2</th>\n",
       "      <td>2</td>\n",
       "      <td>2</td>\n",
       "    </tr>\n",
       "    <tr>\n",
       "      <th>3</th>\n",
       "      <td>3</td>\n",
       "      <td>3</td>\n",
       "    </tr>\n",
       "    <tr>\n",
       "      <th>4</th>\n",
       "      <td>4</td>\n",
       "      <td>4469</td>\n",
       "    </tr>\n",
       "    <tr>\n",
       "      <th>5</th>\n",
       "      <td>5</td>\n",
       "      <td>42</td>\n",
       "    </tr>\n",
       "    <tr>\n",
       "      <th>6</th>\n",
       "      <td>6</td>\n",
       "      <td>4</td>\n",
       "    </tr>\n",
       "    <tr>\n",
       "      <th>7</th>\n",
       "      <td>7</td>\n",
       "      <td>5</td>\n",
       "    </tr>\n",
       "    <tr>\n",
       "      <th>8</th>\n",
       "      <td>8</td>\n",
       "      <td>1054</td>\n",
       "    </tr>\n",
       "    <tr>\n",
       "      <th>9</th>\n",
       "      <td>9</td>\n",
       "      <td>3335</td>\n",
       "    </tr>\n",
       "  </tbody>\n",
       "</table>\n",
       "</div>"
      ],
      "text/plain": [
       "   vertex  partition\n",
       "0       0          0\n",
       "1       1          1\n",
       "2       2          2\n",
       "3       3          3\n",
       "4       4       4469\n",
       "5       5         42\n",
       "6       6          4\n",
       "7       7          5\n",
       "8       8       1054\n",
       "9       9       3335"
      ]
     },
     "execution_count": 36,
     "metadata": {},
     "output_type": "execute_result"
    }
   ],
   "source": [
    "hgdf2.head(10)"
   ]
  },
  {
   "cell_type": "markdown",
   "metadata": {},
   "source": [
    "That's a high partition number for both graphs.  This is of course, based on a small dataset of flights.  I'll be working on a larger one in notebooks_contrib that uses DOT 2015 Flight data and use cuDataShader for graph visualizations.  Let's see what the value counts look like."
   ]
  },
  {
   "cell_type": "code",
   "execution_count": 37,
   "metadata": {},
   "outputs": [
    {
     "name": "stdout",
     "output_type": "stream",
     "text": [
      "6122\n",
      "5685\n"
     ]
    }
   ],
   "source": [
    "print(len(hgdf['partition'].unique()))\n",
    "print(len(hgdf2['partition'].unique()))"
   ]
  },
  {
   "cell_type": "code",
   "execution_count": 38,
   "metadata": {},
   "outputs": [
    {
     "data": {
      "text/plain": [
       "1431    105\n",
       "3376     92\n",
       "256      90\n",
       "2909     76\n",
       "1138     52\n",
       "694      50\n",
       "1916     41\n",
       "1370     30\n",
       "44       23\n",
       "1408     23\n",
       "3599     18\n",
       "3322     17\n",
       "1927     14\n",
       "2484     13\n",
       "145      11\n",
       "1743     10\n",
       "3735      9\n",
       "440       7\n",
       "1994      7\n",
       "2950      4\n",
       "3620      4\n",
       "1227      3\n",
       "1718      3\n",
       "3259      3\n",
       "3371      3\n",
       "3535      3\n",
       "3722      3\n",
       "4117      3\n",
       "4953      3\n",
       "5169      3\n",
       "       ... \n",
       "6091      1\n",
       "6092      1\n",
       "6093      1\n",
       "6094      1\n",
       "6095      1\n",
       "6096      1\n",
       "6097      1\n",
       "6098      1\n",
       "6099      1\n",
       "6100      1\n",
       "6101      1\n",
       "6103      1\n",
       "6104      1\n",
       "6105      1\n",
       "6106      1\n",
       "6107      1\n",
       "6108      1\n",
       "6109      1\n",
       "6110      1\n",
       "6111      1\n",
       "6112      1\n",
       "6113      1\n",
       "6114      1\n",
       "6115      1\n",
       "6116      1\n",
       "6117      1\n",
       "6118      1\n",
       "6119      1\n",
       "6120      1\n",
       "6121      1\n",
       "Name: partition, Length: 6122, dtype: int32"
      ]
     },
     "execution_count": 38,
     "metadata": {},
     "output_type": "execute_result"
    }
   ],
   "source": [
    "hgdf['partition'].value_counts()"
   ]
  },
  {
   "cell_type": "code",
   "execution_count": 39,
   "metadata": {},
   "outputs": [
    {
     "data": {
      "text/plain": [
       "3335    762\n",
       "4469    179\n",
       "415      75\n",
       "2041     47\n",
       "3354     43\n",
       "42       28\n",
       "2842     12\n",
       "1054     11\n",
       "278       2\n",
       "1286      2\n",
       "3654      2\n",
       "4026      2\n",
       "4245      2\n",
       "5671      2\n",
       "0         1\n",
       "1         1\n",
       "2         1\n",
       "3         1\n",
       "4         1\n",
       "5         1\n",
       "6         1\n",
       "7         1\n",
       "8         1\n",
       "9         1\n",
       "10        1\n",
       "11        1\n",
       "12        1\n",
       "13        1\n",
       "14        1\n",
       "15        1\n",
       "       ... \n",
       "5654      1\n",
       "5655      1\n",
       "5656      1\n",
       "5657      1\n",
       "5658      1\n",
       "5659      1\n",
       "5660      1\n",
       "5661      1\n",
       "5662      1\n",
       "5663      1\n",
       "5664      1\n",
       "5665      1\n",
       "5666      1\n",
       "5667      1\n",
       "5668      1\n",
       "5669      1\n",
       "5670      1\n",
       "5672      1\n",
       "5673      1\n",
       "5674      1\n",
       "5675      1\n",
       "5676      1\n",
       "5677      1\n",
       "5678      1\n",
       "5679      1\n",
       "5680      1\n",
       "5681      1\n",
       "5682      1\n",
       "5683      1\n",
       "5684      1\n",
       "Name: partition, Length: 5685, dtype: int32"
      ]
     },
     "execution_count": 39,
     "metadata": {},
     "output_type": "execute_result"
    }
   ],
   "source": [
    "hgdf2['partition'].value_counts()"
   ]
  },
  {
   "cell_type": "markdown",
   "metadata": {},
   "source": [
    "It seems that the unweighted graph is less modular.  Let's remove paritions of 1 from the ."
   ]
  },
  {
   "cell_type": "code",
   "execution_count": 40,
   "metadata": {},
   "outputs": [],
   "source": [
    "def get_mod(df):\n",
    "    val_counts = df['partition'].value_counts()\n",
    "    relevant_partitions = val_counts[val_counts>1].index\n",
    "    print(len(relevant_partitions))\n",
    "    query = 'partition == '+ str(relevant_partitions[0])\n",
    "    for i in range (1, len(relevant_partitions)):\n",
    "            query += ' or partition == '+ str(relevant_partitions[i])\n",
    "    return df.query(query)"
   ]
  },
  {
   "cell_type": "code",
   "execution_count": 41,
   "metadata": {},
   "outputs": [],
   "source": [
    "# How many partitions where found\n",
    "def get_partitions(df):\n",
    "    part_ids = df[\"partition\"].unique()\n",
    "    for p in range(len(part_ids)):\n",
    "        part = []\n",
    "        for i in range(len(df)):\n",
    "            #print(df['partition'][i])\n",
    "            if (df['partition'][i] == part_ids[p]):\n",
    "                part.append(df['vertex'][i] +1+10001)\n",
    "        print(\"Partition \" + str(part_ids[p]) + \" contains these airports:\")\n",
    "        print(part)"
   ]
  },
  {
   "cell_type": "code",
   "execution_count": 42,
   "metadata": {},
   "outputs": [
    {
     "name": "stdout",
     "output_type": "stream",
     "text": [
      "Number of partitions > 1 in Distance Weighted Modularity:\n",
      "55\n",
      "Number of partitions > 1 in Unweighted Modularity:\n",
      "14\n"
     ]
    },
    {
     "data": {
      "text/html": [
       "<div>\n",
       "<style scoped>\n",
       "    .dataframe tbody tr th:only-of-type {\n",
       "        vertical-align: middle;\n",
       "    }\n",
       "\n",
       "    .dataframe tbody tr th {\n",
       "        vertical-align: top;\n",
       "    }\n",
       "\n",
       "    .dataframe thead th {\n",
       "        text-align: right;\n",
       "    }\n",
       "</style>\n",
       "<table border=\"1\" class=\"dataframe\">\n",
       "  <thead>\n",
       "    <tr style=\"text-align: right;\">\n",
       "      <th></th>\n",
       "      <th>vertex</th>\n",
       "      <th>partition</th>\n",
       "    </tr>\n",
       "  </thead>\n",
       "  <tbody>\n",
       "    <tr>\n",
       "      <th>4</th>\n",
       "      <td>4</td>\n",
       "      <td>1431</td>\n",
       "    </tr>\n",
       "    <tr>\n",
       "      <th>5</th>\n",
       "      <td>5</td>\n",
       "      <td>44</td>\n",
       "    </tr>\n",
       "    <tr>\n",
       "      <th>8</th>\n",
       "      <td>8</td>\n",
       "      <td>145</td>\n",
       "    </tr>\n",
       "    <tr>\n",
       "      <th>13</th>\n",
       "      <td>13</td>\n",
       "      <td>1431</td>\n",
       "    </tr>\n",
       "    <tr>\n",
       "      <th>15</th>\n",
       "      <td>15</td>\n",
       "      <td>1927</td>\n",
       "    </tr>\n",
       "  </tbody>\n",
       "</table>\n",
       "</div>"
      ],
      "text/plain": [
       "    vertex  partition\n",
       "4        4       1431\n",
       "5        5         44\n",
       "8        8        145\n",
       "13      13       1431\n",
       "15      15       1927"
      ]
     },
     "execution_count": 42,
     "metadata": {},
     "output_type": "execute_result"
    }
   ],
   "source": [
    "print(\"Number of partitions > 1 in Distance Weighted Modularity:\")\n",
    "hgdf_1 = get_mod(hgdf)\n",
    "print(\"Number of partitions > 1 in Unweighted Modularity:\")\n",
    "hgdf_2 = get_mod(hgdf2)\n",
    "\n",
    "hgdf_1.head()"
   ]
  },
  {
   "cell_type": "code",
   "execution_count": 43,
   "metadata": {},
   "outputs": [
    {
     "name": "stdout",
     "output_type": "stream",
     "text": [
      "------Distance Weighted Modularity------\n",
      "Partition 44 contains these airports:\n",
      "[10007, 10018, 10043, 10044, 10048, 10057, 10064, 10079, 10101, 10244, 10279, 11514, 12510, 12706, 12713, 12744, 12772, 12786, 12855, 12870, 13889, 15092, 15837]\n",
      "Partition 145 contains these airports:\n",
      "[10010, 10171, 10918, 10927, 11300, 11556, 12773, 12867, 13864, 13935, 14856]\n",
      "Partition 192 contains these airports:\n",
      "[10225, 15326]\n",
      "Partition 256 contains these airports:\n",
      "[10166, 10217, 10226, 10238, 10300, 10467, 10552, 10616, 10755, 10776, 10784, 10875, 11110, 11337, 11434, 11446, 11472, 11512, 11536, 11551, 11560, 11638, 11765, 11776, 11814, 11826, 11828, 11834, 11845, 11846, 11942, 11953, 12120, 12196, 12295, 12322, 12639, 12654, 12664, 12672, 12705, 12720, 12722, 12749, 12756, 12808, 12820, 12823, 12842, 13088, 13204, 13297, 13399, 13580, 13705, 13716, 13768, 13874, 13943, 13971, 14047, 14103, 14131, 14168, 14269, 14274, 14322, 14486, 14494, 14710, 14739, 14806, 14881, 14896, 14920, 15013, 15064, 15087, 15237, 15294, 15305, 15580, 15701, 15710, 15722, 15839, 15854, 16312, 16391, 16568]\n",
      "Partition 296 contains these airports:\n",
      "[10345, 12787]\n",
      "Partition 440 contains these airports:\n",
      "[10505, 10536, 11457, 12223, 12251, 12917, 13988]\n",
      "Partition 487 contains these airports:\n",
      "[10557, 12783]\n",
      "Partition 694 contains these airports:\n",
      "[10373, 10479, 10530, 10541, 10562, 10582, 10631, 10648, 10722, 10801, 10911, 11043, 11107, 11454, 11625, 11900, 12019, 12055, 12157, 12364, 12376, 13073, 13233, 13389, 13462, 13486, 13542, 13600, 13782, 13899, 13959, 14090, 14092, 14256, 14304, 14333, 14490, 14636, 14673, 14675, 14878, 14968, 15021, 15154, 15233, 15371, 15412, 15920, 16092, 16790]\n",
      "Partition 804 contains these airports:\n",
      "[10919, 13485]\n",
      "Partition 1019 contains these airports:\n",
      "[11166, 15196]\n",
      "Partition 1028 contains these airports:\n",
      "[11175, 16793]\n",
      "Partition 1138 contains these airports:\n",
      "[10195, 10209, 10432, 10686, 10729, 10732, 10981, 11028, 11068, 11086, 11198, 11234, 11293, 11299, 11416, 11482, 11532, 11613, 11696, 11779, 11868, 11932, 11996, 11997, 12191, 12208, 12218, 12324, 12452, 12512, 12759, 12893, 12916, 12918, 12983, 13361, 13378, 13578, 13932, 14108, 14525, 14577, 14589, 14680, 14686, 14843, 14844, 15075, 15381, 15402, 15570, 15619]\n",
      "Partition 1227 contains these airports:\n",
      "[11393, 13004, 14469]\n",
      "Partition 1370 contains these airports:\n",
      "[10137, 10156, 10280, 10409, 11123, 11141, 11204, 11338, 11564, 11866, 11899, 11981, 12207, 12281, 12892, 12900, 12954, 13030, 13062, 13077, 13265, 13434, 14253, 14289, 14488, 14544, 14634, 14961, 15049, 16102]\n",
      "Partition 1395 contains these airports:\n",
      "[11591, 12079]\n",
      "Partition 1408 contains these airports:\n",
      "[10186, 10934, 11050, 11067, 11253, 11604, 11978, 12008, 12349, 12946, 13342, 13872, 14028, 14099, 14113, 14762, 14815, 15097, 15250, 15296, 15413, 15878, 16730]\n",
      "Partition 1431 contains these airports:\n",
      "[10006, 10015, 10040, 10041, 10077, 10140, 10185, 10248, 10269, 10314, 10350, 10397, 10435, 10559, 10714, 10745, 10748, 10786, 10939, 10968, 11008, 11037, 11077, 11147, 11215, 11275, 11281, 11289, 11464, 11491, 11631, 11639, 11649, 11860, 11885, 11922, 11925, 12004, 12088, 12123, 12142, 12215, 12236, 12371, 12413, 12449, 12616, 12622, 12677, 12869, 13122, 13159, 13185, 13197, 13212, 13242, 13291, 13293, 13345, 13370, 13382, 13416, 13423, 13460, 13487, 13503, 13677, 13769, 13807, 13931, 13941, 13965, 14005, 14007, 14010, 14110, 14126, 14194, 14219, 14475, 14552, 14560, 14712, 14714, 14803, 14805, 14817, 14987, 15025, 15042, 15062, 15125, 15161, 15390, 15455, 15473, 15505, 15582, 15600, 15672, 15726, 15732, 15862, 16585, 16721]\n",
      "Partition 1718 contains these airports:\n",
      "[11954, 12885, 13128]\n",
      "Partition 1743 contains these airports:\n",
      "[10628, 11112, 11268, 11414, 11983, 13231, 13278, 14489, 15625, 16802]\n",
      "Partition 1916 contains these airports:\n",
      "[10141, 10398, 10440, 10621, 10733, 10850, 10983, 11538, 11541, 11619, 11727, 11906, 12017, 12174, 12245, 12265, 12267, 12321, 12366, 12403, 12442, 12479, 12493, 12890, 12897, 12955, 13035, 13110, 13237, 13245, 13488, 13797, 13892, 14255, 14263, 14571, 14832, 14870, 14909, 15562, 16499]\n",
      "Partition 1917 contains these airports:\n",
      "[12175, 13348]\n",
      "Partition 1927 contains these airports:\n",
      "[10017, 10086, 10246, 10417, 12185, 12770, 13514, 14089, 14719, 15070, 15229, 15479, 15555, 15786]\n",
      "Partition 1930 contains these airports:\n",
      "[12188, 13796]\n",
      "Partition 1952 contains these airports:\n",
      "[12217, 13526]\n",
      "Partition 1994 contains these airports:\n",
      "[10641, 11412, 12269, 12845, 15246, 15279, 15795]\n",
      "Partition 2279 contains these airports:\n",
      "[12584, 13468]\n",
      "Partition 2339 contains these airports:\n",
      "[12648, 15447]\n",
      "Partition 2341 contains these airports:\n",
      "[12650, 14943]\n",
      "Partition 2484 contains these airports:\n",
      "[10962, 11485, 12254, 12634, 12816, 12858, 14230, 14271, 15742, 15755, 15794, 16346, 16347]\n",
      "Partition 2589 contains these airports:\n",
      "[12948, 15155]\n",
      "Partition 2892 contains these airports:\n",
      "[13284, 14671]\n",
      "Partition 2909 contains these airports:\n",
      "[10159, 10199, 10276, 10328, 10424, 10600, 10684, 10694, 10782, 10793, 10822, 10869, 10991, 10995, 11058, 11124, 11151, 11194, 11260, 11279, 11377, 11424, 11471, 11698, 11729, 11987, 12192, 12198, 12224, 12279, 12392, 12524, 12879, 12899, 13205, 13257, 13304, 13343, 13496, 13502, 13547, 13668, 13772, 13852, 14058, 14101, 14123, 14183, 14260, 14276, 14308, 14315, 14458, 14493, 14575, 14684, 14697, 14699, 14731, 14748, 14772, 14829, 14894, 15017, 15024, 15028, 15044, 15071, 15091, 15357, 15571, 15842, 15992, 16354, 16817, 16830]\n",
      "Partition 2950 contains these airports:\n",
      "[11480, 13349, 13419, 16839]\n",
      "Partition 3056 contains these airports:\n",
      "[12560, 13470]\n",
      "Partition 3259 contains these airports:\n",
      "[11825, 13701, 13737]\n",
      "Partition 3322 contains these airports:\n",
      "[10242, 10406, 12710, 12780, 12832, 12852, 12854, 12856, 13771, 13895, 14857, 15086, 15258, 15283, 15799, 15863, 15888]\n",
      "Partition 3371 contains these airports:\n",
      "[11345, 11974, 13825]\n",
      "Partition 3376 contains these airports:\n",
      "[10155, 10326, 10330, 10379, 10415, 10470, 10520, 10560, 10566, 10570, 10578, 10590, 10667, 10671, 10780, 10816, 10858, 10951, 10965, 11296, 11422, 11494, 11504, 11565, 11616, 11651, 11676, 11791, 11843, 11962, 12013, 12095, 12109, 12340, 12389, 12398, 12471, 12546, 12575, 12883, 12933, 13126, 13199, 13283, 13447, 13477, 13494, 13506, 13508, 13521, 13536, 13656, 13686, 13732, 13831, 13846, 13934, 13937, 13989, 14051, 14307, 14321, 14531, 14554, 14649, 14690, 14713, 14770, 14779, 14793, 14876, 14997, 15031, 15168, 15178, 15204, 15347, 15377, 15384, 15441, 15448, 15482, 15499, 15530, 15629, 15657, 15856, 16134, 16430, 16527, 16644, 16796]\n",
      "Partition 3413 contains these airports:\n",
      "[13871, 14939]\n",
      "Partition 3535 contains these airports:\n",
      "[10305, 14014, 15050]\n",
      "Partition 3599 contains these airports:\n",
      "[10136, 10258, 10591, 10677, 11004, 11722, 11824, 12266, 12545, 13368, 14026, 14083, 14109, 14513, 14784, 14953, 15009, 15382]\n",
      "Partition 3620 contains these airports:\n",
      "[11098, 14114, 14795, 14906]\n",
      "Partition 3722 contains these airports:\n",
      "[13827, 14223, 16648]\n",
      "Partition 3735 contains these airports:\n",
      "[10644, 12128, 12952, 12993, 13571, 14237, 14534, 15324, 16543]\n",
      "Partition 3806 contains these airports:\n",
      "[14324, 14478]\n",
      "Partition 3954 contains these airports:\n",
      "[11460, 14476]\n",
      "Partition 4078 contains these airports:\n",
      "[13683, 14619]\n",
      "Partition 4117 contains these airports:\n",
      "[10222, 10926, 14661]\n",
      "Partition 4356 contains these airports:\n",
      "[14946, 14993]\n",
      "Partition 4586 contains these airports:\n",
      "[13672, 15212]\n",
      "Partition 4953 contains these airports:\n",
      "[13620, 15621, 16219]\n",
      "Partition 5169 contains these airports:\n",
      "[11647, 12653, 15857]\n",
      "Partition 5895 contains these airports:\n",
      "[13003, 16604]\n",
      "Partition 6071 contains these airports:\n",
      "[11578, 16784]\n",
      "Partition 6102 contains these airports:\n",
      "[13733, 16820]\n",
      "------Unweighted Modularity------\n",
      "Partition 42 contains these airports:\n",
      "[10007, 10017, 10018, 10043, 10044, 10048, 10057, 10064, 10079, 10101, 10279, 10557, 11514, 12510, 12648, 12706, 12713, 12744, 12772, 12783, 12786, 12855, 12870, 13889, 15070, 15092, 15447, 15837]\n",
      "Partition 278 contains these airports:\n",
      "[10345, 12787]\n",
      "Partition 415 contains these airports:\n",
      "[10222, 10273, 10410, 10467, 10512, 10559, 10582, 10621, 10631, 10644, 10681, 10780, 10919, 10926, 10951, 11093, 11098, 11234, 11284, 11293, 11316, 11414, 11448, 11469, 11504, 11526, 11649, 11696, 11776, 11866, 11880, 11899, 11909, 11922, 12137, 12157, 12229, 12246, 12281, 12390, 12520, 12577, 12889, 12900, 12903, 13073, 13128, 13201, 13222, 13487, 13503, 13830, 13863, 14090, 14114, 14121, 14289, 14315, 14458, 14490, 14513, 14535, 14544, 14661, 14746, 14813, 14870, 15024, 15042, 15390, 15571, 15583, 15826, 15898, 16427]\n"
     ]
    },
    {
     "name": "stdout",
     "output_type": "stream",
     "text": [
      "Partition 1054 contains these airports:\n",
      "[10010, 10171, 10244, 11300, 12722, 12773, 12867, 13864, 13935, 14856, 15733]\n",
      "Partition 1286 contains these airports:\n",
      "[11591, 12079]\n",
      "Partition 2041 contains these airports:\n",
      "[10205, 10698, 10887, 10927, 10962, 11231, 11368, 11402, 11485, 11546, 11620, 11721, 11998, 12172, 12176, 12253, 12254, 12524, 12611, 12634, 12729, 12774, 12816, 12820, 12848, 12858, 12984, 13505, 13694, 14029, 14063, 14230, 14257, 14271, 14798, 14829, 15232, 15742, 15755, 15794, 15842, 15886, 15992, 16341, 16344, 16346, 16347]\n",
      "Partition 2842 contains these airports:\n",
      "[10415, 10505, 10614, 11774, 13126, 13508, 13675, 13988, 14183, 15856, 16443, 16667]\n",
      "Partition 3335 contains these airports:\n",
      "[10011, 10012, 10136, 10137, 10141, 10142, 10147, 10155, 10156, 10158, 10159, 10172, 10186, 10195, 10199, 10209, 10217, 10225, 10256, 10258, 10268, 10269, 10276, 10280, 10299, 10301, 10310, 10323, 10326, 10328, 10330, 10334, 10346, 10349, 10362, 10373, 10379, 10386, 10398, 10401, 10409, 10420, 10424, 10432, 10435, 10437, 10440, 10464, 10466, 10470, 10475, 10479, 10495, 10509, 10520, 10530, 10536, 10541, 10544, 10558, 10560, 10562, 10563, 10566, 10570, 10574, 10578, 10590, 10591, 10600, 10616, 10628, 10632, 10648, 10655, 10662, 10664, 10667, 10671, 10677, 10684, 10686, 10688, 10694, 10714, 10722, 10729, 10732, 10733, 10740, 10745, 10748, 10781, 10782, 10786, 10793, 10801, 10816, 10820, 10822, 10837, 10839, 10845, 10850, 10858, 10869, 10875, 10911, 10928, 10931, 10934, 10946, 10950, 10965, 10966, 10968, 10976, 10981, 10983, 10991, 10995, 11004, 11014, 11028, 11030, 11042, 11043, 11050, 11051, 11058, 11067, 11068, 11077, 11086, 11099, 11107, 11110, 11112, 11123, 11124, 11127, 11136, 11137, 11141, 11147, 11151, 11166, 11175, 11194, 11198, 11199, 11204, 11219, 11253, 11260, 11268, 11275, 11279, 11289, 11296, 11299, 11309, 11338, 11345, 11349, 11376, 11377, 11392, 11400, 11416, 11422, 11424, 11431, 11434, 11442, 11454, 11457, 11471, 11472, 11480, 11482, 11491, 11494, 11496, 11511, 11532, 11538, 11541, 11564, 11565, 11578, 11583, 11588, 11589, 11593, 11604, 11613, 11616, 11618, 11619, 11625, 11638, 11639, 11642, 11647, 11651, 11657, 11660, 11669, 11670, 11676, 11685, 11687, 11698, 11700, 11712, 11720, 11722, 11726, 11727, 11729, 11733, 11746, 11763, 11765, 11779, 11790, 11791, 11824, 11825, 11828, 11835, 11843, 11857, 11868, 11870, 11871, 11885, 11900, 11906, 11932, 11954, 11962, 11974, 11978, 11981, 11983, 11987, 11993, 11996, 11997, 12004, 12008, 12009, 12013, 12017, 12019, 12029, 12055, 12056, 12063, 12069, 12071, 12095, 12109, 12120, 12125, 12128, 12130, 12131, 12135, 12148, 12150, 12174, 12175, 12178, 12191, 12192, 12198, 12201, 12207, 12208, 12212, 12218, 12223, 12224, 12234, 12245, 12248, 12251, 12255, 12256, 12265, 12266, 12267, 12279, 12284, 12298, 12307, 12321, 12324, 12336, 12338, 12340, 12344, 12349, 12364, 12366, 12376, 12389, 12392, 12397, 12398, 12403, 12413, 12442, 12449, 12452, 12456, 12471, 12479, 12493, 12495, 12512, 12545, 12546, 12547, 12554, 12560, 12575, 12588, 12599, 12653, 12662, 12746, 12759, 12864, 12879, 12883, 12885, 12890, 12892, 12893, 12897, 12899, 12916, 12917, 12918, 12933, 12935, 12945, 12946, 12948, 12952, 12954, 12955, 12966, 12983, 12993, 13003, 13009, 13016, 13025, 13030, 13033, 13035, 13056, 13059, 13062, 13077, 13106, 13110, 13122, 13140, 13152, 13153, 13159, 13177, 13183, 13185, 13195, 13199, 13204, 13205, 13212, 13231, 13233, 13237, 13242, 13245, 13257, 13265, 13274, 13278, 13283, 13284, 13288, 13291, 13296, 13297, 13304, 13308, 13339, 13342, 13343, 13345, 13348, 13349, 13361, 13368, 13378, 13389, 13399, 13419, 13423, 13434, 13440, 13447, 13451, 13454, 13460, 13462, 13470, 13477, 13485, 13486, 13488, 13491, 13494, 13496, 13502, 13506, 13521, 13526, 13536, 13537, 13541, 13542, 13544, 13547, 13571, 13578, 13588, 13596, 13600, 13620, 13656, 13668, 13683, 13686, 13701, 13732, 13737, 13772, 13782, 13783, 13789, 13792, 13796, 13797, 13809, 13810, 13825, 13827, 13831, 13833, 13846, 13852, 13866, 13871, 13872, 13885, 13892, 13899, 13931, 13932, 13934, 13937, 13959, 13965, 13969, 13984, 13985, 13989, 14005, 14007, 14010, 14026, 14028, 14045, 14051, 14055, 14058, 14082, 14083, 14092, 14093, 14099, 14101, 14102, 14108, 14109, 14110, 14113, 14123, 14132, 14151, 14194, 14198, 14213, 14223, 14232, 14237, 14238, 14253, 14255, 14256, 14260, 14263, 14276, 14296, 14304, 14307, 14308, 14319, 14321, 14322, 14333, 14379, 14398, 14431, 14466, 14471, 14478, 14488, 14489, 14493, 14521, 14525, 14531, 14534, 14540, 14554, 14571, 14573, 14575, 14577, 14578, 14583, 14589, 14619, 14629, 14631, 14634, 14636, 14649, 14657, 14671, 14673, 14675, 14680, 14684, 14686, 14690, 14696, 14697, 14699, 14705, 14712, 14713, 14714, 14717, 14731, 14748, 14750, 14752, 14754, 14762, 14770, 14772, 14779, 14784, 14793, 14795, 14803, 14811, 14815, 14820, 14832, 14843, 14844, 14872, 14876, 14878, 14882, 14894, 14898, 14899, 14906, 14909, 14923, 14939, 14944, 14951, 14953, 14956, 14961, 14968, 14987, 14997, 15009, 15011, 15012, 15017, 15021, 15025, 15028, 15031, 15044, 15049, 15052, 15055, 15058, 15071, 15075, 15091, 15097, 15139, 15149, 15154, 15155, 15168, 15178, 15196, 15204, 15216, 15233, 15250, 15261, 15272, 15290, 15296, 15305, 15324, 15326, 15343, 15347, 15352, 15357, 15371, 15375, 15377, 15381, 15382, 15384, 15402, 15412, 15413, 15428, 15435, 15441, 15448, 15455, 15482, 15498, 15499, 15530, 15533, 15535, 15562, 15570, 15602, 15608, 15616, 15619, 15621, 15623, 15625, 15626, 15627, 15629, 15640, 15657, 15708, 15780, 15848, 15857, 15878, 15880, 15883, 15920, 15973, 16092, 16102, 16134, 16219, 16354, 16429, 16430, 16455, 16464, 16499, 16501, 16521, 16526, 16527, 16529, 16541, 16543, 16544, 16554, 16556, 16559, 16569, 16570, 16586, 16589, 16629, 16635, 16644, 16648, 16652, 16659, 16670, 16681, 16683, 16684, 16707, 16716, 16720, 16725, 16726, 16730, 16765, 16771, 16772, 16775, 16777, 16778, 16784, 16790, 16791, 16792, 16793, 16794, 16796, 16802, 16808, 16811, 16812, 16813, 16814, 16816, 16817, 16821, 16822, 16824, 16830, 16838, 16839, 16840, 16841]\n",
      "Partition 3354 contains these airports:\n",
      "[10242, 10406, 10552, 10997, 11029, 11228, 11242, 11493, 11513, 11644, 11953, 12196, 12709, 12710, 12720, 12780, 12808, 12832, 12852, 12854, 12856, 13370, 13435, 13580, 13711, 13771, 13895, 14131, 14235, 14283, 14494, 14628, 14719, 14881, 14988, 15086, 15258, 15283, 15555, 15799, 15863, 15888, 16312]\n",
      "Partition 3654 contains these airports:\n",
      "[11460, 14476]\n",
      "Partition 4026 contains these airports:\n",
      "[14946, 14993]\n",
      "Partition 4245 contains these airports:\n",
      "[13672, 15212]\n",
      "Partition 4469 contains these airports:\n",
      "[10006, 10015, 10040, 10041, 10077, 10086, 10140, 10166, 10185, 10226, 10238, 10246, 10248, 10300, 10305, 10314, 10350, 10397, 10417, 10617, 10641, 10755, 10776, 10784, 10918, 10924, 10939, 11008, 11035, 11037, 11054, 11215, 11246, 11281, 11328, 11337, 11393, 11412, 11446, 11464, 11512, 11518, 11536, 11551, 11556, 11560, 11631, 11814, 11826, 11834, 11845, 11846, 11860, 11925, 11942, 12088, 12123, 12142, 12185, 12215, 12236, 12269, 12295, 12316, 12322, 12371, 12616, 12622, 12636, 12639, 12642, 12650, 12654, 12664, 12672, 12677, 12705, 12721, 12738, 12749, 12756, 12770, 12785, 12823, 12842, 12845, 12869, 12994, 13004, 13088, 13112, 13197, 13293, 13382, 13416, 13468, 13514, 13565, 13575, 13677, 13705, 13715, 13716, 13768, 13769, 13807, 13842, 13874, 13941, 13943, 13971, 14047, 14089, 14103, 14120, 14126, 14168, 14219, 14269, 14274, 14317, 14413, 14469, 14475, 14486, 14552, 14560, 14710, 14739, 14805, 14806, 14817, 14857, 14864, 14896, 14920, 14943, 15013, 15050, 15062, 15064, 15087, 15125, 15161, 15172, 15229, 15237, 15246, 15251, 15279, 15294, 15386, 15407, 15449, 15473, 15479, 15505, 15580, 15582, 15600, 15672, 15701, 15710, 15722, 15726, 15732, 15786, 15795, 15839, 15854, 15862, 15882, 15935, 16391, 16568, 16585, 16669, 16721, 16805]\n",
      "Partition 5671 contains these airports:\n",
      "[13733, 16820]\n"
     ]
    }
   ],
   "source": [
    "print(\"------Distance Weighted Modularity------\")\n",
    "get_partitions(hgdf_1)\n",
    "print(\"------Unweighted Modularity------\")\n",
    "get_partitions(hgdf_2)"
   ]
  },
  {
   "cell_type": "markdown",
   "metadata": {},
   "source": [
    "Okay great!  Now we know what each partition is, you can once again use [cuDataShader](https://github.com/rapidsai/cuDataShader) or [cuXFilter](https://github.com/rapidsai/cuxfilter) to visualize the results.  Let's make a pretty picture (that sound you just heard was Allan Enemark grinding his teeth :).  He's a friend, so I shouldn't befall any physcal harm by his hands.  He also leads the team that does data visualizations, and their libraries, such as [cuXFilter](https://github.com/rapidsai/cuxfilter) and [cuDataShader](https://github.com/rapidsai/cuDataShader))."
   ]
  },
  {
   "cell_type": "code",
   "execution_count": null,
   "metadata": {},
   "outputs": [],
   "source": []
  }
 ],
 "metadata": {
  "kernelspec": {
   "display_name": "Python 3",
   "language": "python",
   "name": "python3"
  },
  "language_info": {
   "codemirror_mode": {
    "name": "ipython",
    "version": 3
   },
   "file_extension": ".py",
   "mimetype": "text/x-python",
   "name": "python",
   "nbconvert_exporter": "python",
   "pygments_lexer": "ipython3",
   "version": "3.7.3"
  }
 },
 "nbformat": 4,
 "nbformat_minor": 4
}
