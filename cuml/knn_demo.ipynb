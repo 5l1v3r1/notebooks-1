{
 "cells": [
  {
   "cell_type": "code",
   "execution_count": 1,
   "metadata": {},
   "outputs": [],
   "source": [
    "import numpy as np\n",
    "import pandas as pd\n",
    "import cudf\n",
    "import os\n",
    "\n",
    "from sklearn.neighbors import NearestNeighbors as skKNN\n",
    "from cuml.neighbors.nearest_neighbors import NearestNeighbors as cumlKNN"
   ]
  },
  {
   "cell_type": "markdown",
   "metadata": {},
   "source": [
    "# Helper Functions"
   ]
  },
  {
   "cell_type": "code",
   "execution_count": 2,
   "metadata": {},
   "outputs": [],
   "source": [
    "import gzip\n",
    "def load_data(nrows, ncols, cached = 'data/mortgage.npy.g',source='mortgage'):\n",
    "    if os.path.exists(cached) and source=='mortgage':\n",
    "        print('use mortgage data')\n",
    "        with gzip.open(cached) as f:\n",
    "            X = np.load(f)\n",
    "        X = X[np.random.randint(0,X.shape[0]-1,nrows),:ncols]\n",
    "    else:\n",
    "        print('use random data')\n",
    "        X = np.random.random((nrows,ncols)).astype('float32')\n",
    "    df = pd.DataFrame({'fea%d'%i:X[:,i] for i in range(X.shape[1])}).fillna(0)\n",
    "    return df"
   ]
  },
  {
   "cell_type": "code",
   "execution_count": 20,
   "metadata": {},
   "outputs": [],
   "source": [
    "from sklearn.metrics import mean_squared_error\n",
    "def array_equal(a,b,threshold=1e-3,with_sign=True,metric='mse'):\n",
    "    a = to_nparray(a)\n",
    "    b = to_nparray(b)\n",
    "    if with_sign == False:\n",
    "        a,b = np.abs(a),np.abs(b)\n",
    "    if metric=='mse':\n",
    "        error = mean_squared_error(a,b)\n",
    "        res = error<threshold\n",
    "    elif metric=='abs':\n",
    "        error = a-b\n",
    "        res = len(error[error>threshold]) == 0\n",
    "    elif metric == 'acc':\n",
    "        error = np.sum(a!=b)/(a.shape[0]*a.shape[1])\n",
    "        res = error<threshold\n",
    "    return res\n",
    "\n",
    "def accuracy(a,b, threshold=1e-4):\n",
    "    a = to_nparray(a)\n",
    "    b = to_nparray(b)\n",
    "    c = a-b\n",
    "    c = len(c[c>1]) / (c.shape[0]*c.shape[1])\n",
    "    return c<threshold\n",
    "\n",
    "def to_nparray(x):\n",
    "    if isinstance(x,np.ndarray) or isinstance(x,pd.DataFrame):\n",
    "        return np.array(x)\n",
    "    elif isinstance(x,np.float64):\n",
    "        return np.array([x])\n",
    "    elif isinstance(x,cudf.DataFrame) or isinstance(x,cudf.Series):\n",
    "        return x.to_pandas().values\n",
    "    return x    "
   ]
  },
  {
   "cell_type": "markdown",
   "metadata": {},
   "source": [
    "# Run tests"
   ]
  },
  {
   "cell_type": "code",
   "execution_count": 4,
   "metadata": {},
   "outputs": [
    {
     "name": "stdout",
     "output_type": "stream",
     "text": [
      "use random data\n",
      "data (32768, 40)\n",
      "CPU times: user 34.2 ms, sys: 3.49 ms, total: 37.6 ms\n",
      "Wall time: 35.9 ms\n"
     ]
    }
   ],
   "source": [
    "%%time\n",
    "nrows = 2**15\n",
    "ncols = 40\n",
    "\n",
    "X = load_data(nrows,ncols)\n",
    "print('data',X.shape)"
   ]
  },
  {
   "cell_type": "code",
   "execution_count": 5,
   "metadata": {},
   "outputs": [],
   "source": [
    "n_neighbors = 10"
   ]
  },
  {
   "cell_type": "code",
   "execution_count": 6,
   "metadata": {},
   "outputs": [
    {
     "name": "stdout",
     "output_type": "stream",
     "text": [
      "CPU times: user 31.5 s, sys: 4.52 s, total: 36 s\n",
      "Wall time: 36 s\n"
     ]
    }
   ],
   "source": [
    "%%time\n",
    "knn_sk = skKNN(metric = 'sqeuclidean', )\n",
    "knn_sk.fit(X)\n",
    "D_sk,I_sk = knn_sk.kneighbors(X,n_neighbors)"
   ]
  },
  {
   "cell_type": "code",
   "execution_count": 7,
   "metadata": {},
   "outputs": [
    {
     "name": "stdout",
     "output_type": "stream",
     "text": [
      "CPU times: user 361 ms, sys: 71.5 ms, total: 432 ms\n",
      "Wall time: 430 ms\n"
     ]
    }
   ],
   "source": [
    "%%time\n",
    "X = cudf.DataFrame.from_pandas(X)"
   ]
  },
  {
   "cell_type": "code",
   "execution_count": 9,
   "metadata": {},
   "outputs": [
    {
     "name": "stdout",
     "output_type": "stream",
     "text": [
      "CPU times: user 6.75 s, sys: 250 ms, total: 7 s\n",
      "Wall time: 2.71 s\n"
     ]
    }
   ],
   "source": [
    "%%time\n",
    "knn_cuml = cumlKNN()\n",
    "knn_cuml.fit(X)\n",
    "D_cuml,I_cuml = knn_cuml.kneighbors(X,n_neighbors)"
   ]
  },
  {
   "cell_type": "code",
   "execution_count": 23,
   "metadata": {},
   "outputs": [
    {
     "name": "stdout",
     "output_type": "stream",
     "text": [
      "compare knn: cuml vs sklearn distances NOT equal\n"
     ]
    }
   ],
   "source": [
    "passed = array_equal(D_sk,D_cuml, metric='abs') # metric used can be 'acc', 'mse', or 'abs'\n",
    "message = 'compare knn: cuml vs sklearn distances %s'%('equal'if passed else 'NOT equal')\n",
    "print(message)"
   ]
  },
  {
   "cell_type": "code",
   "execution_count": 17,
   "metadata": {},
   "outputs": [
    {
     "name": "stdout",
     "output_type": "stream",
     "text": [
      "compare knn: cuml vs sklearn indexes equal\n"
     ]
    }
   ],
   "source": [
    "passed = accuracy(I_sk, I_cuml, threshold=1e-1)\n",
    "message = 'compare knn: cuml vs sklearn indexes %s'%('equal'if passed else 'NOT equal')\n",
    "print(message)"
   ]
  },
  {
   "cell_type": "code",
   "execution_count": null,
   "metadata": {},
   "outputs": [],
   "source": []
  }
 ],
 "metadata": {
  "kernelspec": {
   "display_name": "Python 3",
   "language": "python",
   "name": "python3"
  },
  "language_info": {
   "codemirror_mode": {
    "name": "ipython",
    "version": 3
   },
   "file_extension": ".py",
   "mimetype": "text/x-python",
   "name": "python",
   "nbconvert_exporter": "python",
   "pygments_lexer": "ipython3",
   "version": "3.7.2"
  }
 },
 "nbformat": 4,
 "nbformat_minor": 2
}
