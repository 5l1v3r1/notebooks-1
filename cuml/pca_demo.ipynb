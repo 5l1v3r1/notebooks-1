{
 "cells": [
  {
   "cell_type": "markdown",
   "metadata": {},
   "source": [
    "# Principal Componenet Analysis (PCA)\n",
    "\n",
    "The PCA algorithm is a dimensionality reduction algorithm which works really well for datasets which have correlated columns. It combines the features of X in linear combination such that the new components capture the most information of the data. "
   ]
  },
  {
   "cell_type": "markdown",
   "metadata": {},
   "source": [
    "The model can take array-like objects, either in host as NumPy arrays or in device (as Numba or cuda_array_interface-compliant), as well as cuDF DataFrames as the input. \n",
    "\n",
    "For information about cuDF, refer to the [cuDF documentation](https://rapidsai.github.io/projects/cudf/en/latest/).\n",
    "\n",
    "For more information about cuML's PCA implementation: https://rapidsai.github.io/projects/cuml/en/latest/api.html#principal-component-analysis"
   ]
  },
  {
   "cell_type": "markdown",
   "metadata": {},
   "source": [
    "## Define Parameters"
   ]
  },
  {
   "cell_type": "code",
   "execution_count": 1,
   "metadata": {},
   "outputs": [],
   "source": [
    "n_samples = 2**15\n",
    "n_features = 400\n",
    "\n",
    "n_components = 2\n",
    "whiten = False\n",
    "svd_solver = \"full\"\n",
    "random_state = 23"
   ]
  },
  {
   "cell_type": "markdown",
   "metadata": {},
   "source": [
    "## Generate Data\n",
    "\n",
    "### GPU"
   ]
  },
  {
   "cell_type": "code",
   "execution_count": 2,
   "metadata": {},
   "outputs": [],
   "source": [
    "import cudf\n",
    "from cuml.datasets import make_blobs"
   ]
  },
  {
   "cell_type": "code",
   "execution_count": 3,
   "metadata": {},
   "outputs": [
    {
     "name": "stdout",
     "output_type": "stream",
     "text": [
      "CPU times: user 1.51 s, sys: 1.1 s, total: 2.61 s\n",
      "Wall time: 4.59 s\n"
     ]
    }
   ],
   "source": [
    "%%time\n",
    "device_data, _ = make_blobs(n_samples=n_samples, \n",
    "                            n_features=n_features, \n",
    "                            centers=5, \n",
    "                            random_state=random_state)\n",
    "\n",
    "device_data = cudf.DataFrame.from_gpu_matrix(device_data)"
   ]
  },
  {
   "cell_type": "markdown",
   "metadata": {},
   "source": [
    "### Host\n",
    "\n",
    "Copy the generated data from GPU memory to host memory for input to scikit-learn."
   ]
  },
  {
   "cell_type": "code",
   "execution_count": 4,
   "metadata": {},
   "outputs": [],
   "source": [
    "host_data = device_data.to_pandas()"
   ]
  },
  {
   "cell_type": "markdown",
   "metadata": {},
   "source": [
    "## Scikit-learn Model"
   ]
  },
  {
   "cell_type": "code",
   "execution_count": 5,
   "metadata": {},
   "outputs": [],
   "source": [
    "from sklearn.decomposition import PCA"
   ]
  },
  {
   "cell_type": "code",
   "execution_count": 6,
   "metadata": {},
   "outputs": [
    {
     "name": "stdout",
     "output_type": "stream",
     "text": [
      "CPU times: user 1min 6s, sys: 1min 5s, total: 2min 12s\n",
      "Wall time: 2 s\n"
     ]
    }
   ],
   "source": [
    "%%time\n",
    "pca_sk = PCA(n_components=n_components,\n",
    "               svd_solver=svd_solver, \n",
    "               whiten=whiten, \n",
    "               random_state=random_state)\n",
    "\n",
    "result_sk = pca_sk.fit_transform(host_data)"
   ]
  },
  {
   "cell_type": "markdown",
   "metadata": {},
   "source": [
    "## cuML Model"
   ]
  },
  {
   "cell_type": "code",
   "execution_count": 7,
   "metadata": {},
   "outputs": [],
   "source": [
    "from cuml.decomposition import PCA"
   ]
  },
  {
   "cell_type": "code",
   "execution_count": 8,
   "metadata": {},
   "outputs": [
    {
     "name": "stdout",
     "output_type": "stream",
     "text": [
      "CPU times: user 887 ms, sys: 43.8 ms, total: 931 ms\n",
      "Wall time: 984 ms\n"
     ]
    }
   ],
   "source": [
    "%%time\n",
    "pca_cuml = PCA(n_components=n_components,\n",
    "               svd_solver=svd_solver, \n",
    "               whiten=whiten,\n",
    "               random_state=random_state)\n",
    "\n",
    "result_cuml = pca_cuml.fit_transform(device_data)"
   ]
  },
  {
   "cell_type": "markdown",
   "metadata": {},
   "source": [
    "## Evaluate Results\n",
    "\n",
    "### Singular Values"
   ]
  },
  {
   "cell_type": "code",
   "execution_count": 9,
   "metadata": {},
   "outputs": [],
   "source": [
    "import numpy as np"
   ]
  },
  {
   "cell_type": "code",
   "execution_count": 10,
   "metadata": {},
   "outputs": [
    {
     "name": "stdout",
     "output_type": "stream",
     "text": [
      "compare pca: cuml vs sklearn singular_values_ equal\n"
     ]
    }
   ],
   "source": [
    "passed = np.allclose(pca_sk.singular_values_, \n",
    "                     pca_cuml.singular_values_.to_array(), \n",
    "                     atol=0.01)\n",
    "print('compare pca: cuml vs sklearn singular_values_ {}'.format('equal' if passed else 'NOT equal'))"
   ]
  },
  {
   "cell_type": "markdown",
   "metadata": {},
   "source": [
    "### Explained Variance"
   ]
  },
  {
   "cell_type": "code",
   "execution_count": 11,
   "metadata": {},
   "outputs": [
    {
     "name": "stdout",
     "output_type": "stream",
     "text": [
      "compare pca: cuml vs sklearn explained_variance_ equal\n"
     ]
    }
   ],
   "source": [
    "passed = np.allclose(pca_sk.explained_variance_, \n",
    "                     pca_cuml.explained_variance_.to_array(), \n",
    "                     atol=1e-8)\n",
    "print('compare pca: cuml vs sklearn explained_variance_ {}'.format('equal' if passed else 'NOT equal'))"
   ]
  },
  {
   "cell_type": "markdown",
   "metadata": {},
   "source": [
    "### Explained Variance Ratio"
   ]
  },
  {
   "cell_type": "code",
   "execution_count": 12,
   "metadata": {},
   "outputs": [
    {
     "name": "stdout",
     "output_type": "stream",
     "text": [
      "compare pca: cuml vs sklearn explained_variance_ratio_ equal\n"
     ]
    }
   ],
   "source": [
    "passed = np.allclose(pca_sk.explained_variance_ratio_, \n",
    "                     pca_cuml.explained_variance_ratio_.to_array(), \n",
    "                     atol=1e-8)\n",
    "print('compare pca: cuml vs sklearn explained_variance_ratio_ {}'.format('equal' if passed else 'NOT equal'))"
   ]
  },
  {
   "cell_type": "markdown",
   "metadata": {},
   "source": [
    "### Components"
   ]
  },
  {
   "cell_type": "code",
   "execution_count": 13,
   "metadata": {
    "scrolled": true
   },
   "outputs": [
    {
     "name": "stdout",
     "output_type": "stream",
     "text": [
      "compare pca: cuml vs sklearn components_ equal\n"
     ]
    }
   ],
   "source": [
    "passed = np.allclose(pca_sk.components_, \n",
    "                     np.asarray(pca_cuml.components_.as_gpu_matrix()), \n",
    "                     atol=1e-6)\n",
    "print('compare pca: cuml vs sklearn components_ {}'.format('equal' if passed else 'NOT equal'))"
   ]
  },
  {
   "cell_type": "markdown",
   "metadata": {},
   "source": [
    "### Transform"
   ]
  },
  {
   "cell_type": "code",
   "execution_count": 14,
   "metadata": {},
   "outputs": [
    {
     "name": "stdout",
     "output_type": "stream",
     "text": [
      "compare pca: cuml vs sklearn transformed results equal\n"
     ]
    }
   ],
   "source": [
    "passed = np.allclose(result_sk, np.asarray(result_cuml.as_gpu_matrix()), atol=1e-1)\n",
    "print('compare pca: cuml vs sklearn transformed results %s'%('equal'if passed else 'NOT equal'))"
   ]
  }
 ],
 "metadata": {
  "kernelspec": {
   "display_name": "Python 3",
   "language": "python",
   "name": "python3"
  },
  "language_info": {
   "codemirror_mode": {
    "name": "ipython",
    "version": 3
   },
   "file_extension": ".py",
   "mimetype": "text/x-python",
   "name": "python",
   "nbconvert_exporter": "python",
   "pygments_lexer": "ipython3",
   "version": "3.6.7"
  }
 },
 "nbformat": 4,
 "nbformat_minor": 4
}
