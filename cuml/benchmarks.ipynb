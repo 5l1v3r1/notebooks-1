{
 "cells": [
  {
   "cell_type": "markdown",
   "metadata": {},
   "source": [
    "# Benchmark and Bounds Tests\n",
    "\n",
    "The purpose of this notebook is to benchmark all of the single GPU cuML algorithms against their skLearn counterparts, while also providing the ability to check upper bounds. "
   ]
  },
  {
   "cell_type": "code",
   "execution_count": null,
   "metadata": {},
   "outputs": [],
   "source": [
    "import numpy as np\n",
    "import pandas as pd\n",
    "import cudf\n",
    "import os\n",
    "import time\n",
    "import pickle\n",
    "\n",
    "import matplotlib.pyplot as plt\n",
    "import seaborn as sns\n",
    "\n",
    "from pylab import rcParams\n",
    "rcParams['figure.figsize'] = 10, 5\n",
    "rcParams['figure.dpi'] = 100\n",
    "\n",
    "sns.set_style(\"darkgrid\")"
   ]
  },
  {
   "cell_type": "markdown",
   "metadata": {},
   "source": [
    "### Data loading functions"
   ]
  },
  {
   "cell_type": "code",
   "execution_count": null,
   "metadata": {},
   "outputs": [],
   "source": [
    "import gzip\n",
    "\n",
    "def load_data_X(nrows, ncols, dtype = np.float32):\n",
    "    \"\"\"\n",
    "    Generate a single dataframe with specified rows and cols\n",
    "    \"\"\"\n",
    "    X = np.random.rand(nrows,ncols)\n",
    "    df = pd.DataFrame({'fea%d'%i:X[:,i].astype(dtype) for i in range(X.shape[1])})\n",
    "    return df\n",
    "\n",
    "def load_data_Xy(nrows, ncols):\n",
    "    \"\"\"\n",
    "    Generate a dataframe and series based on rows and cols\n",
    "    \"\"\"\n",
    "    X = load_data_X(rows, cols)\n",
    "    y = load_data_X(rows, 1)[\"fea0\"]\n",
    "    return X, y"
   ]
  },
  {
   "cell_type": "code",
   "execution_count": null,
   "metadata": {},
   "outputs": [],
   "source": [
    "def pandas_convert(data):\n",
    "    if isinstance(data, tuple):\n",
    "        return tuple([cudf.DataFrame.from_pandas(d) for d in data])\n",
    "    else:\n",
    "        return cudf.DataFrame.from_pandas(data)"
   ]
  },
  {
   "cell_type": "markdown",
   "metadata": {},
   "source": [
    "### Pluggable benchmark function "
   ]
  },
  {
   "cell_type": "code",
   "execution_count": null,
   "metadata": {},
   "outputs": [],
   "source": [
    "class SpeedupBenchmark(object):\n",
    "    \n",
    "    def __init__(self):\n",
    "        self.name = \"speedup\"\n",
    "    \n",
    "    def __str__(self):\n",
    "        return \"Speedup\"\n",
    "    \n",
    "    def run(self, algo, rows, dims, data):\n",
    "\n",
    "        sk_start = time.time()\n",
    "        algo.sk(data)\n",
    "        sk_elapsed = time.time() - float(sk_start)\n",
    "\n",
    "        data = pandas_convert(data)\n",
    "        cu_start = time.time()\n",
    "        algo.cuml(data)\n",
    "        cu_elapsed = time.time() - cu_start\n",
    "\n",
    "        # Needs to return the calculation and the name given to it.\n",
    "        return sk_elapsed / float(cu_elapsed)"
   ]
  },
  {
   "cell_type": "code",
   "execution_count": null,
   "metadata": {},
   "outputs": [],
   "source": [
    "class BenchmarkRunner(object):\n",
    "    \n",
    "    def __init__(self, \n",
    "                 benchmarks = [SpeedupBenchmark()],\n",
    "                 out_filename = \"benchmark.pickle\",\n",
    "                 rerun = False,\n",
    "                 n_runs = 3,\n",
    "                 bench_rows = [2**x for x in range(13, 20)],\n",
    "                 bench_dims = [64, 128, 256, 512]):\n",
    "\n",
    "        self.benchmarks = benchmarks\n",
    "        self.rerun = rerun\n",
    "        self.n_runs = n_runs\n",
    "        self.bench_rows = bench_rows\n",
    "        self.bench_dims = bench_dims\n",
    "        self.out_filename = out_filename\n",
    "        \n",
    "        \n",
    "    def load_results(self):\n",
    "        \n",
    "        if os.path.exists(self.out_filename):\n",
    "            print(\"Loaded previous benchmark results from %s\" % (self.out_filename))\n",
    "            with open(self.out_filename, 'rb') as f:\n",
    "                return pickle.load(f)\n",
    "                \n",
    "        else:\n",
    "            return {}\n",
    "        \n",
    "    def store_results(self, final_results):\n",
    "        with open(self.out_filename, 'wb') as f:\n",
    "            pickle.dump(final_results, f)\n",
    "        \n",
    "            \n",
    "    def run(self, algo):\n",
    "        \n",
    "        final_results = self.load_results()\n",
    "        \n",
    "        for benchmark in self.benchmarks:\n",
    "            if algo.name in final_results:\n",
    "                results = final_results[algo.name]\n",
    "            else:\n",
    "                results = {}\n",
    "                final_results[algo.name] = results\n",
    "\n",
    "            for n_rows in self.bench_rows:\n",
    "                for n_dims in self.bench_dims:                    \n",
    "                    if (n_rows, n_dims, benchmark.name) not in results or self.rerun:\n",
    "\n",
    "                        print(\"Running %s. (nrows=%d, n_dims=%d)\" % (str(algo), n_rows, n_dims))\n",
    "\n",
    "                        data = algo.load_data(n_rows, n_dims)\n",
    "                        runs = [benchmark.run(algo, n_rows, n_dims, data) for i in range(self.n_runs)]\n",
    "                        results[(n_rows, n_dims, benchmark.name)] = np.mean(runs)\n",
    "\n",
    "                        print(\"Benchmark for %s = %f\" % (str((n_rows, n_dims, benchmark.name)), results[(n_rows, n_dims, benchmark.name)]))\n",
    "                        \n",
    "                        self.store_results(final_results)\n",
    "\n",
    "                            \n",
    "    def chart(self, algo, title = \"cuML vs SKLearn\"):\n",
    "        \n",
    "        for benchmark in self.benchmarks:\n",
    "        \n",
    "            results = self.load_results()[algo.name]\n",
    "\n",
    "            final = {}\n",
    "\n",
    "            plts = []\n",
    "            for dim in self.bench_dims:\n",
    "                data = {k: v for (k, v) in results.items() if dim == k[1]}\n",
    "\n",
    "                if len(data) > 0:\n",
    "                    data = [(k[0], v) for k, v in data.items()]\n",
    "                    data.sort(key = lambda x: x[0])\n",
    "\n",
    "                    final[dim] = list(map(lambda x: x[1], data))\n",
    "\n",
    "                    keys = list(map(lambda x: np.log2(x[0]), data))\n",
    "                line = plt.plot(keys, final[dim], label = str(dim), linewidth = 3,  marker = 'o', markersize = 7)\n",
    "\n",
    "                plts.append(line[0])\n",
    "            leg = plt.legend(handles = plts, fontsize = 10)\n",
    "            leg.set_title(\"Dimensions\", prop = {'size':'x-large'})    \n",
    "            plt.title(\"%s %s: %s\" % (algo, benchmark, title), fontsize = 20)\n",
    "\n",
    "            plt.ylabel(str(benchmark), fontsize = 10)\n",
    "            plt.xlabel(\"Training Examples (2^x)\", fontsize = 10)\n",
    "\n",
    "            plt.tick_params(axis='both', which='major', labelsize=5)\n",
    "            plt.tick_params(axis='both', which='minor', labelsize=5)\n",
    "\n",
    "            plt.show()"
   ]
  },
  {
   "cell_type": "code",
   "execution_count": null,
   "metadata": {},
   "outputs": [],
   "source": [
    "class BaseAlgorithm(object):\n",
    "    \n",
    "    def __init__(self):\n",
    "        self.load_data = load_data_X"
   ]
  },
  {
   "cell_type": "code",
   "execution_count": null,
   "metadata": {},
   "outputs": [],
   "source": [
    "from sklearn.neighbors import NearestNeighbors\n",
    "from cuml import KNN as cumlKNN\n",
    "\n",
    "class kNNAlgo(BaseAlgorithm):\n",
    "    \n",
    "    def __init__(self, n_neighbors = 1024):\n",
    "        self.n_neighbors = n_neighbors\n",
    "        self.name = \"knn\"\n",
    "        BaseAlgorithm.__init__(self)\n",
    "        \n",
    "    def __str__(self):\n",
    "        return \"kNN\"\n",
    "        \n",
    "    def sk(self, X):\n",
    "        knn_sk = NearestNeighbors(n_neighbors = self.n_neighbors, algorithm = 'brute').fit(X)\n",
    "        D_sk,I_sk = knn_sk.kneighbors(X)\n",
    "\n",
    "    def cuml(self, X):\n",
    "        knn_cuml = cumlKNN()\n",
    "        knn_cuml.fit(X)\n",
    "        D_cuml,I_cuml = knn_cuml.query(X,self.n_neighbors)"
   ]
  },
  {
   "cell_type": "code",
   "execution_count": null,
   "metadata": {},
   "outputs": [],
   "source": [
    "runner = BenchmarkRunner(bench_rows = [2**x for x in range(13, 20)]).run(kNNAlgo())"
   ]
  },
  {
   "cell_type": "code",
   "execution_count": null,
   "metadata": {},
   "outputs": [],
   "source": [
    "runner.chart(kNNAlgo())"
   ]
  },
  {
   "cell_type": "code",
   "execution_count": null,
   "metadata": {},
   "outputs": [],
   "source": [
    "from sklearn.cluster import DBSCAN as skDBSCAN\n",
    "from cuml import DBSCAN as cumlDBSCAN\n",
    "\n",
    "class DBSCANAlgo(BaseAlgorithm):\n",
    "    \n",
    "    def __init__(self, eps = 3, min_samples = 2):\n",
    "        self.name = \"dbscan\"\n",
    "        self.eps = 3\n",
    "        self.min_samples = 2\n",
    "        BaseAlgorithm.__init__(self)\n",
    "        \n",
    "    def __str__(self):\n",
    "        return \"DBSCAN\"\n",
    "\n",
    "    def sk(X):\n",
    "        clustering_sk = skDBSCAN(eps = eps, min_samples = min_samples, algorithm = \"brute\")\n",
    "        clustering_sk.fit(X)\n",
    "\n",
    "    def cuml(X):\n",
    "        clustering_cuml = cumlDBSCAN(eps = eps, min_samples = min_samples)\n",
    "        clustering_cuml.fit(X)"
   ]
  },
  {
   "cell_type": "code",
   "execution_count": null,
   "metadata": {},
   "outputs": [],
   "source": [
    "runner = BenchmarkRunner(bench_rows = [2**x for x in range(10, 17)]).run(DBSCANAlgo())"
   ]
  },
  {
   "cell_type": "code",
   "execution_count": null,
   "metadata": {},
   "outputs": [],
   "source": [
    "runner.chart(DBSCANAlgo())"
   ]
  },
  {
   "cell_type": "code",
   "execution_count": null,
   "metadata": {},
   "outputs": [],
   "source": [
    "from sklearn.linear_model import LinearRegression as skLR\n",
    "from cuml import LinearRegression as cumlLR\n",
    "\n",
    "def LinearRegressionAlgo(BaseAlgorithm):\n",
    "\n",
    "    def __init__(self):\n",
    "        self.name = \"linear_regression\"\n",
    "        self.data_load = load_data_Xy\n",
    "        \n",
    "    def __str__(self):\n",
    "        return \"Linear Regression\"\n",
    "\n",
    "    def sk(data):\n",
    "        X, y = data\n",
    "        clustering_sk = skLR()\n",
    "        clustering_sk.fit(X, y)\n",
    "\n",
    "    def cuml(data):\n",
    "        X, y = data\n",
    "        X = cudf.DataFrame.from_pandas(X)\n",
    "        y = cudf.Series.from_pandas(y)\n",
    "\n",
    "        cuml_lr = cumlLR()\n",
    "        cuml_lr.fit(X, y)\n"
   ]
  },
  {
   "cell_type": "code",
   "execution_count": null,
   "metadata": {},
   "outputs": [],
   "source": [
    "runner = BenchmarkRunner().run(LinearRegressionAlgo())"
   ]
  },
  {
   "cell_type": "code",
   "execution_count": null,
   "metadata": {},
   "outputs": [],
   "source": [
    "runner.chart(LinearRegressionAlgo())"
   ]
  },
  {
   "cell_type": "code",
   "execution_count": null,
   "metadata": {},
   "outputs": [],
   "source": [
    "from sklearn.decomposition import PCA as skPCA\n",
    "from cuml import PCA as cumlPCA\n",
    "\n",
    "class PCAAlgo(BaseAlgorithm):\n",
    "    \n",
    "    def __init__(self, n_components = 10):\n",
    "        self.n_components = 10\n",
    "        BaseAlgorithm.__init__(self)\n",
    "        \n",
    "    def __str__(self):\n",
    "        return \"PCA\"\n",
    "\n",
    "    def sk(X):\n",
    "        skpca = skPCA(n_components = 10)\n",
    "        skpca.fit(X)\n",
    "\n",
    "    def cuml(X):\n",
    "        X = cudf.DataFrame.from_pandas(X)\n",
    "        cumlpca = cumlPCA(n_components = 10)\n",
    "        cumlpca.fit(X)"
   ]
  },
  {
   "cell_type": "code",
   "execution_count": null,
   "metadata": {},
   "outputs": [],
   "source": [
    "runner = BenchmarkRunner().run(PCAAlgo())"
   ]
  },
  {
   "cell_type": "code",
   "execution_count": null,
   "metadata": {},
   "outputs": [],
   "source": [
    "runner.chart(PCAAlgo())"
   ]
  }
 ],
 "metadata": {
  "kernelspec": {
   "display_name": "Python 3",
   "language": "python",
   "name": "python3"
  },
  "language_info": {
   "codemirror_mode": {
    "name": "ipython",
    "version": 3
   },
   "file_extension": ".py",
   "mimetype": "text/x-python",
   "name": "python",
   "nbconvert_exporter": "python",
   "pygments_lexer": "ipython3",
   "version": "3.6.6"
  }
 },
 "nbformat": 4,
 "nbformat_minor": 2
}
