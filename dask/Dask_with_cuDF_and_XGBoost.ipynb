{
 "cells": [
  {
   "cell_type": "markdown",
   "metadata": {},
   "source": [
    "## Load libraries"
   ]
  },
  {
   "cell_type": "code",
   "execution_count": 1,
   "metadata": {},
   "outputs": [],
   "source": [
    "import cudf\n",
    "import dask.dataframe as dd\n",
    "from dask.delayed import delayed\n",
    "from dask.distributed import Client, wait\n",
    "import dask_xgboost as dxgb_gpu\n",
    "import numpy as np\n",
    "import os\n",
    "import pandas as pd\n",
    "from pandas.util.testing import assert_frame_equal\n",
    "import subprocess\n",
    "import time\n",
    "import xgboost as xgb"
   ]
  },
  {
   "cell_type": "markdown",
   "metadata": {},
   "source": [
    "## Setup Dask"
   ]
  },
  {
   "cell_type": "code",
   "execution_count": 2,
   "metadata": {},
   "outputs": [
    {
     "name": "stdout",
     "output_type": "stream",
     "text": [
      "192.168.99.2:8786\n"
     ]
    }
   ],
   "source": [
    "# worker settings\n",
    "n_workers = 4\n",
    "scheduler_ip = !hostname --all-ip-addresses\n",
    "scheduler_ip = scheduler_ip[0].split()[0]\n",
    "scheduler_port = '8786'\n",
    "scheduler_uri = scheduler_ip + ':' +  scheduler_port\n",
    "print(scheduler_uri)"
   ]
  },
  {
   "cell_type": "code",
   "execution_count": 3,
   "metadata": {},
   "outputs": [],
   "source": [
    "# dask environment settings\n",
    "dask_env = os.environ.copy()\n",
    "dask_env['NCCL_P2P_DISABLE'] = '1'\n",
    "dask_env['DASK_DISTRIBUTED__SCHEDULER__WORK_STEALING'] = 'False'\n",
    "dask_env['DASK_DISTRIBUTED__SCHEDULER__BANDWIDTH'] = '1'"
   ]
  },
  {
   "cell_type": "code",
   "execution_count": 4,
   "metadata": {},
   "outputs": [
    {
     "data": {
      "text/plain": [
       "<subprocess.Popen at 0x7f0e6c3939e8>"
      ]
     },
     "execution_count": 4,
     "metadata": {},
     "output_type": "execute_result"
    }
   ],
   "source": [
    "# start the scheduler? unknown TODO find out\n",
    "subprocess.Popen('dask-scheduler', env = dask_env)"
   ]
  },
  {
   "cell_type": "code",
   "execution_count": 5,
   "metadata": {},
   "outputs": [
    {
     "data": {
      "text/plain": [
       "{'tcp://192.168.99.2:35744': {'host': '192.168.99.2',\n",
       "  'id': 'tcp://192.168.99.2:35744',\n",
       "  'last_seen': 1544825425.9600325,\n",
       "  'local_directory': '/rapids/notebooks/dask-worker-space/worker-_ouq8x32',\n",
       "  'memory_limit': 0,\n",
       "  'metrics': {'cpu': 2.0,\n",
       "   'executing': 0,\n",
       "   'in_flight': 0,\n",
       "   'in_memory': 0,\n",
       "   'memory': 602980352,\n",
       "   'num_fds': 39,\n",
       "   'read_bytes': 19424.6757326651,\n",
       "   'ready': 0,\n",
       "   'time': 1544825425.4596932,\n",
       "   'write_bytes': 25170.566512850288},\n",
       "  'name': 'tcp://192.168.99.2:35744',\n",
       "  'ncores': 1,\n",
       "  'resources': {},\n",
       "  'services': {'bokeh': 32970},\n",
       "  'type': 'Worker'},\n",
       " 'tcp://192.168.99.2:36940': {'host': '192.168.99.2',\n",
       "  'id': 'tcp://192.168.99.2:36940',\n",
       "  'last_seen': 1544825425.9610445,\n",
       "  'local_directory': '/rapids/notebooks/dask-worker-space/worker-l05ue99f',\n",
       "  'memory_limit': 0,\n",
       "  'metrics': {'cpu': 2.0,\n",
       "   'executing': 0,\n",
       "   'in_flight': 0,\n",
       "   'in_memory': 0,\n",
       "   'memory': 602898432,\n",
       "   'num_fds': 39,\n",
       "   'read_bytes': 19774.105826528783,\n",
       "   'ready': 0,\n",
       "   'time': 1544825425.4605463,\n",
       "   'write_bytes': 25516.201941540025},\n",
       "  'name': 'tcp://192.168.99.2:36940',\n",
       "  'ncores': 1,\n",
       "  'resources': {},\n",
       "  'services': {'bokeh': 43996},\n",
       "  'type': 'Worker'},\n",
       " 'tcp://192.168.99.2:39451': {'host': '192.168.99.2',\n",
       "  'id': 'tcp://192.168.99.2:39451',\n",
       "  'last_seen': 1544825425.924308,\n",
       "  'local_directory': '/rapids/notebooks/dask-worker-space/worker-h64slmr8',\n",
       "  'memory_limit': 0,\n",
       "  'metrics': {'cpu': 2.0,\n",
       "   'executing': 0,\n",
       "   'in_flight': 0,\n",
       "   'in_memory': 0,\n",
       "   'memory': 602759168,\n",
       "   'num_fds': 39,\n",
       "   'read_bytes': 19410.643308047675,\n",
       "   'ready': 0,\n",
       "   'time': 1544825425.4236414,\n",
       "   'write_bytes': 25152.383245235917},\n",
       "  'name': 'tcp://192.168.99.2:39451',\n",
       "  'ncores': 1,\n",
       "  'resources': {},\n",
       "  'services': {'bokeh': 40761},\n",
       "  'type': 'Worker'},\n",
       " 'tcp://192.168.99.2:43671': {'host': '192.168.99.2',\n",
       "  'id': 'tcp://192.168.99.2:43671',\n",
       "  'last_seen': 1544825425.9619586,\n",
       "  'local_directory': '/rapids/notebooks/dask-worker-space/worker-kqp_5ldf',\n",
       "  'memory_limit': 0,\n",
       "  'metrics': {'cpu': 4.0,\n",
       "   'executing': 0,\n",
       "   'in_flight': 0,\n",
       "   'in_memory': 0,\n",
       "   'memory': 675807232,\n",
       "   'num_fds': 39,\n",
       "   'read_bytes': 20651.26475975523,\n",
       "   'ready': 0,\n",
       "   'time': 1544825425.4619794,\n",
       "   'write_bytes': 26376.30858966515},\n",
       "  'name': 'tcp://192.168.99.2:43671',\n",
       "  'ncores': 1,\n",
       "  'resources': {},\n",
       "  'services': {'bokeh': 42906},\n",
       "  'type': 'Worker'}}"
      ]
     },
     "execution_count": 5,
     "metadata": {},
     "output_type": "execute_result"
    }
   ],
   "source": [
    "# shutdown existing Dask processes\n",
    "client = Client(scheduler_uri)\n",
    "client.retire_workers()"
   ]
  },
  {
   "cell_type": "code",
   "execution_count": 6,
   "metadata": {},
   "outputs": [
    {
     "data": {
      "text/html": [
       "<table style=\"border: 2px solid white;\">\n",
       "<tr>\n",
       "<td style=\"vertical-align: top; border: 0px solid white\">\n",
       "<h3>Client</h3>\n",
       "<ul>\n",
       "  <li><b>Scheduler: </b>tcp://192.168.99.2:8786\n",
       "  <li><b>Dashboard: </b><a href='http://192.168.99.2:8787/status' target='_blank'>http://192.168.99.2:8787/status</a>\n",
       "</ul>\n",
       "</td>\n",
       "<td style=\"vertical-align: top; border: 0px solid white\">\n",
       "<h3>Cluster</h3>\n",
       "<ul>\n",
       "  <li><b>Workers: </b>0</li>\n",
       "  <li><b>Cores: </b>0</li>\n",
       "  <li><b>Memory: </b>0 B</li>\n",
       "</ul>\n",
       "</td>\n",
       "</tr>\n",
       "</table>"
      ],
      "text/plain": [
       "<Client: scheduler='tcp://192.168.99.2:8786' processes=4 cores=4>"
      ]
     },
     "execution_count": 6,
     "metadata": {},
     "output_type": "execute_result"
    }
   ],
   "source": [
    "# show current Dask status\n",
    "client"
   ]
  },
  {
   "cell_type": "code",
   "execution_count": 7,
   "metadata": {},
   "outputs": [],
   "source": [
    "# create list of arguments to pass to dask-worker\n",
    "argument_list = ['--no-nanny', '--nprocs=1', '--nthreads=1', '--memory-limit=0', '--host=' + scheduler_ip]"
   ]
  },
  {
   "cell_type": "code",
   "execution_count": 8,
   "metadata": {},
   "outputs": [],
   "source": [
    "for worker_id in range(n_workers):\n",
    "    dask_env['CUDA_VISIBLE_DEVICES'] = str(worker_id)\n",
    "    subprocess.Popen(['dask-worker', scheduler_uri] + argument_list, env=dask_env)\n",
    "time.sleep(3)  # this will give Dask time to setup each worker"
   ]
  },
  {
   "cell_type": "code",
   "execution_count": 9,
   "metadata": {
    "scrolled": false
   },
   "outputs": [
    {
     "data": {
      "text/html": [
       "<table style=\"border: 2px solid white;\">\n",
       "<tr>\n",
       "<td style=\"vertical-align: top; border: 0px solid white\">\n",
       "<h3>Client</h3>\n",
       "<ul>\n",
       "  <li><b>Scheduler: </b>tcp://192.168.99.2:8786\n",
       "  <li><b>Dashboard: </b><a href='http://192.168.99.2:8787/status' target='_blank'>http://192.168.99.2:8787/status</a>\n",
       "</ul>\n",
       "</td>\n",
       "<td style=\"vertical-align: top; border: 0px solid white\">\n",
       "<h3>Cluster</h3>\n",
       "<ul>\n",
       "  <li><b>Workers: </b>4</li>\n",
       "  <li><b>Cores: </b>4</li>\n",
       "  <li><b>Memory: </b>0 B</li>\n",
       "</ul>\n",
       "</td>\n",
       "</tr>\n",
       "</table>"
      ],
      "text/plain": [
       "<Client: scheduler='tcp://192.168.99.2:8786' processes=4 cores=4>"
      ]
     },
     "execution_count": 9,
     "metadata": {},
     "output_type": "execute_result"
    }
   ],
   "source": [
    "# show current Dask status\n",
    "client"
   ]
  },
  {
   "cell_type": "markdown",
   "metadata": {},
   "source": [
    "## Hello World"
   ]
  },
  {
   "cell_type": "code",
   "execution_count": 10,
   "metadata": {},
   "outputs": [],
   "source": [
    "def initialize_rmm_pool():\n",
    "    from librmm_cffi import librmm_config as rmm_cfg\n",
    "\n",
    "    rmm_cfg.use_pool_allocator = True\n",
    "    #rmm_cfg.initial_pool_size = 2<<30 # set to 2GiB. Default is 1/2 total GPU memory\n",
    "    import cudf\n",
    "    return cudf._gdf.rmm_initialize()\n",
    "\n",
    "def initialize_rmm_no_pool():\n",
    "    from librmm_cffi import librmm_config as rmm_cfg\n",
    "    \n",
    "    rmm_cfg.use_pool_allocator = False\n",
    "    import cudf\n",
    "    return cudf._gdf.rmm_initialize()"
   ]
  },
  {
   "cell_type": "code",
   "execution_count": 11,
   "metadata": {},
   "outputs": [
    {
     "data": {
      "text/plain": [
       "{'tcp://192.168.99.2:35684': True,\n",
       " 'tcp://192.168.99.2:38336': True,\n",
       " 'tcp://192.168.99.2:40793': True,\n",
       " 'tcp://192.168.99.2:42230': True}"
      ]
     },
     "execution_count": 11,
     "metadata": {},
     "output_type": "execute_result"
    }
   ],
   "source": [
    "client.run(initialize_rmm_pool)"
   ]
  },
  {
   "cell_type": "code",
   "execution_count": 12,
   "metadata": {},
   "outputs": [],
   "source": [
    "def make_pandas():\n",
    "    X = np.random.randint(2, size=(10000, 101)).astype(np.float32)\n",
    "    df = pd.DataFrame({'fea%d'%i:X[:,i] for i in range(X.shape[1])})\n",
    "    return df"
   ]
  },
  {
   "cell_type": "code",
   "execution_count": 13,
   "metadata": {},
   "outputs": [],
   "source": [
    "def make_cudf(df):\n",
    "    gdf = cudf.DataFrame.from_pandas(df)\n",
    "    return gdf"
   ]
  },
  {
   "cell_type": "code",
   "execution_count": 14,
   "metadata": {},
   "outputs": [],
   "source": [
    "def make_features(gdf):\n",
    "    column_names = gdf.columns\n",
    "    return gdf.loc[:, column_names[1:]]\n",
    "\n",
    "\n",
    "def make_labels(gdf):\n",
    "    column_names = gdf.columns\n",
    "    return gdf.loc[:, column_names[:1]]"
   ]
  },
  {
   "cell_type": "code",
   "execution_count": 15,
   "metadata": {},
   "outputs": [],
   "source": [
    "dfs = [delayed(make_pandas)() for _ in range(n_workers)]"
   ]
  },
  {
   "cell_type": "code",
   "execution_count": 16,
   "metadata": {},
   "outputs": [],
   "source": [
    "gdfs = [delayed(make_cudf)(df) for df in dfs]"
   ]
  },
  {
   "cell_type": "code",
   "execution_count": 17,
   "metadata": {},
   "outputs": [
    {
     "data": {
      "text/plain": [
       "{'tcp://192.168.99.2:35684': True,\n",
       " 'tcp://192.168.99.2:38336': True,\n",
       " 'tcp://192.168.99.2:40793': True,\n",
       " 'tcp://192.168.99.2:42230': True}"
      ]
     },
     "execution_count": 17,
     "metadata": {},
     "output_type": "execute_result"
    }
   ],
   "source": [
    "client.run(cudf._gdf.rmm_finalize)"
   ]
  },
  {
   "cell_type": "code",
   "execution_count": 18,
   "metadata": {},
   "outputs": [
    {
     "data": {
      "text/plain": [
       "{'tcp://192.168.99.2:35684': True,\n",
       " 'tcp://192.168.99.2:38336': True,\n",
       " 'tcp://192.168.99.2:40793': True,\n",
       " 'tcp://192.168.99.2:42230': True}"
      ]
     },
     "execution_count": 18,
     "metadata": {},
     "output_type": "execute_result"
    }
   ],
   "source": [
    "client.run(initialize_rmm_no_pool)"
   ]
  },
  {
   "cell_type": "code",
   "execution_count": 19,
   "metadata": {},
   "outputs": [],
   "source": [
    "gpu_dfs = [[delayed(make_features)(gdf), delayed(make_labels)(gdf)] for gdf in gdfs]"
   ]
  },
  {
   "cell_type": "code",
   "execution_count": 20,
   "metadata": {},
   "outputs": [],
   "source": [
    "gpu_dfs = [delayed(xgb.DMatrix)(gpu_df[0], gpu_df[1]) for gpu_df in gpu_dfs]\n",
    "gpu_dfs = [gpu_df.persist() for gpu_df in gpu_dfs]"
   ]
  },
  {
   "cell_type": "code",
   "execution_count": 21,
   "metadata": {},
   "outputs": [
    {
     "data": {
      "text/plain": [
       "DoneAndNotDoneFutures(done={<Future: status: finished, type: DMatrix, key: DMatrix-9c109ebb-59a8-46e8-b926-f135b23673b4>, <Future: status: finished, type: DMatrix, key: DMatrix-24012372-8531-41f3-984b-fe4547c7cdb4>, <Future: status: finished, type: DMatrix, key: DMatrix-190283b7-9b3e-459c-aad8-5d36ae734cc7>, <Future: status: finished, type: DMatrix, key: DMatrix-2e53450b-966c-4532-b4b9-5e2868d43234>}, not_done=set())"
      ]
     },
     "execution_count": 21,
     "metadata": {},
     "output_type": "execute_result"
    }
   ],
   "source": [
    "wait(gpu_dfs)"
   ]
  },
  {
   "cell_type": "code",
   "execution_count": 22,
   "metadata": {},
   "outputs": [],
   "source": [
    "dxgb_gpu_params = {\n",
    "    'nround':            1000,\n",
    "    'max_depth':         8,\n",
    "    'max_leaves':        2**8,\n",
    "    'alpha':             0.9,\n",
    "    'eta':               0.1,\n",
    "    'gamma':             0.1,\n",
    "    'learning_rate':     0.1,\n",
    "    'subsample':         1,\n",
    "    'reg_lambda':        1,\n",
    "    'scale_pos_weight':  2,\n",
    "    'min_child_weight':  30,\n",
    "    'tree_method':       'gpu_hist',\n",
    "    'n_gpus':            1,\n",
    "    'distributed_dask':  True,\n",
    "    'loss':              'ls',\n",
    "    'objective':         'gpu:reg:linear',\n",
    "    'max_features':      'auto',\n",
    "    'criterion':         'friedman_mse',\n",
    "    'grow_policy':       'lossguide',\n",
    "    'verbose':           True\n",
    "}"
   ]
  },
  {
   "cell_type": "code",
   "execution_count": 23,
   "metadata": {},
   "outputs": [
    {
     "name": "stdout",
     "output_type": "stream",
     "text": [
      "CPU times: user 162 ms, sys: 382 ms, total: 544 ms\n",
      "Wall time: 53.6 s\n"
     ]
    }
   ],
   "source": [
    "%%time\n",
    "labels = None\n",
    "bst = dxgb_gpu.train(client, dxgb_gpu_params, gpu_dfs, labels, num_boost_round=dxgb_gpu_params['nround'])"
   ]
  },
  {
   "cell_type": "code",
   "execution_count": null,
   "metadata": {},
   "outputs": [],
   "source": []
  }
 ],
 "metadata": {
  "kernelspec": {
   "display_name": "Python 3",
   "language": "python",
   "name": "python3"
  },
  "language_info": {
   "codemirror_mode": {
    "name": "ipython",
    "version": 3
   },
   "file_extension": ".py",
   "mimetype": "text/x-python",
   "name": "python",
   "nbconvert_exporter": "python",
   "pygments_lexer": "ipython3",
   "version": "3.5.6"
  }
 },
 "nbformat": 4,
 "nbformat_minor": 2
}
