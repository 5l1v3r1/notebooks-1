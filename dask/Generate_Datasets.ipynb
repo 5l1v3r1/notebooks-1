{
 "cells": [
  {
   "cell_type": "code",
   "execution_count": null,
   "metadata": {},
   "outputs": [],
   "source": [
    "!nvidia-smi"
   ]
  },
  {
   "cell_type": "code",
   "execution_count": null,
   "metadata": {},
   "outputs": [],
   "source": [
    "import numpy as np\n",
    "import os\n",
    "import pandas as pd\n",
    "import time"
   ]
  },
  {
   "cell_type": "code",
   "execution_count": null,
   "metadata": {},
   "outputs": [],
   "source": [
    "def make_pandas(n_rows, n_columns):\n",
    "    X = np.random.randint(2, size=(n_rows, n_columns)).astype(np.float32)\n",
    "    df = pd.DataFrame({'fea%d'%i:X[:,i] for i in range(X.shape[1])})\n",
    "    return df"
   ]
  },
  {
   "cell_type": "code",
   "execution_count": null,
   "metadata": {},
   "outputs": [],
   "source": [
    "# dataset_sizes = [(10000, 100)]\n",
    "dataset_size = (12500, 101)  # foo\n",
    "print('Final dataset size: ({}, {})'.format(dataset_size[0] * 8, dataset_size[1]))\n",
    "\n",
    "# base_path = '/datasets/rapids/dask-examples/datasets'\n",
    "base_path = '/tmp/datasets'\n",
    "if not os.path.isdir(base_path):\n",
    "    os.mkdir(base_path)"
   ]
  },
  {
   "cell_type": "code",
   "execution_count": null,
   "metadata": {},
   "outputs": [],
   "source": [
    "n_workers = 8\n",
    "for i in range(n_workers):\n",
    "    filename = 'dataset-{}.csv'.format(i)\n",
    "    filepath = os.path.join(base_path, filename)\n",
    "    n_rows, n_columns = dataset_size\n",
    "    df = make_pandas(n_rows, n_columns)\n",
    "    print('Writing:', filename)\n",
    "    df.to_csv(filepath, index=False)\n",
    "    print('Finished!')"
   ]
  },
  {
   "cell_type": "code",
   "execution_count": null,
   "metadata": {},
   "outputs": [],
   "source": [
    "!ls -alh /tmp/datasets"
   ]
  },
  {
   "cell_type": "code",
   "execution_count": null,
   "metadata": {},
   "outputs": [],
   "source": []
  }
 ],
 "metadata": {
  "kernelspec": {
   "display_name": "Python 3",
   "language": "python",
   "name": "python3"
  },
  "language_info": {
   "codemirror_mode": {
    "name": "ipython",
    "version": 3
   },
   "file_extension": ".py",
   "mimetype": "text/x-python",
   "name": "python",
   "nbconvert_exporter": "python",
   "pygments_lexer": "ipython3",
   "version": "3.5.6"
  }
 },
 "nbformat": 4,
 "nbformat_minor": 2
}
